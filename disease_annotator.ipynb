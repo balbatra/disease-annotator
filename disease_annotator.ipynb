{
  "nbformat": 4,
  "nbformat_minor": 0,
  "metadata": {
    "colab": {
      "provenance": [],
      "authorship_tag": "ABX9TyM40cPU7RZgHq15RqV/AvrQ",
      "include_colab_link": true
    },
    "kernelspec": {
      "display_name": "Python 3",
      "name": "python3"
    },
    "widgets": {
      "application/vnd.jupyter.widget-state+json": {
        "8c203029bee348f086e928a55bba29b8": {
          "model_module": "@jupyter-widgets/controls",
          "model_name": "HBoxModel",
          "model_module_version": "1.5.0",
          "state": {
            "_dom_classes": [],
            "_model_module": "@jupyter-widgets/controls",
            "_model_module_version": "1.5.0",
            "_model_name": "HBoxModel",
            "_view_count": null,
            "_view_module": "@jupyter-widgets/controls",
            "_view_module_version": "1.5.0",
            "_view_name": "HBoxView",
            "box_style": "",
            "children": [
              "IPY_MODEL_c43b75959153407394b478f25a354b04",
              "IPY_MODEL_aaeda453480f4654b18bc2d984fb61dd",
              "IPY_MODEL_3a263d1a1b2048c3a5ae238d1cdaec4f"
            ],
            "layout": "IPY_MODEL_055c2c505c7d4b6d9b31931096e82810"
          }
        },
        "c43b75959153407394b478f25a354b04": {
          "model_module": "@jupyter-widgets/controls",
          "model_name": "HTMLModel",
          "model_module_version": "1.5.0",
          "state": {
            "_dom_classes": [],
            "_model_module": "@jupyter-widgets/controls",
            "_model_module_version": "1.5.0",
            "_model_name": "HTMLModel",
            "_view_count": null,
            "_view_module": "@jupyter-widgets/controls",
            "_view_module_version": "1.5.0",
            "_view_name": "HTMLView",
            "description": "",
            "description_tooltip": null,
            "layout": "IPY_MODEL_370318697c05436398a89fd6bb66da39",
            "placeholder": "​",
            "style": "IPY_MODEL_8c1dd3f9e9ef48ebad1f1f2425d9ee9a",
            "value": "Downloading: 100%"
          }
        },
        "aaeda453480f4654b18bc2d984fb61dd": {
          "model_module": "@jupyter-widgets/controls",
          "model_name": "FloatProgressModel",
          "model_module_version": "1.5.0",
          "state": {
            "_dom_classes": [],
            "_model_module": "@jupyter-widgets/controls",
            "_model_module_version": "1.5.0",
            "_model_name": "FloatProgressModel",
            "_view_count": null,
            "_view_module": "@jupyter-widgets/controls",
            "_view_module_version": "1.5.0",
            "_view_name": "ProgressView",
            "bar_style": "success",
            "description": "",
            "description_tooltip": null,
            "layout": "IPY_MODEL_9f7ca4180cc64ef9b9cb161efe6be930",
            "max": 213450,
            "min": 0,
            "orientation": "horizontal",
            "style": "IPY_MODEL_c1289df5da5646d59ec260ce45d3627e",
            "value": 213450
          }
        },
        "3a263d1a1b2048c3a5ae238d1cdaec4f": {
          "model_module": "@jupyter-widgets/controls",
          "model_name": "HTMLModel",
          "model_module_version": "1.5.0",
          "state": {
            "_dom_classes": [],
            "_model_module": "@jupyter-widgets/controls",
            "_model_module_version": "1.5.0",
            "_model_name": "HTMLModel",
            "_view_count": null,
            "_view_module": "@jupyter-widgets/controls",
            "_view_module_version": "1.5.0",
            "_view_name": "HTMLView",
            "description": "",
            "description_tooltip": null,
            "layout": "IPY_MODEL_1546986856474514b747ec8e6b54be40",
            "placeholder": "​",
            "style": "IPY_MODEL_4bf8b628ac7547b0b42054636b773358",
            "value": " 208k/208k [00:00&lt;00:00, 297kB/s]"
          }
        },
        "055c2c505c7d4b6d9b31931096e82810": {
          "model_module": "@jupyter-widgets/base",
          "model_name": "LayoutModel",
          "model_module_version": "1.2.0",
          "state": {
            "_model_module": "@jupyter-widgets/base",
            "_model_module_version": "1.2.0",
            "_model_name": "LayoutModel",
            "_view_count": null,
            "_view_module": "@jupyter-widgets/base",
            "_view_module_version": "1.2.0",
            "_view_name": "LayoutView",
            "align_content": null,
            "align_items": null,
            "align_self": null,
            "border": null,
            "bottom": null,
            "display": null,
            "flex": null,
            "flex_flow": null,
            "grid_area": null,
            "grid_auto_columns": null,
            "grid_auto_flow": null,
            "grid_auto_rows": null,
            "grid_column": null,
            "grid_gap": null,
            "grid_row": null,
            "grid_template_areas": null,
            "grid_template_columns": null,
            "grid_template_rows": null,
            "height": null,
            "justify_content": null,
            "justify_items": null,
            "left": null,
            "margin": null,
            "max_height": null,
            "max_width": null,
            "min_height": null,
            "min_width": null,
            "object_fit": null,
            "object_position": null,
            "order": null,
            "overflow": null,
            "overflow_x": null,
            "overflow_y": null,
            "padding": null,
            "right": null,
            "top": null,
            "visibility": null,
            "width": null
          }
        },
        "370318697c05436398a89fd6bb66da39": {
          "model_module": "@jupyter-widgets/base",
          "model_name": "LayoutModel",
          "model_module_version": "1.2.0",
          "state": {
            "_model_module": "@jupyter-widgets/base",
            "_model_module_version": "1.2.0",
            "_model_name": "LayoutModel",
            "_view_count": null,
            "_view_module": "@jupyter-widgets/base",
            "_view_module_version": "1.2.0",
            "_view_name": "LayoutView",
            "align_content": null,
            "align_items": null,
            "align_self": null,
            "border": null,
            "bottom": null,
            "display": null,
            "flex": null,
            "flex_flow": null,
            "grid_area": null,
            "grid_auto_columns": null,
            "grid_auto_flow": null,
            "grid_auto_rows": null,
            "grid_column": null,
            "grid_gap": null,
            "grid_row": null,
            "grid_template_areas": null,
            "grid_template_columns": null,
            "grid_template_rows": null,
            "height": null,
            "justify_content": null,
            "justify_items": null,
            "left": null,
            "margin": null,
            "max_height": null,
            "max_width": null,
            "min_height": null,
            "min_width": null,
            "object_fit": null,
            "object_position": null,
            "order": null,
            "overflow": null,
            "overflow_x": null,
            "overflow_y": null,
            "padding": null,
            "right": null,
            "top": null,
            "visibility": null,
            "width": null
          }
        },
        "8c1dd3f9e9ef48ebad1f1f2425d9ee9a": {
          "model_module": "@jupyter-widgets/controls",
          "model_name": "DescriptionStyleModel",
          "model_module_version": "1.5.0",
          "state": {
            "_model_module": "@jupyter-widgets/controls",
            "_model_module_version": "1.5.0",
            "_model_name": "DescriptionStyleModel",
            "_view_count": null,
            "_view_module": "@jupyter-widgets/base",
            "_view_module_version": "1.2.0",
            "_view_name": "StyleView",
            "description_width": ""
          }
        },
        "9f7ca4180cc64ef9b9cb161efe6be930": {
          "model_module": "@jupyter-widgets/base",
          "model_name": "LayoutModel",
          "model_module_version": "1.2.0",
          "state": {
            "_model_module": "@jupyter-widgets/base",
            "_model_module_version": "1.2.0",
            "_model_name": "LayoutModel",
            "_view_count": null,
            "_view_module": "@jupyter-widgets/base",
            "_view_module_version": "1.2.0",
            "_view_name": "LayoutView",
            "align_content": null,
            "align_items": null,
            "align_self": null,
            "border": null,
            "bottom": null,
            "display": null,
            "flex": null,
            "flex_flow": null,
            "grid_area": null,
            "grid_auto_columns": null,
            "grid_auto_flow": null,
            "grid_auto_rows": null,
            "grid_column": null,
            "grid_gap": null,
            "grid_row": null,
            "grid_template_areas": null,
            "grid_template_columns": null,
            "grid_template_rows": null,
            "height": null,
            "justify_content": null,
            "justify_items": null,
            "left": null,
            "margin": null,
            "max_height": null,
            "max_width": null,
            "min_height": null,
            "min_width": null,
            "object_fit": null,
            "object_position": null,
            "order": null,
            "overflow": null,
            "overflow_x": null,
            "overflow_y": null,
            "padding": null,
            "right": null,
            "top": null,
            "visibility": null,
            "width": null
          }
        },
        "c1289df5da5646d59ec260ce45d3627e": {
          "model_module": "@jupyter-widgets/controls",
          "model_name": "ProgressStyleModel",
          "model_module_version": "1.5.0",
          "state": {
            "_model_module": "@jupyter-widgets/controls",
            "_model_module_version": "1.5.0",
            "_model_name": "ProgressStyleModel",
            "_view_count": null,
            "_view_module": "@jupyter-widgets/base",
            "_view_module_version": "1.2.0",
            "_view_name": "StyleView",
            "bar_color": null,
            "description_width": ""
          }
        },
        "1546986856474514b747ec8e6b54be40": {
          "model_module": "@jupyter-widgets/base",
          "model_name": "LayoutModel",
          "model_module_version": "1.2.0",
          "state": {
            "_model_module": "@jupyter-widgets/base",
            "_model_module_version": "1.2.0",
            "_model_name": "LayoutModel",
            "_view_count": null,
            "_view_module": "@jupyter-widgets/base",
            "_view_module_version": "1.2.0",
            "_view_name": "LayoutView",
            "align_content": null,
            "align_items": null,
            "align_self": null,
            "border": null,
            "bottom": null,
            "display": null,
            "flex": null,
            "flex_flow": null,
            "grid_area": null,
            "grid_auto_columns": null,
            "grid_auto_flow": null,
            "grid_auto_rows": null,
            "grid_column": null,
            "grid_gap": null,
            "grid_row": null,
            "grid_template_areas": null,
            "grid_template_columns": null,
            "grid_template_rows": null,
            "height": null,
            "justify_content": null,
            "justify_items": null,
            "left": null,
            "margin": null,
            "max_height": null,
            "max_width": null,
            "min_height": null,
            "min_width": null,
            "object_fit": null,
            "object_position": null,
            "order": null,
            "overflow": null,
            "overflow_x": null,
            "overflow_y": null,
            "padding": null,
            "right": null,
            "top": null,
            "visibility": null,
            "width": null
          }
        },
        "4bf8b628ac7547b0b42054636b773358": {
          "model_module": "@jupyter-widgets/controls",
          "model_name": "DescriptionStyleModel",
          "model_module_version": "1.5.0",
          "state": {
            "_model_module": "@jupyter-widgets/controls",
            "_model_module_version": "1.5.0",
            "_model_name": "DescriptionStyleModel",
            "_view_count": null,
            "_view_module": "@jupyter-widgets/base",
            "_view_module_version": "1.2.0",
            "_view_name": "StyleView",
            "description_width": ""
          }
        },
        "5d224dde43d541e1ac70c7cd32d909d7": {
          "model_module": "@jupyter-widgets/controls",
          "model_name": "HBoxModel",
          "model_module_version": "1.5.0",
          "state": {
            "_dom_classes": [],
            "_model_module": "@jupyter-widgets/controls",
            "_model_module_version": "1.5.0",
            "_model_name": "HBoxModel",
            "_view_count": null,
            "_view_module": "@jupyter-widgets/controls",
            "_view_module_version": "1.5.0",
            "_view_name": "HBoxView",
            "box_style": "",
            "children": [
              "IPY_MODEL_3fda83a395ed4a3fa5afd4042a87af8e",
              "IPY_MODEL_60ac488406fd42b2b944ef4a185445da",
              "IPY_MODEL_3c015c6100d6423eae42dd62e65ce333"
            ],
            "layout": "IPY_MODEL_c74769cd7c494a36950c25086e6fc28e"
          }
        },
        "3fda83a395ed4a3fa5afd4042a87af8e": {
          "model_module": "@jupyter-widgets/controls",
          "model_name": "HTMLModel",
          "model_module_version": "1.5.0",
          "state": {
            "_dom_classes": [],
            "_model_module": "@jupyter-widgets/controls",
            "_model_module_version": "1.5.0",
            "_model_name": "HTMLModel",
            "_view_count": null,
            "_view_module": "@jupyter-widgets/controls",
            "_view_module_version": "1.5.0",
            "_view_name": "HTMLView",
            "description": "",
            "description_tooltip": null,
            "layout": "IPY_MODEL_f2865959c27d4743907864b22acae366",
            "placeholder": "​",
            "style": "IPY_MODEL_e476689e24574191805d0557c16866b9",
            "value": "Downloading: 100%"
          }
        },
        "60ac488406fd42b2b944ef4a185445da": {
          "model_module": "@jupyter-widgets/controls",
          "model_name": "FloatProgressModel",
          "model_module_version": "1.5.0",
          "state": {
            "_dom_classes": [],
            "_model_module": "@jupyter-widgets/controls",
            "_model_module_version": "1.5.0",
            "_model_name": "FloatProgressModel",
            "_view_count": null,
            "_view_module": "@jupyter-widgets/controls",
            "_view_module_version": "1.5.0",
            "_view_name": "ProgressView",
            "bar_style": "success",
            "description": "",
            "description_tooltip": null,
            "layout": "IPY_MODEL_a0ed8e5c14004397b6554bdedd261fa8",
            "max": 1110,
            "min": 0,
            "orientation": "horizontal",
            "style": "IPY_MODEL_ab2a9efa177d4629b9b18ec156eebc01",
            "value": 1110
          }
        },
        "3c015c6100d6423eae42dd62e65ce333": {
          "model_module": "@jupyter-widgets/controls",
          "model_name": "HTMLModel",
          "model_module_version": "1.5.0",
          "state": {
            "_dom_classes": [],
            "_model_module": "@jupyter-widgets/controls",
            "_model_module_version": "1.5.0",
            "_model_name": "HTMLModel",
            "_view_count": null,
            "_view_module": "@jupyter-widgets/controls",
            "_view_module_version": "1.5.0",
            "_view_name": "HTMLView",
            "description": "",
            "description_tooltip": null,
            "layout": "IPY_MODEL_830646e8e565487f9d0453750caf2eab",
            "placeholder": "​",
            "style": "IPY_MODEL_79e311af6c194f0fb55a1701292bc6c1",
            "value": " 1.08k/1.08k [00:00&lt;00:00, 9.44kB/s]"
          }
        },
        "c74769cd7c494a36950c25086e6fc28e": {
          "model_module": "@jupyter-widgets/base",
          "model_name": "LayoutModel",
          "model_module_version": "1.2.0",
          "state": {
            "_model_module": "@jupyter-widgets/base",
            "_model_module_version": "1.2.0",
            "_model_name": "LayoutModel",
            "_view_count": null,
            "_view_module": "@jupyter-widgets/base",
            "_view_module_version": "1.2.0",
            "_view_name": "LayoutView",
            "align_content": null,
            "align_items": null,
            "align_self": null,
            "border": null,
            "bottom": null,
            "display": null,
            "flex": null,
            "flex_flow": null,
            "grid_area": null,
            "grid_auto_columns": null,
            "grid_auto_flow": null,
            "grid_auto_rows": null,
            "grid_column": null,
            "grid_gap": null,
            "grid_row": null,
            "grid_template_areas": null,
            "grid_template_columns": null,
            "grid_template_rows": null,
            "height": null,
            "justify_content": null,
            "justify_items": null,
            "left": null,
            "margin": null,
            "max_height": null,
            "max_width": null,
            "min_height": null,
            "min_width": null,
            "object_fit": null,
            "object_position": null,
            "order": null,
            "overflow": null,
            "overflow_x": null,
            "overflow_y": null,
            "padding": null,
            "right": null,
            "top": null,
            "visibility": null,
            "width": null
          }
        },
        "f2865959c27d4743907864b22acae366": {
          "model_module": "@jupyter-widgets/base",
          "model_name": "LayoutModel",
          "model_module_version": "1.2.0",
          "state": {
            "_model_module": "@jupyter-widgets/base",
            "_model_module_version": "1.2.0",
            "_model_name": "LayoutModel",
            "_view_count": null,
            "_view_module": "@jupyter-widgets/base",
            "_view_module_version": "1.2.0",
            "_view_name": "LayoutView",
            "align_content": null,
            "align_items": null,
            "align_self": null,
            "border": null,
            "bottom": null,
            "display": null,
            "flex": null,
            "flex_flow": null,
            "grid_area": null,
            "grid_auto_columns": null,
            "grid_auto_flow": null,
            "grid_auto_rows": null,
            "grid_column": null,
            "grid_gap": null,
            "grid_row": null,
            "grid_template_areas": null,
            "grid_template_columns": null,
            "grid_template_rows": null,
            "height": null,
            "justify_content": null,
            "justify_items": null,
            "left": null,
            "margin": null,
            "max_height": null,
            "max_width": null,
            "min_height": null,
            "min_width": null,
            "object_fit": null,
            "object_position": null,
            "order": null,
            "overflow": null,
            "overflow_x": null,
            "overflow_y": null,
            "padding": null,
            "right": null,
            "top": null,
            "visibility": null,
            "width": null
          }
        },
        "e476689e24574191805d0557c16866b9": {
          "model_module": "@jupyter-widgets/controls",
          "model_name": "DescriptionStyleModel",
          "model_module_version": "1.5.0",
          "state": {
            "_model_module": "@jupyter-widgets/controls",
            "_model_module_version": "1.5.0",
            "_model_name": "DescriptionStyleModel",
            "_view_count": null,
            "_view_module": "@jupyter-widgets/base",
            "_view_module_version": "1.2.0",
            "_view_name": "StyleView",
            "description_width": ""
          }
        },
        "a0ed8e5c14004397b6554bdedd261fa8": {
          "model_module": "@jupyter-widgets/base",
          "model_name": "LayoutModel",
          "model_module_version": "1.2.0",
          "state": {
            "_model_module": "@jupyter-widgets/base",
            "_model_module_version": "1.2.0",
            "_model_name": "LayoutModel",
            "_view_count": null,
            "_view_module": "@jupyter-widgets/base",
            "_view_module_version": "1.2.0",
            "_view_name": "LayoutView",
            "align_content": null,
            "align_items": null,
            "align_self": null,
            "border": null,
            "bottom": null,
            "display": null,
            "flex": null,
            "flex_flow": null,
            "grid_area": null,
            "grid_auto_columns": null,
            "grid_auto_flow": null,
            "grid_auto_rows": null,
            "grid_column": null,
            "grid_gap": null,
            "grid_row": null,
            "grid_template_areas": null,
            "grid_template_columns": null,
            "grid_template_rows": null,
            "height": null,
            "justify_content": null,
            "justify_items": null,
            "left": null,
            "margin": null,
            "max_height": null,
            "max_width": null,
            "min_height": null,
            "min_width": null,
            "object_fit": null,
            "object_position": null,
            "order": null,
            "overflow": null,
            "overflow_x": null,
            "overflow_y": null,
            "padding": null,
            "right": null,
            "top": null,
            "visibility": null,
            "width": null
          }
        },
        "ab2a9efa177d4629b9b18ec156eebc01": {
          "model_module": "@jupyter-widgets/controls",
          "model_name": "ProgressStyleModel",
          "model_module_version": "1.5.0",
          "state": {
            "_model_module": "@jupyter-widgets/controls",
            "_model_module_version": "1.5.0",
            "_model_name": "ProgressStyleModel",
            "_view_count": null,
            "_view_module": "@jupyter-widgets/base",
            "_view_module_version": "1.2.0",
            "_view_name": "StyleView",
            "bar_color": null,
            "description_width": ""
          }
        },
        "830646e8e565487f9d0453750caf2eab": {
          "model_module": "@jupyter-widgets/base",
          "model_name": "LayoutModel",
          "model_module_version": "1.2.0",
          "state": {
            "_model_module": "@jupyter-widgets/base",
            "_model_module_version": "1.2.0",
            "_model_name": "LayoutModel",
            "_view_count": null,
            "_view_module": "@jupyter-widgets/base",
            "_view_module_version": "1.2.0",
            "_view_name": "LayoutView",
            "align_content": null,
            "align_items": null,
            "align_self": null,
            "border": null,
            "bottom": null,
            "display": null,
            "flex": null,
            "flex_flow": null,
            "grid_area": null,
            "grid_auto_columns": null,
            "grid_auto_flow": null,
            "grid_auto_rows": null,
            "grid_column": null,
            "grid_gap": null,
            "grid_row": null,
            "grid_template_areas": null,
            "grid_template_columns": null,
            "grid_template_rows": null,
            "height": null,
            "justify_content": null,
            "justify_items": null,
            "left": null,
            "margin": null,
            "max_height": null,
            "max_width": null,
            "min_height": null,
            "min_width": null,
            "object_fit": null,
            "object_position": null,
            "order": null,
            "overflow": null,
            "overflow_x": null,
            "overflow_y": null,
            "padding": null,
            "right": null,
            "top": null,
            "visibility": null,
            "width": null
          }
        },
        "79e311af6c194f0fb55a1701292bc6c1": {
          "model_module": "@jupyter-widgets/controls",
          "model_name": "DescriptionStyleModel",
          "model_module_version": "1.5.0",
          "state": {
            "_model_module": "@jupyter-widgets/controls",
            "_model_module_version": "1.5.0",
            "_model_name": "DescriptionStyleModel",
            "_view_count": null,
            "_view_module": "@jupyter-widgets/base",
            "_view_module_version": "1.2.0",
            "_view_name": "StyleView",
            "description_width": ""
          }
        },
        "82ebe56a966141e68093320d988c4ef0": {
          "model_module": "@jupyter-widgets/controls",
          "model_name": "HBoxModel",
          "model_module_version": "1.5.0",
          "state": {
            "_dom_classes": [],
            "_model_module": "@jupyter-widgets/controls",
            "_model_module_version": "1.5.0",
            "_model_name": "HBoxModel",
            "_view_count": null,
            "_view_module": "@jupyter-widgets/controls",
            "_view_module_version": "1.5.0",
            "_view_name": "HBoxView",
            "box_style": "",
            "children": [
              "IPY_MODEL_e65b58703c6f4235a29a8d17b5df2323",
              "IPY_MODEL_ccd273d636ed4ca084ef3cc0b79da3ac",
              "IPY_MODEL_73a339ce9f514aa690368052718339bf"
            ],
            "layout": "IPY_MODEL_8c5955ffc85e4cb7a30ff1d2fae7ed57"
          }
        },
        "e65b58703c6f4235a29a8d17b5df2323": {
          "model_module": "@jupyter-widgets/controls",
          "model_name": "HTMLModel",
          "model_module_version": "1.5.0",
          "state": {
            "_dom_classes": [],
            "_model_module": "@jupyter-widgets/controls",
            "_model_module_version": "1.5.0",
            "_model_name": "HTMLModel",
            "_view_count": null,
            "_view_module": "@jupyter-widgets/controls",
            "_view_module_version": "1.5.0",
            "_view_name": "HTMLView",
            "description": "",
            "description_tooltip": null,
            "layout": "IPY_MODEL_8c341f0677ca41738e12851d15b69f44",
            "placeholder": "​",
            "style": "IPY_MODEL_b7d494e9aba1417c91cbaf7bd27e0a0f",
            "value": "Downloading: 100%"
          }
        },
        "ccd273d636ed4ca084ef3cc0b79da3ac": {
          "model_module": "@jupyter-widgets/controls",
          "model_name": "FloatProgressModel",
          "model_module_version": "1.5.0",
          "state": {
            "_dom_classes": [],
            "_model_module": "@jupyter-widgets/controls",
            "_model_module_version": "1.5.0",
            "_model_name": "FloatProgressModel",
            "_view_count": null,
            "_view_module": "@jupyter-widgets/controls",
            "_view_module_version": "1.5.0",
            "_view_name": "ProgressView",
            "bar_style": "success",
            "description": "",
            "description_tooltip": null,
            "layout": "IPY_MODEL_fc7f7ecda40f4baaa838cfdc3d3d10d5",
            "max": 435783451,
            "min": 0,
            "orientation": "horizontal",
            "style": "IPY_MODEL_e84098c9d290481e99671bc0e4e2561f",
            "value": 435783451
          }
        },
        "73a339ce9f514aa690368052718339bf": {
          "model_module": "@jupyter-widgets/controls",
          "model_name": "HTMLModel",
          "model_module_version": "1.5.0",
          "state": {
            "_dom_classes": [],
            "_model_module": "@jupyter-widgets/controls",
            "_model_module_version": "1.5.0",
            "_model_name": "HTMLModel",
            "_view_count": null,
            "_view_module": "@jupyter-widgets/controls",
            "_view_module_version": "1.5.0",
            "_view_name": "HTMLView",
            "description": "",
            "description_tooltip": null,
            "layout": "IPY_MODEL_2c9dd833d83f488180963953eac30f6d",
            "placeholder": "​",
            "style": "IPY_MODEL_7500199f77cd46b4abe6dd06f56e3609",
            "value": " 416M/416M [00:22&lt;00:00, 24.9MB/s]"
          }
        },
        "8c5955ffc85e4cb7a30ff1d2fae7ed57": {
          "model_module": "@jupyter-widgets/base",
          "model_name": "LayoutModel",
          "model_module_version": "1.2.0",
          "state": {
            "_model_module": "@jupyter-widgets/base",
            "_model_module_version": "1.2.0",
            "_model_name": "LayoutModel",
            "_view_count": null,
            "_view_module": "@jupyter-widgets/base",
            "_view_module_version": "1.2.0",
            "_view_name": "LayoutView",
            "align_content": null,
            "align_items": null,
            "align_self": null,
            "border": null,
            "bottom": null,
            "display": null,
            "flex": null,
            "flex_flow": null,
            "grid_area": null,
            "grid_auto_columns": null,
            "grid_auto_flow": null,
            "grid_auto_rows": null,
            "grid_column": null,
            "grid_gap": null,
            "grid_row": null,
            "grid_template_areas": null,
            "grid_template_columns": null,
            "grid_template_rows": null,
            "height": null,
            "justify_content": null,
            "justify_items": null,
            "left": null,
            "margin": null,
            "max_height": null,
            "max_width": null,
            "min_height": null,
            "min_width": null,
            "object_fit": null,
            "object_position": null,
            "order": null,
            "overflow": null,
            "overflow_x": null,
            "overflow_y": null,
            "padding": null,
            "right": null,
            "top": null,
            "visibility": null,
            "width": null
          }
        },
        "8c341f0677ca41738e12851d15b69f44": {
          "model_module": "@jupyter-widgets/base",
          "model_name": "LayoutModel",
          "model_module_version": "1.2.0",
          "state": {
            "_model_module": "@jupyter-widgets/base",
            "_model_module_version": "1.2.0",
            "_model_name": "LayoutModel",
            "_view_count": null,
            "_view_module": "@jupyter-widgets/base",
            "_view_module_version": "1.2.0",
            "_view_name": "LayoutView",
            "align_content": null,
            "align_items": null,
            "align_self": null,
            "border": null,
            "bottom": null,
            "display": null,
            "flex": null,
            "flex_flow": null,
            "grid_area": null,
            "grid_auto_columns": null,
            "grid_auto_flow": null,
            "grid_auto_rows": null,
            "grid_column": null,
            "grid_gap": null,
            "grid_row": null,
            "grid_template_areas": null,
            "grid_template_columns": null,
            "grid_template_rows": null,
            "height": null,
            "justify_content": null,
            "justify_items": null,
            "left": null,
            "margin": null,
            "max_height": null,
            "max_width": null,
            "min_height": null,
            "min_width": null,
            "object_fit": null,
            "object_position": null,
            "order": null,
            "overflow": null,
            "overflow_x": null,
            "overflow_y": null,
            "padding": null,
            "right": null,
            "top": null,
            "visibility": null,
            "width": null
          }
        },
        "b7d494e9aba1417c91cbaf7bd27e0a0f": {
          "model_module": "@jupyter-widgets/controls",
          "model_name": "DescriptionStyleModel",
          "model_module_version": "1.5.0",
          "state": {
            "_model_module": "@jupyter-widgets/controls",
            "_model_module_version": "1.5.0",
            "_model_name": "DescriptionStyleModel",
            "_view_count": null,
            "_view_module": "@jupyter-widgets/base",
            "_view_module_version": "1.2.0",
            "_view_name": "StyleView",
            "description_width": ""
          }
        },
        "fc7f7ecda40f4baaa838cfdc3d3d10d5": {
          "model_module": "@jupyter-widgets/base",
          "model_name": "LayoutModel",
          "model_module_version": "1.2.0",
          "state": {
            "_model_module": "@jupyter-widgets/base",
            "_model_module_version": "1.2.0",
            "_model_name": "LayoutModel",
            "_view_count": null,
            "_view_module": "@jupyter-widgets/base",
            "_view_module_version": "1.2.0",
            "_view_name": "LayoutView",
            "align_content": null,
            "align_items": null,
            "align_self": null,
            "border": null,
            "bottom": null,
            "display": null,
            "flex": null,
            "flex_flow": null,
            "grid_area": null,
            "grid_auto_columns": null,
            "grid_auto_flow": null,
            "grid_auto_rows": null,
            "grid_column": null,
            "grid_gap": null,
            "grid_row": null,
            "grid_template_areas": null,
            "grid_template_columns": null,
            "grid_template_rows": null,
            "height": null,
            "justify_content": null,
            "justify_items": null,
            "left": null,
            "margin": null,
            "max_height": null,
            "max_width": null,
            "min_height": null,
            "min_width": null,
            "object_fit": null,
            "object_position": null,
            "order": null,
            "overflow": null,
            "overflow_x": null,
            "overflow_y": null,
            "padding": null,
            "right": null,
            "top": null,
            "visibility": null,
            "width": null
          }
        },
        "e84098c9d290481e99671bc0e4e2561f": {
          "model_module": "@jupyter-widgets/controls",
          "model_name": "ProgressStyleModel",
          "model_module_version": "1.5.0",
          "state": {
            "_model_module": "@jupyter-widgets/controls",
            "_model_module_version": "1.5.0",
            "_model_name": "ProgressStyleModel",
            "_view_count": null,
            "_view_module": "@jupyter-widgets/base",
            "_view_module_version": "1.2.0",
            "_view_name": "StyleView",
            "bar_color": null,
            "description_width": ""
          }
        },
        "2c9dd833d83f488180963953eac30f6d": {
          "model_module": "@jupyter-widgets/base",
          "model_name": "LayoutModel",
          "model_module_version": "1.2.0",
          "state": {
            "_model_module": "@jupyter-widgets/base",
            "_model_module_version": "1.2.0",
            "_model_name": "LayoutModel",
            "_view_count": null,
            "_view_module": "@jupyter-widgets/base",
            "_view_module_version": "1.2.0",
            "_view_name": "LayoutView",
            "align_content": null,
            "align_items": null,
            "align_self": null,
            "border": null,
            "bottom": null,
            "display": null,
            "flex": null,
            "flex_flow": null,
            "grid_area": null,
            "grid_auto_columns": null,
            "grid_auto_flow": null,
            "grid_auto_rows": null,
            "grid_column": null,
            "grid_gap": null,
            "grid_row": null,
            "grid_template_areas": null,
            "grid_template_columns": null,
            "grid_template_rows": null,
            "height": null,
            "justify_content": null,
            "justify_items": null,
            "left": null,
            "margin": null,
            "max_height": null,
            "max_width": null,
            "min_height": null,
            "min_width": null,
            "object_fit": null,
            "object_position": null,
            "order": null,
            "overflow": null,
            "overflow_x": null,
            "overflow_y": null,
            "padding": null,
            "right": null,
            "top": null,
            "visibility": null,
            "width": null
          }
        },
        "7500199f77cd46b4abe6dd06f56e3609": {
          "model_module": "@jupyter-widgets/controls",
          "model_name": "DescriptionStyleModel",
          "model_module_version": "1.5.0",
          "state": {
            "_model_module": "@jupyter-widgets/controls",
            "_model_module_version": "1.5.0",
            "_model_name": "DescriptionStyleModel",
            "_view_count": null,
            "_view_module": "@jupyter-widgets/base",
            "_view_module_version": "1.2.0",
            "_view_name": "StyleView",
            "description_width": ""
          }
        },
        "40eb263bc20d40e9a142cdecd5c05360": {
          "model_module": "@jupyter-widgets/controls",
          "model_name": "HBoxModel",
          "model_module_version": "1.5.0",
          "state": {
            "_dom_classes": [],
            "_model_module": "@jupyter-widgets/controls",
            "_model_module_version": "1.5.0",
            "_model_name": "HBoxModel",
            "_view_count": null,
            "_view_module": "@jupyter-widgets/controls",
            "_view_module_version": "1.5.0",
            "_view_name": "HBoxView",
            "box_style": "",
            "children": [
              "IPY_MODEL_c7d90a8c8a5846bfa29a5e1bd71d0154",
              "IPY_MODEL_545c3581135c4b64bc1971e8f1db4bb8",
              "IPY_MODEL_a8b8f52e86754bcebcf6f0a57a8be279"
            ],
            "layout": "IPY_MODEL_b0966d09aa924854b3983250e7680003"
          }
        },
        "c7d90a8c8a5846bfa29a5e1bd71d0154": {
          "model_module": "@jupyter-widgets/controls",
          "model_name": "HTMLModel",
          "model_module_version": "1.5.0",
          "state": {
            "_dom_classes": [],
            "_model_module": "@jupyter-widgets/controls",
            "_model_module_version": "1.5.0",
            "_model_name": "HTMLModel",
            "_view_count": null,
            "_view_module": "@jupyter-widgets/controls",
            "_view_module_version": "1.5.0",
            "_view_name": "HTMLView",
            "description": "",
            "description_tooltip": null,
            "layout": "IPY_MODEL_b0e88b19ee78418888e053670b2bd9a2",
            "placeholder": "​",
            "style": "IPY_MODEL_22899254c8ba4ac8b657a2f2afbf8a71",
            "value": "Downloading: 100%"
          }
        },
        "545c3581135c4b64bc1971e8f1db4bb8": {
          "model_module": "@jupyter-widgets/controls",
          "model_name": "FloatProgressModel",
          "model_module_version": "1.5.0",
          "state": {
            "_dom_classes": [],
            "_model_module": "@jupyter-widgets/controls",
            "_model_module_version": "1.5.0",
            "_model_name": "FloatProgressModel",
            "_view_count": null,
            "_view_module": "@jupyter-widgets/controls",
            "_view_module_version": "1.5.0",
            "_view_name": "ProgressView",
            "bar_style": "success",
            "description": "",
            "description_tooltip": null,
            "layout": "IPY_MODEL_ee783cb5e7ac4c0d99d38555fe8a6d19",
            "max": 313,
            "min": 0,
            "orientation": "horizontal",
            "style": "IPY_MODEL_4192bc915e0e434e904b7e17685800fb",
            "value": 313
          }
        },
        "a8b8f52e86754bcebcf6f0a57a8be279": {
          "model_module": "@jupyter-widgets/controls",
          "model_name": "HTMLModel",
          "model_module_version": "1.5.0",
          "state": {
            "_dom_classes": [],
            "_model_module": "@jupyter-widgets/controls",
            "_model_module_version": "1.5.0",
            "_model_name": "HTMLModel",
            "_view_count": null,
            "_view_module": "@jupyter-widgets/controls",
            "_view_module_version": "1.5.0",
            "_view_name": "HTMLView",
            "description": "",
            "description_tooltip": null,
            "layout": "IPY_MODEL_745ce6f32e6e40a093f6049064a919a1",
            "placeholder": "​",
            "style": "IPY_MODEL_c1022334bb9f4c4183ad0e2a059ef65b",
            "value": " 313/313 [00:00&lt;00:00, 2.30kB/s]"
          }
        },
        "b0966d09aa924854b3983250e7680003": {
          "model_module": "@jupyter-widgets/base",
          "model_name": "LayoutModel",
          "model_module_version": "1.2.0",
          "state": {
            "_model_module": "@jupyter-widgets/base",
            "_model_module_version": "1.2.0",
            "_model_name": "LayoutModel",
            "_view_count": null,
            "_view_module": "@jupyter-widgets/base",
            "_view_module_version": "1.2.0",
            "_view_name": "LayoutView",
            "align_content": null,
            "align_items": null,
            "align_self": null,
            "border": null,
            "bottom": null,
            "display": null,
            "flex": null,
            "flex_flow": null,
            "grid_area": null,
            "grid_auto_columns": null,
            "grid_auto_flow": null,
            "grid_auto_rows": null,
            "grid_column": null,
            "grid_gap": null,
            "grid_row": null,
            "grid_template_areas": null,
            "grid_template_columns": null,
            "grid_template_rows": null,
            "height": null,
            "justify_content": null,
            "justify_items": null,
            "left": null,
            "margin": null,
            "max_height": null,
            "max_width": null,
            "min_height": null,
            "min_width": null,
            "object_fit": null,
            "object_position": null,
            "order": null,
            "overflow": null,
            "overflow_x": null,
            "overflow_y": null,
            "padding": null,
            "right": null,
            "top": null,
            "visibility": null,
            "width": null
          }
        },
        "b0e88b19ee78418888e053670b2bd9a2": {
          "model_module": "@jupyter-widgets/base",
          "model_name": "LayoutModel",
          "model_module_version": "1.2.0",
          "state": {
            "_model_module": "@jupyter-widgets/base",
            "_model_module_version": "1.2.0",
            "_model_name": "LayoutModel",
            "_view_count": null,
            "_view_module": "@jupyter-widgets/base",
            "_view_module_version": "1.2.0",
            "_view_name": "LayoutView",
            "align_content": null,
            "align_items": null,
            "align_self": null,
            "border": null,
            "bottom": null,
            "display": null,
            "flex": null,
            "flex_flow": null,
            "grid_area": null,
            "grid_auto_columns": null,
            "grid_auto_flow": null,
            "grid_auto_rows": null,
            "grid_column": null,
            "grid_gap": null,
            "grid_row": null,
            "grid_template_areas": null,
            "grid_template_columns": null,
            "grid_template_rows": null,
            "height": null,
            "justify_content": null,
            "justify_items": null,
            "left": null,
            "margin": null,
            "max_height": null,
            "max_width": null,
            "min_height": null,
            "min_width": null,
            "object_fit": null,
            "object_position": null,
            "order": null,
            "overflow": null,
            "overflow_x": null,
            "overflow_y": null,
            "padding": null,
            "right": null,
            "top": null,
            "visibility": null,
            "width": null
          }
        },
        "22899254c8ba4ac8b657a2f2afbf8a71": {
          "model_module": "@jupyter-widgets/controls",
          "model_name": "DescriptionStyleModel",
          "model_module_version": "1.5.0",
          "state": {
            "_model_module": "@jupyter-widgets/controls",
            "_model_module_version": "1.5.0",
            "_model_name": "DescriptionStyleModel",
            "_view_count": null,
            "_view_module": "@jupyter-widgets/base",
            "_view_module_version": "1.2.0",
            "_view_name": "StyleView",
            "description_width": ""
          }
        },
        "ee783cb5e7ac4c0d99d38555fe8a6d19": {
          "model_module": "@jupyter-widgets/base",
          "model_name": "LayoutModel",
          "model_module_version": "1.2.0",
          "state": {
            "_model_module": "@jupyter-widgets/base",
            "_model_module_version": "1.2.0",
            "_model_name": "LayoutModel",
            "_view_count": null,
            "_view_module": "@jupyter-widgets/base",
            "_view_module_version": "1.2.0",
            "_view_name": "LayoutView",
            "align_content": null,
            "align_items": null,
            "align_self": null,
            "border": null,
            "bottom": null,
            "display": null,
            "flex": null,
            "flex_flow": null,
            "grid_area": null,
            "grid_auto_columns": null,
            "grid_auto_flow": null,
            "grid_auto_rows": null,
            "grid_column": null,
            "grid_gap": null,
            "grid_row": null,
            "grid_template_areas": null,
            "grid_template_columns": null,
            "grid_template_rows": null,
            "height": null,
            "justify_content": null,
            "justify_items": null,
            "left": null,
            "margin": null,
            "max_height": null,
            "max_width": null,
            "min_height": null,
            "min_width": null,
            "object_fit": null,
            "object_position": null,
            "order": null,
            "overflow": null,
            "overflow_x": null,
            "overflow_y": null,
            "padding": null,
            "right": null,
            "top": null,
            "visibility": null,
            "width": null
          }
        },
        "4192bc915e0e434e904b7e17685800fb": {
          "model_module": "@jupyter-widgets/controls",
          "model_name": "ProgressStyleModel",
          "model_module_version": "1.5.0",
          "state": {
            "_model_module": "@jupyter-widgets/controls",
            "_model_module_version": "1.5.0",
            "_model_name": "ProgressStyleModel",
            "_view_count": null,
            "_view_module": "@jupyter-widgets/base",
            "_view_module_version": "1.2.0",
            "_view_name": "StyleView",
            "bar_color": null,
            "description_width": ""
          }
        },
        "745ce6f32e6e40a093f6049064a919a1": {
          "model_module": "@jupyter-widgets/base",
          "model_name": "LayoutModel",
          "model_module_version": "1.2.0",
          "state": {
            "_model_module": "@jupyter-widgets/base",
            "_model_module_version": "1.2.0",
            "_model_name": "LayoutModel",
            "_view_count": null,
            "_view_module": "@jupyter-widgets/base",
            "_view_module_version": "1.2.0",
            "_view_name": "LayoutView",
            "align_content": null,
            "align_items": null,
            "align_self": null,
            "border": null,
            "bottom": null,
            "display": null,
            "flex": null,
            "flex_flow": null,
            "grid_area": null,
            "grid_auto_columns": null,
            "grid_auto_flow": null,
            "grid_auto_rows": null,
            "grid_column": null,
            "grid_gap": null,
            "grid_row": null,
            "grid_template_areas": null,
            "grid_template_columns": null,
            "grid_template_rows": null,
            "height": null,
            "justify_content": null,
            "justify_items": null,
            "left": null,
            "margin": null,
            "max_height": null,
            "max_width": null,
            "min_height": null,
            "min_width": null,
            "object_fit": null,
            "object_position": null,
            "order": null,
            "overflow": null,
            "overflow_x": null,
            "overflow_y": null,
            "padding": null,
            "right": null,
            "top": null,
            "visibility": null,
            "width": null
          }
        },
        "c1022334bb9f4c4183ad0e2a059ef65b": {
          "model_module": "@jupyter-widgets/controls",
          "model_name": "DescriptionStyleModel",
          "model_module_version": "1.5.0",
          "state": {
            "_model_module": "@jupyter-widgets/controls",
            "_model_module_version": "1.5.0",
            "_model_name": "DescriptionStyleModel",
            "_view_count": null,
            "_view_module": "@jupyter-widgets/base",
            "_view_module_version": "1.2.0",
            "_view_name": "StyleView",
            "description_width": ""
          }
        },
        "f623d40aa83e4197900a0ae46c62543e": {
          "model_module": "@jupyter-widgets/controls",
          "model_name": "HBoxModel",
          "model_module_version": "1.5.0",
          "state": {
            "_dom_classes": [],
            "_model_module": "@jupyter-widgets/controls",
            "_model_module_version": "1.5.0",
            "_model_name": "HBoxModel",
            "_view_count": null,
            "_view_module": "@jupyter-widgets/controls",
            "_view_module_version": "1.5.0",
            "_view_name": "HBoxView",
            "box_style": "",
            "children": [
              "IPY_MODEL_7554a3ad5e284f0ca6a40374dca1dc0d",
              "IPY_MODEL_5fba35b3327e4a32a9bca2a91fda0b3c",
              "IPY_MODEL_071dc1f383bd4e46b2d762682d77aa5c"
            ],
            "layout": "IPY_MODEL_218cfc0b9d1341ddb7adadad3769c3b1"
          }
        },
        "7554a3ad5e284f0ca6a40374dca1dc0d": {
          "model_module": "@jupyter-widgets/controls",
          "model_name": "HTMLModel",
          "model_module_version": "1.5.0",
          "state": {
            "_dom_classes": [],
            "_model_module": "@jupyter-widgets/controls",
            "_model_module_version": "1.5.0",
            "_model_name": "HTMLModel",
            "_view_count": null,
            "_view_module": "@jupyter-widgets/controls",
            "_view_module_version": "1.5.0",
            "_view_name": "HTMLView",
            "description": "",
            "description_tooltip": null,
            "layout": "IPY_MODEL_1a2986ff629e44529c219f74bfc3692f",
            "placeholder": "​",
            "style": "IPY_MODEL_30a35b8dbdb44a81bd002e99d6fcb658",
            "value": "Downloading: 100%"
          }
        },
        "5fba35b3327e4a32a9bca2a91fda0b3c": {
          "model_module": "@jupyter-widgets/controls",
          "model_name": "FloatProgressModel",
          "model_module_version": "1.5.0",
          "state": {
            "_dom_classes": [],
            "_model_module": "@jupyter-widgets/controls",
            "_model_module_version": "1.5.0",
            "_model_name": "FloatProgressModel",
            "_view_count": null,
            "_view_module": "@jupyter-widgets/controls",
            "_view_module_version": "1.5.0",
            "_view_name": "ProgressView",
            "bar_style": "success",
            "description": "",
            "description_tooltip": null,
            "layout": "IPY_MODEL_3924565793704a5091d0c729acef6da8",
            "max": 213450,
            "min": 0,
            "orientation": "horizontal",
            "style": "IPY_MODEL_11cff03a77a24c3cb6a7d24e0a4789f8",
            "value": 213450
          }
        },
        "071dc1f383bd4e46b2d762682d77aa5c": {
          "model_module": "@jupyter-widgets/controls",
          "model_name": "HTMLModel",
          "model_module_version": "1.5.0",
          "state": {
            "_dom_classes": [],
            "_model_module": "@jupyter-widgets/controls",
            "_model_module_version": "1.5.0",
            "_model_name": "HTMLModel",
            "_view_count": null,
            "_view_module": "@jupyter-widgets/controls",
            "_view_module_version": "1.5.0",
            "_view_name": "HTMLView",
            "description": "",
            "description_tooltip": null,
            "layout": "IPY_MODEL_2a6924d6388141cf9f5e76e21fea1a35",
            "placeholder": "​",
            "style": "IPY_MODEL_7002c9ccf8024cab98b6364bcde73b46",
            "value": " 208k/208k [00:00&lt;00:00, 528kB/s]"
          }
        },
        "218cfc0b9d1341ddb7adadad3769c3b1": {
          "model_module": "@jupyter-widgets/base",
          "model_name": "LayoutModel",
          "model_module_version": "1.2.0",
          "state": {
            "_model_module": "@jupyter-widgets/base",
            "_model_module_version": "1.2.0",
            "_model_name": "LayoutModel",
            "_view_count": null,
            "_view_module": "@jupyter-widgets/base",
            "_view_module_version": "1.2.0",
            "_view_name": "LayoutView",
            "align_content": null,
            "align_items": null,
            "align_self": null,
            "border": null,
            "bottom": null,
            "display": null,
            "flex": null,
            "flex_flow": null,
            "grid_area": null,
            "grid_auto_columns": null,
            "grid_auto_flow": null,
            "grid_auto_rows": null,
            "grid_column": null,
            "grid_gap": null,
            "grid_row": null,
            "grid_template_areas": null,
            "grid_template_columns": null,
            "grid_template_rows": null,
            "height": null,
            "justify_content": null,
            "justify_items": null,
            "left": null,
            "margin": null,
            "max_height": null,
            "max_width": null,
            "min_height": null,
            "min_width": null,
            "object_fit": null,
            "object_position": null,
            "order": null,
            "overflow": null,
            "overflow_x": null,
            "overflow_y": null,
            "padding": null,
            "right": null,
            "top": null,
            "visibility": null,
            "width": null
          }
        },
        "1a2986ff629e44529c219f74bfc3692f": {
          "model_module": "@jupyter-widgets/base",
          "model_name": "LayoutModel",
          "model_module_version": "1.2.0",
          "state": {
            "_model_module": "@jupyter-widgets/base",
            "_model_module_version": "1.2.0",
            "_model_name": "LayoutModel",
            "_view_count": null,
            "_view_module": "@jupyter-widgets/base",
            "_view_module_version": "1.2.0",
            "_view_name": "LayoutView",
            "align_content": null,
            "align_items": null,
            "align_self": null,
            "border": null,
            "bottom": null,
            "display": null,
            "flex": null,
            "flex_flow": null,
            "grid_area": null,
            "grid_auto_columns": null,
            "grid_auto_flow": null,
            "grid_auto_rows": null,
            "grid_column": null,
            "grid_gap": null,
            "grid_row": null,
            "grid_template_areas": null,
            "grid_template_columns": null,
            "grid_template_rows": null,
            "height": null,
            "justify_content": null,
            "justify_items": null,
            "left": null,
            "margin": null,
            "max_height": null,
            "max_width": null,
            "min_height": null,
            "min_width": null,
            "object_fit": null,
            "object_position": null,
            "order": null,
            "overflow": null,
            "overflow_x": null,
            "overflow_y": null,
            "padding": null,
            "right": null,
            "top": null,
            "visibility": null,
            "width": null
          }
        },
        "30a35b8dbdb44a81bd002e99d6fcb658": {
          "model_module": "@jupyter-widgets/controls",
          "model_name": "DescriptionStyleModel",
          "model_module_version": "1.5.0",
          "state": {
            "_model_module": "@jupyter-widgets/controls",
            "_model_module_version": "1.5.0",
            "_model_name": "DescriptionStyleModel",
            "_view_count": null,
            "_view_module": "@jupyter-widgets/base",
            "_view_module_version": "1.2.0",
            "_view_name": "StyleView",
            "description_width": ""
          }
        },
        "3924565793704a5091d0c729acef6da8": {
          "model_module": "@jupyter-widgets/base",
          "model_name": "LayoutModel",
          "model_module_version": "1.2.0",
          "state": {
            "_model_module": "@jupyter-widgets/base",
            "_model_module_version": "1.2.0",
            "_model_name": "LayoutModel",
            "_view_count": null,
            "_view_module": "@jupyter-widgets/base",
            "_view_module_version": "1.2.0",
            "_view_name": "LayoutView",
            "align_content": null,
            "align_items": null,
            "align_self": null,
            "border": null,
            "bottom": null,
            "display": null,
            "flex": null,
            "flex_flow": null,
            "grid_area": null,
            "grid_auto_columns": null,
            "grid_auto_flow": null,
            "grid_auto_rows": null,
            "grid_column": null,
            "grid_gap": null,
            "grid_row": null,
            "grid_template_areas": null,
            "grid_template_columns": null,
            "grid_template_rows": null,
            "height": null,
            "justify_content": null,
            "justify_items": null,
            "left": null,
            "margin": null,
            "max_height": null,
            "max_width": null,
            "min_height": null,
            "min_width": null,
            "object_fit": null,
            "object_position": null,
            "order": null,
            "overflow": null,
            "overflow_x": null,
            "overflow_y": null,
            "padding": null,
            "right": null,
            "top": null,
            "visibility": null,
            "width": null
          }
        },
        "11cff03a77a24c3cb6a7d24e0a4789f8": {
          "model_module": "@jupyter-widgets/controls",
          "model_name": "ProgressStyleModel",
          "model_module_version": "1.5.0",
          "state": {
            "_model_module": "@jupyter-widgets/controls",
            "_model_module_version": "1.5.0",
            "_model_name": "ProgressStyleModel",
            "_view_count": null,
            "_view_module": "@jupyter-widgets/base",
            "_view_module_version": "1.2.0",
            "_view_name": "StyleView",
            "bar_color": null,
            "description_width": ""
          }
        },
        "2a6924d6388141cf9f5e76e21fea1a35": {
          "model_module": "@jupyter-widgets/base",
          "model_name": "LayoutModel",
          "model_module_version": "1.2.0",
          "state": {
            "_model_module": "@jupyter-widgets/base",
            "_model_module_version": "1.2.0",
            "_model_name": "LayoutModel",
            "_view_count": null,
            "_view_module": "@jupyter-widgets/base",
            "_view_module_version": "1.2.0",
            "_view_name": "LayoutView",
            "align_content": null,
            "align_items": null,
            "align_self": null,
            "border": null,
            "bottom": null,
            "display": null,
            "flex": null,
            "flex_flow": null,
            "grid_area": null,
            "grid_auto_columns": null,
            "grid_auto_flow": null,
            "grid_auto_rows": null,
            "grid_column": null,
            "grid_gap": null,
            "grid_row": null,
            "grid_template_areas": null,
            "grid_template_columns": null,
            "grid_template_rows": null,
            "height": null,
            "justify_content": null,
            "justify_items": null,
            "left": null,
            "margin": null,
            "max_height": null,
            "max_width": null,
            "min_height": null,
            "min_width": null,
            "object_fit": null,
            "object_position": null,
            "order": null,
            "overflow": null,
            "overflow_x": null,
            "overflow_y": null,
            "padding": null,
            "right": null,
            "top": null,
            "visibility": null,
            "width": null
          }
        },
        "7002c9ccf8024cab98b6364bcde73b46": {
          "model_module": "@jupyter-widgets/controls",
          "model_name": "DescriptionStyleModel",
          "model_module_version": "1.5.0",
          "state": {
            "_model_module": "@jupyter-widgets/controls",
            "_model_module_version": "1.5.0",
            "_model_name": "DescriptionStyleModel",
            "_view_count": null,
            "_view_module": "@jupyter-widgets/base",
            "_view_module_version": "1.2.0",
            "_view_name": "StyleView",
            "description_width": ""
          }
        },
        "fe289f09ea1946ba8e5290ce679b70bc": {
          "model_module": "@jupyter-widgets/controls",
          "model_name": "HBoxModel",
          "model_module_version": "1.5.0",
          "state": {
            "_dom_classes": [],
            "_model_module": "@jupyter-widgets/controls",
            "_model_module_version": "1.5.0",
            "_model_name": "HBoxModel",
            "_view_count": null,
            "_view_module": "@jupyter-widgets/controls",
            "_view_module_version": "1.5.0",
            "_view_name": "HBoxView",
            "box_style": "",
            "children": [
              "IPY_MODEL_e3c2fe052b12481fae56a5888cc9fbc3",
              "IPY_MODEL_be2cf9fedac84b748a40b17ca91cb285",
              "IPY_MODEL_37a45dfef49e4894a856191d2c268ad1"
            ],
            "layout": "IPY_MODEL_ed54ef39f7124924af2f893e374fac6d"
          }
        },
        "e3c2fe052b12481fae56a5888cc9fbc3": {
          "model_module": "@jupyter-widgets/controls",
          "model_name": "HTMLModel",
          "model_module_version": "1.5.0",
          "state": {
            "_dom_classes": [],
            "_model_module": "@jupyter-widgets/controls",
            "_model_module_version": "1.5.0",
            "_model_name": "HTMLModel",
            "_view_count": null,
            "_view_module": "@jupyter-widgets/controls",
            "_view_module_version": "1.5.0",
            "_view_name": "HTMLView",
            "description": "",
            "description_tooltip": null,
            "layout": "IPY_MODEL_85e1f2c5044440e49bc05f126debd0ae",
            "placeholder": "​",
            "style": "IPY_MODEL_4a4847d14eeb4003ae1d2ded4bbe248a",
            "value": "Downloading: 100%"
          }
        },
        "be2cf9fedac84b748a40b17ca91cb285": {
          "model_module": "@jupyter-widgets/controls",
          "model_name": "FloatProgressModel",
          "model_module_version": "1.5.0",
          "state": {
            "_dom_classes": [],
            "_model_module": "@jupyter-widgets/controls",
            "_model_module_version": "1.5.0",
            "_model_name": "FloatProgressModel",
            "_view_count": null,
            "_view_module": "@jupyter-widgets/controls",
            "_view_module_version": "1.5.0",
            "_view_name": "ProgressView",
            "bar_style": "success",
            "description": "",
            "description_tooltip": null,
            "layout": "IPY_MODEL_03f315ed6b4d4fb5bebe088602218299",
            "max": 435780550,
            "min": 0,
            "orientation": "horizontal",
            "style": "IPY_MODEL_a7408f2a8fff48dba28b195c879502ea",
            "value": 435780550
          }
        },
        "37a45dfef49e4894a856191d2c268ad1": {
          "model_module": "@jupyter-widgets/controls",
          "model_name": "HTMLModel",
          "model_module_version": "1.5.0",
          "state": {
            "_dom_classes": [],
            "_model_module": "@jupyter-widgets/controls",
            "_model_module_version": "1.5.0",
            "_model_name": "HTMLModel",
            "_view_count": null,
            "_view_module": "@jupyter-widgets/controls",
            "_view_module_version": "1.5.0",
            "_view_name": "HTMLView",
            "description": "",
            "description_tooltip": null,
            "layout": "IPY_MODEL_b3e1d46ff2a442009ef240097ecd6a00",
            "placeholder": "​",
            "style": "IPY_MODEL_b9c2757672ef4a8484df9aa15fe7fb95",
            "value": " 416M/416M [00:22&lt;00:00, 17.8MB/s]"
          }
        },
        "ed54ef39f7124924af2f893e374fac6d": {
          "model_module": "@jupyter-widgets/base",
          "model_name": "LayoutModel",
          "model_module_version": "1.2.0",
          "state": {
            "_model_module": "@jupyter-widgets/base",
            "_model_module_version": "1.2.0",
            "_model_name": "LayoutModel",
            "_view_count": null,
            "_view_module": "@jupyter-widgets/base",
            "_view_module_version": "1.2.0",
            "_view_name": "LayoutView",
            "align_content": null,
            "align_items": null,
            "align_self": null,
            "border": null,
            "bottom": null,
            "display": null,
            "flex": null,
            "flex_flow": null,
            "grid_area": null,
            "grid_auto_columns": null,
            "grid_auto_flow": null,
            "grid_auto_rows": null,
            "grid_column": null,
            "grid_gap": null,
            "grid_row": null,
            "grid_template_areas": null,
            "grid_template_columns": null,
            "grid_template_rows": null,
            "height": null,
            "justify_content": null,
            "justify_items": null,
            "left": null,
            "margin": null,
            "max_height": null,
            "max_width": null,
            "min_height": null,
            "min_width": null,
            "object_fit": null,
            "object_position": null,
            "order": null,
            "overflow": null,
            "overflow_x": null,
            "overflow_y": null,
            "padding": null,
            "right": null,
            "top": null,
            "visibility": null,
            "width": null
          }
        },
        "85e1f2c5044440e49bc05f126debd0ae": {
          "model_module": "@jupyter-widgets/base",
          "model_name": "LayoutModel",
          "model_module_version": "1.2.0",
          "state": {
            "_model_module": "@jupyter-widgets/base",
            "_model_module_version": "1.2.0",
            "_model_name": "LayoutModel",
            "_view_count": null,
            "_view_module": "@jupyter-widgets/base",
            "_view_module_version": "1.2.0",
            "_view_name": "LayoutView",
            "align_content": null,
            "align_items": null,
            "align_self": null,
            "border": null,
            "bottom": null,
            "display": null,
            "flex": null,
            "flex_flow": null,
            "grid_area": null,
            "grid_auto_columns": null,
            "grid_auto_flow": null,
            "grid_auto_rows": null,
            "grid_column": null,
            "grid_gap": null,
            "grid_row": null,
            "grid_template_areas": null,
            "grid_template_columns": null,
            "grid_template_rows": null,
            "height": null,
            "justify_content": null,
            "justify_items": null,
            "left": null,
            "margin": null,
            "max_height": null,
            "max_width": null,
            "min_height": null,
            "min_width": null,
            "object_fit": null,
            "object_position": null,
            "order": null,
            "overflow": null,
            "overflow_x": null,
            "overflow_y": null,
            "padding": null,
            "right": null,
            "top": null,
            "visibility": null,
            "width": null
          }
        },
        "4a4847d14eeb4003ae1d2ded4bbe248a": {
          "model_module": "@jupyter-widgets/controls",
          "model_name": "DescriptionStyleModel",
          "model_module_version": "1.5.0",
          "state": {
            "_model_module": "@jupyter-widgets/controls",
            "_model_module_version": "1.5.0",
            "_model_name": "DescriptionStyleModel",
            "_view_count": null,
            "_view_module": "@jupyter-widgets/base",
            "_view_module_version": "1.2.0",
            "_view_name": "StyleView",
            "description_width": ""
          }
        },
        "03f315ed6b4d4fb5bebe088602218299": {
          "model_module": "@jupyter-widgets/base",
          "model_name": "LayoutModel",
          "model_module_version": "1.2.0",
          "state": {
            "_model_module": "@jupyter-widgets/base",
            "_model_module_version": "1.2.0",
            "_model_name": "LayoutModel",
            "_view_count": null,
            "_view_module": "@jupyter-widgets/base",
            "_view_module_version": "1.2.0",
            "_view_name": "LayoutView",
            "align_content": null,
            "align_items": null,
            "align_self": null,
            "border": null,
            "bottom": null,
            "display": null,
            "flex": null,
            "flex_flow": null,
            "grid_area": null,
            "grid_auto_columns": null,
            "grid_auto_flow": null,
            "grid_auto_rows": null,
            "grid_column": null,
            "grid_gap": null,
            "grid_row": null,
            "grid_template_areas": null,
            "grid_template_columns": null,
            "grid_template_rows": null,
            "height": null,
            "justify_content": null,
            "justify_items": null,
            "left": null,
            "margin": null,
            "max_height": null,
            "max_width": null,
            "min_height": null,
            "min_width": null,
            "object_fit": null,
            "object_position": null,
            "order": null,
            "overflow": null,
            "overflow_x": null,
            "overflow_y": null,
            "padding": null,
            "right": null,
            "top": null,
            "visibility": null,
            "width": null
          }
        },
        "a7408f2a8fff48dba28b195c879502ea": {
          "model_module": "@jupyter-widgets/controls",
          "model_name": "ProgressStyleModel",
          "model_module_version": "1.5.0",
          "state": {
            "_model_module": "@jupyter-widgets/controls",
            "_model_module_version": "1.5.0",
            "_model_name": "ProgressStyleModel",
            "_view_count": null,
            "_view_module": "@jupyter-widgets/base",
            "_view_module_version": "1.2.0",
            "_view_name": "StyleView",
            "bar_color": null,
            "description_width": ""
          }
        },
        "b3e1d46ff2a442009ef240097ecd6a00": {
          "model_module": "@jupyter-widgets/base",
          "model_name": "LayoutModel",
          "model_module_version": "1.2.0",
          "state": {
            "_model_module": "@jupyter-widgets/base",
            "_model_module_version": "1.2.0",
            "_model_name": "LayoutModel",
            "_view_count": null,
            "_view_module": "@jupyter-widgets/base",
            "_view_module_version": "1.2.0",
            "_view_name": "LayoutView",
            "align_content": null,
            "align_items": null,
            "align_self": null,
            "border": null,
            "bottom": null,
            "display": null,
            "flex": null,
            "flex_flow": null,
            "grid_area": null,
            "grid_auto_columns": null,
            "grid_auto_flow": null,
            "grid_auto_rows": null,
            "grid_column": null,
            "grid_gap": null,
            "grid_row": null,
            "grid_template_areas": null,
            "grid_template_columns": null,
            "grid_template_rows": null,
            "height": null,
            "justify_content": null,
            "justify_items": null,
            "left": null,
            "margin": null,
            "max_height": null,
            "max_width": null,
            "min_height": null,
            "min_width": null,
            "object_fit": null,
            "object_position": null,
            "order": null,
            "overflow": null,
            "overflow_x": null,
            "overflow_y": null,
            "padding": null,
            "right": null,
            "top": null,
            "visibility": null,
            "width": null
          }
        },
        "b9c2757672ef4a8484df9aa15fe7fb95": {
          "model_module": "@jupyter-widgets/controls",
          "model_name": "DescriptionStyleModel",
          "model_module_version": "1.5.0",
          "state": {
            "_model_module": "@jupyter-widgets/controls",
            "_model_module_version": "1.5.0",
            "_model_name": "DescriptionStyleModel",
            "_view_count": null,
            "_view_module": "@jupyter-widgets/base",
            "_view_module_version": "1.2.0",
            "_view_name": "StyleView",
            "description_width": ""
          }
        }
      }
    }
  },
  "cells": [
    {
      "cell_type": "markdown",
      "metadata": {
        "id": "view-in-github",
        "colab_type": "text"
      },
      "source": [
        "<a href=\"https://colab.research.google.com/github/balbatra/disease-annotator/blob/main/disease_annotator.ipynb\" target=\"_parent\"><img src=\"https://colab.research.google.com/assets/colab-badge.svg\" alt=\"Open In Colab\"/></a>"
      ]
    },
    {
      "cell_type": "markdown",
      "metadata": {
        "id": "IjHD9pLHuZUf"
      },
      "source": [
        "# Make use of GPU\n",
        "\n",
        "Since we are going to train a large neural network it's best to use a GPU, otherwise training will take a very long time. Google Colab offers free GPUs. These GPUs can be selected by going to Runtime -> Change runtime type -> Hardware accelerator and choosing GPU\n",
        "\n",
        "In order to tell pyTorch to use the GPU, we need to specify the GPU as a device. This device is going to be used Later to process the data in the training loop\n"
      ]
    },
    {
      "cell_type": "code",
      "metadata": {
        "colab": {
          "base_uri": "https://localhost:8080/"
        },
        "id": "gncsuKDYtoOs",
        "outputId": "c6819321-e45e-4743-b8f6-d3f928d28400"
      },
      "source": [
        "import torch\n",
        "\n",
        "if torch.cuda.is_available():\n",
        "\n",
        "    device = torch.device(\"cuda\")\n",
        "\n",
        "    print('%d GPU(s) are available. The type of the GPU(s) is: %s'% (torch.cuda.device_count(), torch.cuda.get_device_name(0)))\n",
        "\n",
        "else:\n",
        "    print('No GPU is available, using CPU instead.')\n",
        "    device = torch.device(\"cpu\")"
      ],
      "execution_count": null,
      "outputs": [
        {
          "output_type": "stream",
          "name": "stdout",
          "text": [
            "No GPU is available, using CPU instead.\n"
          ]
        }
      ]
    },
    {
      "cell_type": "markdown",
      "metadata": {
        "id": "YVLm-xnzVkDY"
      },
      "source": [
        "# Reading NCBI and BC5CDR Data\n",
        "\n",
        "We want to fine tune biobert by using ncbi and BC5CDR data. The data is a single tsv file. The tsv file includes tab separated values.\n",
        "\n",
        "Each line of the tsv file includes a single word and the tag of this word or entity. The tsv file has no sentence ids but sentences are splitted by new lines.\n",
        "The tag follows a special format used widely in NER literature called the IOB format (Inside, Outside, Beginning Format). This format gives us a way to not only tag entities, but to indicate which words are part of the same entity:\n",
        "\n",
        "\n",
        "*   B: this tag means the word is either a single-word entity name, or else the first word in a multi-word entity name.\n",
        "*   I: this tag means the word is part of a multi-word entity, but is not the first word in the full entity name.\n",
        "*   O: this tag means the word is not part of an entity.\n",
        "\n",
        "\n",
        "\n",
        "\n"
      ]
    },
    {
      "cell_type": "markdown",
      "metadata": {
        "id": "LjSEQHJwaW8Y"
      },
      "source": [
        "We first mount the google drive where the data is located"
      ]
    },
    {
      "cell_type": "code",
      "metadata": {
        "id": "Sm5Yh1RafzXs",
        "colab": {
          "base_uri": "https://localhost:8080/"
        },
        "outputId": "c6db068d-2f53-4623-e6bb-ec4eaed329c6"
      },
      "source": [
        "from google.colab import drive\n",
        "drive.mount('/content/drive')"
      ],
      "execution_count": null,
      "outputs": [
        {
          "output_type": "stream",
          "name": "stdout",
          "text": [
            "Mounted at /content/drive\n"
          ]
        }
      ]
    },
    {
      "cell_type": "markdown",
      "metadata": {
        "id": "ld0IMIGrxi6q"
      },
      "source": [
        "Install Pandas to be able to prepare ncbi and BC5CDR data for training."
      ]
    },
    {
      "cell_type": "code",
      "metadata": {
        "colab": {
          "base_uri": "https://localhost:8080/"
        },
        "id": "FZJMJpOTxjMe",
        "outputId": "e42c5535-77ab-4f79-ef12-20c4509dc023"
      },
      "source": [
        "!pip install pandas"
      ],
      "execution_count": null,
      "outputs": [
        {
          "output_type": "stream",
          "name": "stdout",
          "text": [
            "Requirement already satisfied: pandas in /usr/local/lib/python3.7/dist-packages (1.3.5)\n",
            "Requirement already satisfied: python-dateutil>=2.7.3 in /usr/local/lib/python3.7/dist-packages (from pandas) (2.8.2)\n",
            "Requirement already satisfied: numpy>=1.17.3 in /usr/local/lib/python3.7/dist-packages (from pandas) (1.21.5)\n",
            "Requirement already satisfied: pytz>=2017.3 in /usr/local/lib/python3.7/dist-packages (from pandas) (2018.9)\n",
            "Requirement already satisfied: six>=1.5 in /usr/local/lib/python3.7/dist-packages (from python-dateutil>=2.7.3->pandas) (1.15.0)\n"
          ]
        }
      ]
    },
    {
      "cell_type": "markdown",
      "metadata": {
        "id": "j4l_paNDxre8"
      },
      "source": [
        "This method transforms the AZDC data to two arrays. The first array sentences_AZDC is an array of arrays. the sub arrays are the sentences. The second array labels_AZDC is also an array of arrays. The sub arrays are the labels of the sentences in sentences_AZDC. Eech sentence in sentences_AZDC has a corresponding array in labels_AZDC including its labels. The file /content/drive/MyDrive/MedBrain/diseases.tsv can be transformed using this procedure. Also unique_labels_AZDC which is an array including all unique lables usually O, B, I is created."
      ]
    },
    {
      "cell_type": "code",
      "metadata": {
        "id": "Npg1tv69ALIo"
      },
      "source": [
        "import re\n",
        "\n",
        "sentences_AZDC = []\n",
        "labels_AZDC = []\n",
        "unique_labels_AZDC = set()\n",
        "\n",
        "\n",
        "def transform_AZDC (data):\n",
        "  sentence = data.iloc[0]['Sentence']\n",
        "  old_start_point = None\n",
        "  old_end_point = None\n",
        "  final_sentence = []\n",
        "  final_sentence_labels = []\n",
        "  for index, row in data.iterrows():\n",
        "    start_point = int(row['Start Point']-1)\n",
        "    end_point = int(row['End Point'])\n",
        "    if(old_end_point is None or start_point > old_end_point):\n",
        "      if(old_end_point is None):\n",
        "        if(start_point!=0):\n",
        "          text = sentence[0:start_point]\n",
        "          text = re.sub('([^a-zA-Z0-9\\s])', r' \\1 ', text)\n",
        "          text = re.sub('\\s+', r' ', text)\n",
        "          text = re.split(r\"\\s\",text)\n",
        "          text = list(filter(None, text))\n",
        "          text_labels = ['O']*len(text)\n",
        "          final_sentence.extend(text)\n",
        "          final_sentence_labels.extend(text_labels)\n",
        "      else:\n",
        "        text = sentence[old_end_point:start_point]\n",
        "        text = re.sub('([^a-zA-Z0-9\\s])', r' \\1 ', text)\n",
        "        text = re.sub('\\s+', r' ', text)\n",
        "        text = re.split(r\"\\s\",text)\n",
        "        text = list(filter(None, text))\n",
        "        text_labels = ['O']*(len(text))\n",
        "        final_sentence.extend(text)\n",
        "        final_sentence_labels.extend(text_labels)\n",
        "      text2 = sentence[start_point:end_point]\n",
        "      text2 = re.sub('([^a-zA-Z0-9\\s])', r' \\1 ', text2)\n",
        "      text2 = re.sub('\\s+', r' ', text2)\n",
        "      text2 = re.split(r\"\\s\",text2)\n",
        "      text2 = list(filter(None, text2))\n",
        "      text_labels2 = ['I']*(len(text2)-1)\n",
        "      text_labels2.insert(0, 'B')\n",
        "      final_sentence.extend(text2)\n",
        "      final_sentence_labels.extend(text_labels2)\n",
        "      old_start_point = start_point\n",
        "      old_end_point = end_point\n",
        "  text3 = sentence[end_point::]\n",
        "  text3 = re.sub('([^a-zA-Z0-9\\s])', r' \\1 ', text3)\n",
        "  text3 = re.sub('\\s+', r' ', text3)\n",
        "  text3 = re.split(r\"\\s\",text3)\n",
        "  text3 = list(filter(None, text3))\n",
        "  text_labels3 = ['O']*len(text3)\n",
        "  final_sentence.extend(text3)\n",
        "  final_sentence_labels.extend(text_labels3)\n",
        "  sentences_AZDC.append(final_sentence)\n",
        "  labels_AZDC.append(final_sentence_labels)\n",
        "  unique_labels_AZDC.update(final_sentence_labels)\n",
        ""
      ],
      "execution_count": null,
      "outputs": []
    },
    {
      "cell_type": "markdown",
      "source": [
        "The excution of the transform_AZDC is done in this snippet. First the data is cleaned by removing rows including null values. Then the rows are sorted by start Point which is the starting index of a disease name in a document and at the end grouped by the Doc Id. The result is rows of a specific doc id are grouped togather and sorted by start point."
      ],
      "metadata": {
        "id": "2OmnF-lZo9_U"
      }
    },
    {
      "cell_type": "code",
      "metadata": {
        "colab": {
          "base_uri": "https://localhost:8080/",
          "height": 49
        },
        "id": "7FvSkmxnxrrJ",
        "outputId": "0f8b0aed-a1cc-44e3-c803-39fc08d2690a"
      },
      "source": [
        "import pandas as pd\n",
        "df = pd.read_csv('/content/drive/MyDrive/MedBrain/diseases.tsv', sep='\\t')\n",
        "df = df[df['Start Point'].notna()]\n",
        "df = df[df['End Point'].notna()]\n",
        "df.sort_values(by=['Start Point'], inplace=True)\n",
        "df.groupby(\"Doc Id\").apply(transform_AZDC)\n",
        "\n",
        "\n",
        "\n",
        "\n"
      ],
      "execution_count": null,
      "outputs": [
        {
          "output_type": "execute_result",
          "data": {
            "text/plain": [
              "Empty DataFrame\n",
              "Columns: []\n",
              "Index: []"
            ],
            "text/html": [
              "\n",
              "  <div id=\"df-46124aee-e3ac-4a56-ae17-9c37ff3d8ba8\">\n",
              "    <div class=\"colab-df-container\">\n",
              "      <div>\n",
              "<style scoped>\n",
              "    .dataframe tbody tr th:only-of-type {\n",
              "        vertical-align: middle;\n",
              "    }\n",
              "\n",
              "    .dataframe tbody tr th {\n",
              "        vertical-align: top;\n",
              "    }\n",
              "\n",
              "    .dataframe thead th {\n",
              "        text-align: right;\n",
              "    }\n",
              "</style>\n",
              "<table border=\"1\" class=\"dataframe\">\n",
              "  <thead>\n",
              "    <tr style=\"text-align: right;\">\n",
              "      <th></th>\n",
              "    </tr>\n",
              "  </thead>\n",
              "  <tbody>\n",
              "  </tbody>\n",
              "</table>\n",
              "</div>\n",
              "      <button class=\"colab-df-convert\" onclick=\"convertToInteractive('df-46124aee-e3ac-4a56-ae17-9c37ff3d8ba8')\"\n",
              "              title=\"Convert this dataframe to an interactive table.\"\n",
              "              style=\"display:none;\">\n",
              "        \n",
              "  <svg xmlns=\"http://www.w3.org/2000/svg\" height=\"24px\"viewBox=\"0 0 24 24\"\n",
              "       width=\"24px\">\n",
              "    <path d=\"M0 0h24v24H0V0z\" fill=\"none\"/>\n",
              "    <path d=\"M18.56 5.44l.94 2.06.94-2.06 2.06-.94-2.06-.94-.94-2.06-.94 2.06-2.06.94zm-11 1L8.5 8.5l.94-2.06 2.06-.94-2.06-.94L8.5 2.5l-.94 2.06-2.06.94zm10 10l.94 2.06.94-2.06 2.06-.94-2.06-.94-.94-2.06-.94 2.06-2.06.94z\"/><path d=\"M17.41 7.96l-1.37-1.37c-.4-.4-.92-.59-1.43-.59-.52 0-1.04.2-1.43.59L10.3 9.45l-7.72 7.72c-.78.78-.78 2.05 0 2.83L4 21.41c.39.39.9.59 1.41.59.51 0 1.02-.2 1.41-.59l7.78-7.78 2.81-2.81c.8-.78.8-2.07 0-2.86zM5.41 20L4 18.59l7.72-7.72 1.47 1.35L5.41 20z\"/>\n",
              "  </svg>\n",
              "      </button>\n",
              "      \n",
              "  <style>\n",
              "    .colab-df-container {\n",
              "      display:flex;\n",
              "      flex-wrap:wrap;\n",
              "      gap: 12px;\n",
              "    }\n",
              "\n",
              "    .colab-df-convert {\n",
              "      background-color: #E8F0FE;\n",
              "      border: none;\n",
              "      border-radius: 50%;\n",
              "      cursor: pointer;\n",
              "      display: none;\n",
              "      fill: #1967D2;\n",
              "      height: 32px;\n",
              "      padding: 0 0 0 0;\n",
              "      width: 32px;\n",
              "    }\n",
              "\n",
              "    .colab-df-convert:hover {\n",
              "      background-color: #E2EBFA;\n",
              "      box-shadow: 0px 1px 2px rgba(60, 64, 67, 0.3), 0px 1px 3px 1px rgba(60, 64, 67, 0.15);\n",
              "      fill: #174EA6;\n",
              "    }\n",
              "\n",
              "    [theme=dark] .colab-df-convert {\n",
              "      background-color: #3B4455;\n",
              "      fill: #D2E3FC;\n",
              "    }\n",
              "\n",
              "    [theme=dark] .colab-df-convert:hover {\n",
              "      background-color: #434B5C;\n",
              "      box-shadow: 0px 1px 3px 1px rgba(0, 0, 0, 0.15);\n",
              "      filter: drop-shadow(0px 1px 2px rgba(0, 0, 0, 0.3));\n",
              "      fill: #FFFFFF;\n",
              "    }\n",
              "  </style>\n",
              "\n",
              "      <script>\n",
              "        const buttonEl =\n",
              "          document.querySelector('#df-46124aee-e3ac-4a56-ae17-9c37ff3d8ba8 button.colab-df-convert');\n",
              "        buttonEl.style.display =\n",
              "          google.colab.kernel.accessAllowed ? 'block' : 'none';\n",
              "\n",
              "        async function convertToInteractive(key) {\n",
              "          const element = document.querySelector('#df-46124aee-e3ac-4a56-ae17-9c37ff3d8ba8');\n",
              "          const dataTable =\n",
              "            await google.colab.kernel.invokeFunction('convertToInteractive',\n",
              "                                                     [key], {});\n",
              "          if (!dataTable) return;\n",
              "\n",
              "          const docLinkHtml = 'Like what you see? Visit the ' +\n",
              "            '<a target=\"_blank\" href=https://colab.research.google.com/notebooks/data_table.ipynb>data table notebook</a>'\n",
              "            + ' to learn more about interactive tables.';\n",
              "          element.innerHTML = '';\n",
              "          dataTable['output_type'] = 'display_data';\n",
              "          await google.colab.output.renderOutput(dataTable, element);\n",
              "          const docLink = document.createElement('div');\n",
              "          docLink.innerHTML = docLinkHtml;\n",
              "          element.appendChild(docLink);\n",
              "        }\n",
              "      </script>\n",
              "    </div>\n",
              "  </div>\n",
              "  "
            ]
          },
          "metadata": {},
          "execution_count": 5
        }
      ]
    },
    {
      "cell_type": "markdown",
      "metadata": {
        "id": "vZgWlvoYajw5"
      },
      "source": [
        "We need a method which reads a tsv file and returns tuples of sentences and labels. Each tuple includes a sentence and labels of words included in the sentence. The tsv file of each dataset is stored on the my drive under /content/drive/MyDrive/MedBrain/**"
      ]
    },
    {
      "cell_type": "code",
      "metadata": {
        "id": "_hrrXeAaVkVz"
      },
      "source": [
        "import re\n",
        "\n",
        "def read_data(input_file):\n",
        "  # List of all sentences in the dataset.\n",
        "  sentences = []\n",
        "  labels = []\n",
        "\n",
        "  # Lists to store the current sentence.\n",
        "  tokens = []\n",
        "  token_labels = []\n",
        "\n",
        "  # Gather the set of unique labels.\n",
        "  unique_labels = set()\n",
        "\n",
        "  # Read the dataset line by line. Each line of the file\n",
        "  # is either empty or has two tokens, separated by a tab.\n",
        "  with open(input_file, newline = '') as lines:\n",
        "\n",
        "\n",
        "    for line in lines:\n",
        "\n",
        "        # If we encounter a blank line, it means we've completed the previous\n",
        "        # sentence.\n",
        "        word_and_label = re.split(r'\\t+', line.rstrip(\"\\n\").strip())\n",
        "\n",
        "        if word_and_label == ['']:\n",
        "\n",
        "            # Add the completed sentence.\n",
        "            sentences.append(tokens)\n",
        "            labels.append(token_labels)\n",
        "\n",
        "            # Start a new sentence.\n",
        "            tokens = []\n",
        "            token_labels = []\n",
        "\n",
        "        else:\n",
        "            # Add the token and its label to the current sentence.\n",
        "            tokens.append(word_and_label[0])\n",
        "            token_labels.append(word_and_label[1])\n",
        "\n",
        "            # Add the label to the set (no effect if it already exists).\n",
        "            unique_labels.add(word_and_label[1])\n",
        "  return sentences, labels , unique_labels"
      ],
      "execution_count": null,
      "outputs": []
    },
    {
      "cell_type": "markdown",
      "metadata": {
        "id": "VbCQ_3wE0sOL"
      },
      "source": [
        "let us inspect the data a little bit by printing out the number of sentences, an example sentence and the corresponding tags of each dataset"
      ]
    },
    {
      "cell_type": "code",
      "metadata": {
        "colab": {
          "base_uri": "https://localhost:8080/"
        },
        "id": "UHzU_iGpCiql",
        "outputId": "6b6b1145-988c-41f9-c2c6-f2c3678b8862"
      },
      "source": [
        "sentences_ncbi, labels_ncbi, unique_labels_ncbi = read_data('/content/drive/MyDrive/MedBrain/NCBI/train.tsv')\n",
        "print(\"We have {} sentences in the ncbi train set\".format(len(sentences_ncbi)))\n",
        "sentences_ncbi_devel, labels_ncbi_devel, unique_labels_ncbi_devel = read_data('/content/drive/MyDrive/MedBrain/NCBI/devel.tsv')\n",
        "print(\"We have {} sentences in the ncbi devel set\".format(len(sentences_ncbi_devel)))\n",
        "sentences_bc5cdr, labels_bc5cdr, unique_labels_bc5cdr = read_data('/content/drive/MyDrive/MedBrain/BC5CDR/train.tsv')\n",
        "print(\"We have {} sentences in the bc5cdr train set\".format(len(sentences_bc5cdr)))\n",
        "sentences_bc5cdr_devel, labels_bc5cdr_devel, unique_labels_bc5cdr_devel = read_data('/content/drive/MyDrive/MedBrain/BC5CDR/devel.tsv')\n",
        "print(\"We have {} sentences in the bc5cdr devel set\".format(len(sentences_bc5cdr_devel)))\n",
        "print(\"We have {} sentences in the AZDC train set\".format(len(sentences_AZDC)))\n",
        "sentences = []\n",
        "sentences.extend(sentences_ncbi)\n",
        "sentences.extend(sentences_bc5cdr)\n",
        "sentences.extend(sentences_ncbi_devel)\n",
        "sentences.extend(sentences_bc5cdr_devel)\n",
        "sentences.extend(sentences_AZDC)\n",
        "\n",
        "labels = []\n",
        "labels.extend(labels_ncbi)\n",
        "labels.extend(labels_bc5cdr)\n",
        "labels.extend(labels_ncbi_devel)\n",
        "labels.extend(labels_bc5cdr_devel)\n",
        "labels.extend(labels_AZDC)\n",
        "\n",
        "unique_labels = unique_labels_AZDC.union(unique_labels_ncbi.union(unique_labels_bc5cdr))\n",
        "print(\"Number of training sentences: {:,}\".format(len(sentences)))"
      ],
      "execution_count": null,
      "outputs": [
        {
          "output_type": "stream",
          "name": "stdout",
          "text": [
            "We have 5423 sentences in the ncbi train set\n",
            "We have 923 sentences in the ncbi devel set\n",
            "We have 4559 sentences in the bc5cdr train set\n",
            "We have 4581 sentences in the bc5cdr devel set\n",
            "We have 1734 sentences in the AZDC train set\n",
            "Number of training sentences: 17,220\n"
          ]
        }
      ]
    },
    {
      "cell_type": "markdown",
      "metadata": {
        "id": "Kd_OVkK5tzRK"
      },
      "source": [
        "# Installing The dependencies and implementing helper methods\n",
        "We are going to install the huggingface library, which provides State-of-the-art Natural Language Processing for Pytorch and TensorFlow 2.0"
      ]
    },
    {
      "cell_type": "code",
      "metadata": {
        "colab": {
          "base_uri": "https://localhost:8080/"
        },
        "id": "WKr-vNCVZslq",
        "outputId": "2e0938c3-e3ab-4c97-bb0a-4f14795c68b8"
      },
      "source": [
        "!pip install transformers"
      ],
      "execution_count": null,
      "outputs": [
        {
          "output_type": "stream",
          "name": "stdout",
          "text": [
            "Collecting transformers\n",
            "  Downloading transformers-4.19.2-py3-none-any.whl (4.2 MB)\n",
            "\u001b[K     |████████████████████████████████| 4.2 MB 7.3 MB/s \n",
            "\u001b[?25hRequirement already satisfied: filelock in /usr/local/lib/python3.7/dist-packages (from transformers) (3.6.0)\n",
            "Collecting huggingface-hub<1.0,>=0.1.0\n",
            "  Downloading huggingface_hub-0.6.0-py3-none-any.whl (84 kB)\n",
            "\u001b[K     |████████████████████████████████| 84 kB 2.9 MB/s \n",
            "\u001b[?25hRequirement already satisfied: regex!=2019.12.17 in /usr/local/lib/python3.7/dist-packages (from transformers) (2019.12.20)\n",
            "Requirement already satisfied: packaging>=20.0 in /usr/local/lib/python3.7/dist-packages (from transformers) (21.3)\n",
            "Requirement already satisfied: numpy>=1.17 in /usr/local/lib/python3.7/dist-packages (from transformers) (1.21.6)\n",
            "Requirement already satisfied: importlib-metadata in /usr/local/lib/python3.7/dist-packages (from transformers) (4.11.3)\n",
            "Requirement already satisfied: tqdm>=4.27 in /usr/local/lib/python3.7/dist-packages (from transformers) (4.64.0)\n",
            "Collecting pyyaml>=5.1\n",
            "  Downloading PyYAML-6.0-cp37-cp37m-manylinux_2_5_x86_64.manylinux1_x86_64.manylinux_2_12_x86_64.manylinux2010_x86_64.whl (596 kB)\n",
            "\u001b[K     |████████████████████████████████| 596 kB 53.4 MB/s \n",
            "\u001b[?25hCollecting tokenizers!=0.11.3,<0.13,>=0.11.1\n",
            "  Downloading tokenizers-0.12.1-cp37-cp37m-manylinux_2_12_x86_64.manylinux2010_x86_64.whl (6.6 MB)\n",
            "\u001b[K     |████████████████████████████████| 6.6 MB 30.9 MB/s \n",
            "\u001b[?25hRequirement already satisfied: requests in /usr/local/lib/python3.7/dist-packages (from transformers) (2.23.0)\n",
            "Requirement already satisfied: typing-extensions>=3.7.4.3 in /usr/local/lib/python3.7/dist-packages (from huggingface-hub<1.0,>=0.1.0->transformers) (4.2.0)\n",
            "Requirement already satisfied: pyparsing!=3.0.5,>=2.0.2 in /usr/local/lib/python3.7/dist-packages (from packaging>=20.0->transformers) (3.0.8)\n",
            "Requirement already satisfied: zipp>=0.5 in /usr/local/lib/python3.7/dist-packages (from importlib-metadata->transformers) (3.8.0)\n",
            "Requirement already satisfied: urllib3!=1.25.0,!=1.25.1,<1.26,>=1.21.1 in /usr/local/lib/python3.7/dist-packages (from requests->transformers) (1.24.3)\n",
            "Requirement already satisfied: chardet<4,>=3.0.2 in /usr/local/lib/python3.7/dist-packages (from requests->transformers) (3.0.4)\n",
            "Requirement already satisfied: idna<3,>=2.5 in /usr/local/lib/python3.7/dist-packages (from requests->transformers) (2.10)\n",
            "Requirement already satisfied: certifi>=2017.4.17 in /usr/local/lib/python3.7/dist-packages (from requests->transformers) (2021.10.8)\n",
            "Installing collected packages: pyyaml, tokenizers, huggingface-hub, transformers\n",
            "  Attempting uninstall: pyyaml\n",
            "    Found existing installation: PyYAML 3.13\n",
            "    Uninstalling PyYAML-3.13:\n",
            "      Successfully uninstalled PyYAML-3.13\n",
            "Successfully installed huggingface-hub-0.6.0 pyyaml-6.0 tokenizers-0.12.1 transformers-4.19.2\n"
          ]
        }
      ]
    },
    {
      "cell_type": "markdown",
      "metadata": {
        "id": "KpXb_E2BK_6g"
      },
      "source": [
        "We'll use the wget package to download the pretrained biobert model and tokinzer to google driver file system."
      ]
    },
    {
      "cell_type": "code",
      "metadata": {
        "colab": {
          "base_uri": "https://localhost:8080/"
        },
        "id": "7O7DjklsK_Ac",
        "outputId": "a08cbd96-2c3c-4bb7-94b3-9a93ac77443d"
      },
      "source": [
        "!pip install wget"
      ],
      "execution_count": null,
      "outputs": [
        {
          "output_type": "stream",
          "name": "stdout",
          "text": [
            "Collecting wget\n",
            "  Downloading wget-3.2.zip (10 kB)\n",
            "Building wheels for collected packages: wget\n",
            "  Building wheel for wget (setup.py) ... \u001b[?25l\u001b[?25hdone\n",
            "  Created wheel for wget: filename=wget-3.2-py3-none-any.whl size=9675 sha256=fe6c1f1c7e5283f555003716921561b5229cff70f6e2f621add7845429d5bd10\n",
            "  Stored in directory: /root/.cache/pip/wheels/a1/b6/7c/0e63e34eb06634181c63adacca38b79ff8f35c37e3c13e3c02\n",
            "Successfully built wget\n",
            "Installing collected packages: wget\n",
            "Successfully installed wget-3.2\n"
          ]
        }
      ]
    },
    {
      "cell_type": "markdown",
      "metadata": {
        "id": "Kj6h8KOV_juc"
      },
      "source": [
        "To feed BERT with sentences. We first map a sentence to tokens. Each word of a sentence can be mapped to one or more tokens. This means that a token is a whole word or a subword of a word. therefore a word can either be represented by only one token or by several tokens. Using this mechanism a tokenizer can almost always map words to tokens, also unseen words. Tokens are then mapped to their index in the tokenizer vocabulary. At the end the tokens are mapped to embeddings. Theses embeddings are the input of the first layer of the 12 Transformer layers of BERT. Each transformer takes in a list of token embeddings, and produces the same number of embeddings on the output but with the values changed, of course. In the following I use code from biobert-pytorch to download and convert the biobert model to a pytorch model and also to get the tokenizer. I copied the source since I upgrades the libraries used in biobert-pytorch (Old Code)"
      ]
    },
    {
      "cell_type": "code",
      "metadata": {
        "id": "cjNrU7ou_kX1"
      },
      "source": [
        "from docopt import docopt\n",
        "import wget\n",
        "import shutil\n",
        "import os\n",
        "from os import path\n",
        "\n",
        "from transformers import BertTokenizer, BertForTokenClassification\n",
        "\n",
        "\n",
        "def get_default_biobert_path():\n",
        "    \"\"\"\n",
        "    :return: path \"/content/drive/MyDrive/MedBrain/biobert\n",
        "    \"\"\"\n",
        "    return '/content/drive/MyDrive/MedBrain/biobert'\n",
        "\n",
        "\n",
        "def download_and_extract(target_directory):\n",
        "    \"\"\"\n",
        "    Downloads and extracts biobert weights\n",
        "    :return:\n",
        "    \"\"\"\n",
        "    if(path.exists('/content/drive/MyDrive/MedBrain/biobert')):\n",
        "      return\n",
        "    force_download_and_extract(target_directory)\n",
        "\n",
        "def force_download_and_extract(target_directory):\n",
        "    \"\"\"\n",
        "    Downloads and extracts biobert weights\n",
        "    :return:\n",
        "    \"\"\"\n",
        "    # Make sure that directory for pannuke exists\n",
        "    os.makedirs(target_directory, exist_ok=True)\n",
        "    wget.download(LINK, out=target_directory)\n",
        "    downloaded_file_path = os.path.join(target_directory, \"biobert_weights.zip\")\n",
        "    shutil.unpack_archive(downloaded_file_path, target_directory)\n",
        "    os.remove(downloaded_file_path)\n",
        "\n",
        "\n",
        "def parse_arguments(arguments):\n",
        "    user_directory = arguments[\"--dir\"]\n",
        "    target_directory = user_directory if user_directory else get_default_biobert_path()\n",
        "    return target_directory\n",
        "\n",
        "\n",
        "def _load_model(model_dir):\n",
        "    assert os.path.exists(model_dir)\n",
        "    model = BertForTokenClassification.from_pretrained(\n",
        "    model_dir,\n",
        "    # we have 4 labels B, I, O and [PAD]\n",
        "    num_labels=4,\n",
        "    output_attentions = False,\n",
        "    output_hidden_states = False\n",
        "    )\n",
        "    # model = BertModel.from_pretrained(model_dir)\n",
        "    return model\n",
        "\n",
        "\n",
        "def get_biobert(download=False):\n",
        "    \"\"\"\n",
        "    Loads biobert model, if weights are not available it will download it\n",
        "    :param model_dir: Location where model weights are stored or should be downloaded to\n",
        "    :param download: If model weights should be downloaded\n",
        "    :return: HuggingFace BertModel\n",
        "    \"\"\"\n",
        "\n",
        "\n",
        "    if (download == True):\n",
        "        download_and_extract(get_default_biobert_path())\n",
        "\n",
        "    return _load_model(MODEL_DIR)\n",
        "\n",
        "MODEL_DIR = os.path.join(get_default_biobert_path(), \"biobert_v1.1_pubmed\")\n",
        "LINK = \"https://www.dropbox.com/s/dc2ki2d4jv8isrb/biobert_weights.zip?dl=1\"\n",
        "VOCAB_FILE = os.path.join(MODEL_DIR, \"vocab.txt\")\n",
        "\n",
        "def get_tokenizer(vocab_file=None):\n",
        "    vocab_file = VOCAB_FILE if vocab_file is None else vocab_file\n",
        "    os.path.isfile(vocab_file)\n",
        "    tokenizer = BertTokenizer(vocab_file=vocab_file, do_lower_case=False)\n",
        "    return tokenizer\n"
      ],
      "execution_count": null,
      "outputs": []
    },
    {
      "cell_type": "markdown",
      "metadata": {
        "id": "t9Br_RmxV8rn"
      },
      "source": [
        "In the folowing we create a BertForTokenClassification model from a BertForPreTraining model. This means all the model layers of the BertForTokenClassification which are not found in BertForPreTraining are going to be randomly initialzed. This means we need to train the model to get somthing usfull. We first download the tokenizer to create input tokens out of the sentences (old code)"
      ]
    },
    {
      "cell_type": "code",
      "metadata": {
        "id": "Fzhnf3RW5CQ3"
      },
      "source": [
        "download_and_extract(get_default_biobert_path())\n",
        "tokenizer = get_tokenizer()\n",
        "\n",
        "\n"
      ],
      "execution_count": null,
      "outputs": []
    },
    {
      "cell_type": "markdown",
      "source": [
        "This is a new model biobert base 1.2. I will download it instead of using the old model in the cell above. which is biobert 1.1. I initialize the model BertForTokenClassification which can be used to classify tokens and initialize the tokenizer. We have 4 labels and do not want to output the hidden states and output attensions also the tokenizer uses capital and small letters."
      ],
      "metadata": {
        "id": "3BZ9YlozxbBg"
      }
    },
    {
      "cell_type": "code",
      "source": [
        "from transformers import BertTokenizer, BertForTokenClassification\n",
        "\n",
        "\n",
        "tokenizer = BertTokenizer.from_pretrained(\"dmis-lab/biobert-base-cased-v1.2\", do_lower_case=False)\n",
        "\n",
        "\n",
        "model = BertForTokenClassification.from_pretrained(\n",
        "    \"dmis-lab/biobert-base-cased-v1.2\",\n",
        "    # we have 4 labels B, I, O and [PAD]\n",
        "    num_labels=4,\n",
        "    output_attentions = False,\n",
        "    output_hidden_states = False\n",
        "    )"
      ],
      "metadata": {
        "colab": {
          "base_uri": "https://localhost:8080/",
          "height": 220,
          "referenced_widgets": [
            "8c203029bee348f086e928a55bba29b8",
            "c43b75959153407394b478f25a354b04",
            "aaeda453480f4654b18bc2d984fb61dd",
            "3a263d1a1b2048c3a5ae238d1cdaec4f",
            "055c2c505c7d4b6d9b31931096e82810",
            "370318697c05436398a89fd6bb66da39",
            "8c1dd3f9e9ef48ebad1f1f2425d9ee9a",
            "9f7ca4180cc64ef9b9cb161efe6be930",
            "c1289df5da5646d59ec260ce45d3627e",
            "1546986856474514b747ec8e6b54be40",
            "4bf8b628ac7547b0b42054636b773358",
            "5d224dde43d541e1ac70c7cd32d909d7",
            "3fda83a395ed4a3fa5afd4042a87af8e",
            "60ac488406fd42b2b944ef4a185445da",
            "3c015c6100d6423eae42dd62e65ce333",
            "c74769cd7c494a36950c25086e6fc28e",
            "f2865959c27d4743907864b22acae366",
            "e476689e24574191805d0557c16866b9",
            "a0ed8e5c14004397b6554bdedd261fa8",
            "ab2a9efa177d4629b9b18ec156eebc01",
            "830646e8e565487f9d0453750caf2eab",
            "79e311af6c194f0fb55a1701292bc6c1",
            "82ebe56a966141e68093320d988c4ef0",
            "e65b58703c6f4235a29a8d17b5df2323",
            "ccd273d636ed4ca084ef3cc0b79da3ac",
            "73a339ce9f514aa690368052718339bf",
            "8c5955ffc85e4cb7a30ff1d2fae7ed57",
            "8c341f0677ca41738e12851d15b69f44",
            "b7d494e9aba1417c91cbaf7bd27e0a0f",
            "fc7f7ecda40f4baaa838cfdc3d3d10d5",
            "e84098c9d290481e99671bc0e4e2561f",
            "2c9dd833d83f488180963953eac30f6d",
            "7500199f77cd46b4abe6dd06f56e3609"
          ]
        },
        "id": "g9H6FcR5TQDZ",
        "outputId": "16af9760-a4b7-4069-bf59-d3fcf4b9240e"
      },
      "execution_count": null,
      "outputs": [
        {
          "output_type": "display_data",
          "data": {
            "text/plain": [
              "Downloading:   0%|          | 0.00/208k [00:00<?, ?B/s]"
            ],
            "application/vnd.jupyter.widget-view+json": {
              "version_major": 2,
              "version_minor": 0,
              "model_id": "8c203029bee348f086e928a55bba29b8"
            }
          },
          "metadata": {}
        },
        {
          "output_type": "display_data",
          "data": {
            "text/plain": [
              "Downloading:   0%|          | 0.00/1.08k [00:00<?, ?B/s]"
            ],
            "application/vnd.jupyter.widget-view+json": {
              "version_major": 2,
              "version_minor": 0,
              "model_id": "5d224dde43d541e1ac70c7cd32d909d7"
            }
          },
          "metadata": {}
        },
        {
          "output_type": "display_data",
          "data": {
            "text/plain": [
              "Downloading:   0%|          | 0.00/416M [00:00<?, ?B/s]"
            ],
            "application/vnd.jupyter.widget-view+json": {
              "version_major": 2,
              "version_minor": 0,
              "model_id": "82ebe56a966141e68093320d988c4ef0"
            }
          },
          "metadata": {}
        },
        {
          "output_type": "stream",
          "name": "stderr",
          "text": [
            "Some weights of the model checkpoint at dmis-lab/biobert-base-cased-v1.2 were not used when initializing BertForTokenClassification: ['cls.predictions.transform.LayerNorm.bias', 'cls.predictions.transform.LayerNorm.weight', 'cls.predictions.decoder.bias', 'cls.seq_relationship.bias', 'cls.seq_relationship.weight', 'cls.predictions.decoder.weight', 'cls.predictions.transform.dense.weight', 'cls.predictions.bias', 'cls.predictions.transform.dense.bias']\n",
            "- This IS expected if you are initializing BertForTokenClassification from the checkpoint of a model trained on another task or with another architecture (e.g. initializing a BertForSequenceClassification model from a BertForPreTraining model).\n",
            "- This IS NOT expected if you are initializing BertForTokenClassification from the checkpoint of a model that you expect to be exactly identical (initializing a BertForSequenceClassification model from a BertForSequenceClassification model).\n",
            "Some weights of BertForTokenClassification were not initialized from the model checkpoint at dmis-lab/biobert-base-cased-v1.2 and are newly initialized: ['classifier.weight', 'classifier.bias']\n",
            "You should probably TRAIN this model on a down-stream task to be able to use it for predictions and inference.\n"
          ]
        }
      ]
    },
    {
      "cell_type": "markdown",
      "metadata": {
        "id": "emaJYSxn5TgP"
      },
      "source": [
        "Let’s apply the tokenizer to one sentence just to see the output."
      ]
    },
    {
      "cell_type": "code",
      "metadata": {
        "colab": {
          "base_uri": "https://localhost:8080/"
        },
        "id": "pJLOeNaE5ZBt",
        "outputId": "25285faf-e9c4-43fc-e815-fafe594b139a"
      },
      "source": [
        "print(' Original: ', sentences[0])\n",
        "\n",
        "# Print the sentence split into tokens.\n",
        "sentence = \" \".join(sentences[0])\n",
        "\n",
        "print('Tokenized: ', tokenizer.tokenize(sentence))\n",
        "\n",
        "# Print the sentence mapped to token ids.\n",
        "print('Token IDs: ', tokenizer.convert_tokens_to_ids(tokenizer.tokenize(sentence)))"
      ],
      "execution_count": null,
      "outputs": [
        {
          "output_type": "stream",
          "name": "stdout",
          "text": [
            " Original:  ['Identification', 'of', 'APC2', ',', 'a', 'homologue', 'of', 'the', 'adenomatous', 'polyposis', 'coli', 'tumour', 'suppressor', '.']\n",
            "Tokenized:  ['I', '##dent', '##ification', 'of', 'AP', '##C', '##2', ',', 'a', 'ho', '##mo', '##logue', 'of', 'the', 'ad', '##eno', '##mat', '##ous', 'p', '##oly', '##po', '##sis', 'co', '##li', 't', '##umour', 'suppress', '##or', '.']\n",
            "Token IDs:  [146, 11951, 5783, 1104, 10997, 1658, 1477, 117, 170, 16358, 3702, 12733, 1104, 1103, 8050, 26601, 21943, 2285, 185, 23415, 5674, 4863, 1884, 2646, 189, 27226, 17203, 1766, 119]\n"
          ]
        }
      ]
    },
    {
      "cell_type": "markdown",
      "metadata": {
        "id": "tN-QAa2t5fT6"
      },
      "source": []
    },
    {
      "cell_type": "code",
      "metadata": {
        "colab": {
          "base_uri": "https://localhost:8080/"
        },
        "id": "0XjTMD4b5fmt",
        "outputId": "58a06144-77c2-4229-c433-238da19b53c6"
      },
      "source": [
        "# Map each unique label to an integer.\n",
        "unique_labels_sorted = list(unique_labels)\n",
        "unique_labels_sorted.sort()\n",
        "label_2_index_map = {label:index for index, label in enumerate(unique_labels_sorted)}\n",
        "label_2_index_map.update({'X':-100})\n",
        "index_2_label_map = {index:label for index, label in enumerate(unique_labels_sorted)}\n",
        "index_2_label_map.update({-100:'X'})\n",
        "\n",
        "print(label_2_index_map)\n",
        "print(index_2_label_map)"
      ],
      "execution_count": null,
      "outputs": [
        {
          "output_type": "stream",
          "name": "stdout",
          "text": [
            "{'B': 0, 'I': 1, 'O': 2, 'X': -100}\n",
            "{0: 'B', 1: 'I', 2: 'O', -100: 'X'}\n"
          ]
        }
      ]
    },
    {
      "cell_type": "markdown",
      "metadata": {
        "id": "tmToJHzQ8K9C"
      },
      "source": [
        "plot the distibution of sentence lengths."
      ]
    },
    {
      "cell_type": "code",
      "metadata": {
        "colab": {
          "base_uri": "https://localhost:8080/",
          "height": 496
        },
        "id": "L2rcIA7l8Qrb",
        "outputId": "0782516e-b614-4e58-efe5-f46ef6c44d8c"
      },
      "source": [
        "import numpy as np\n",
        "\n",
        "# Record the length of each sequence.\n",
        "lengths = []\n",
        "\n",
        "# For every sentence...\n",
        "for sen in sentences:\n",
        "\n",
        "    # Reconstruct the sentence to let BERT decide how to tokenize it.\n",
        "    sen = ' '.join(sen)\n",
        "\n",
        "    # `encode` will:\n",
        "    #   (1) Tokenize the sentence.\n",
        "    #   (2) Prepend the `[CLS]` token to the start.\n",
        "    #   (3) Append the `[SEP]` token to the end.\n",
        "    #   (4) Map tokens to their IDs.\n",
        "    encoded_sent = tokenizer.encode(\n",
        "                        sen,                      # Sentence to encode.\n",
        "                        add_special_tokens = True, # Add '[CLS]' and '[SEP]'\n",
        "                   )\n",
        "\n",
        "    # Record the length of the sentence after tokenization.\n",
        "    lengths.append(len(encoded_sent))\n",
        "print('   Min length: {:,} tokens'.format(min(lengths)))\n",
        "print('   Max length: {:,} tokens'.format(max(lengths)))\n",
        "print('Median length: {:,} tokens'.format(int(np.median(lengths))))\n",
        "import matplotlib.pyplot as plt\n",
        "import seaborn as sns\n",
        "\n",
        "sns.set(style='darkgrid')\n",
        "\n",
        "# Increase the plot size and font size.\n",
        "sns.set(font_scale=1.5)\n",
        "plt.rcParams[\"figure.figsize\"] = (10,5)\n",
        "\n",
        "# Plot the distribution of comment lengths.\n",
        "sns.distplot(lengths, kde=False, rug=False)\n",
        "\n",
        "plt.title('Sentence Lengths')\n",
        "plt.xlabel('Sentence Length')\n",
        "plt.ylabel('# of Sentences')\n"
      ],
      "execution_count": null,
      "outputs": [
        {
          "output_type": "stream",
          "name": "stdout",
          "text": [
            "   Min length: 4 tokens\n",
            "   Max length: 300 tokens\n",
            "Median length: 35 tokens\n"
          ]
        },
        {
          "output_type": "stream",
          "name": "stderr",
          "text": [
            "/usr/local/lib/python3.7/dist-packages/seaborn/distributions.py:2619: FutureWarning: `distplot` is a deprecated function and will be removed in a future version. Please adapt your code to use either `displot` (a figure-level function with similar flexibility) or `histplot` (an axes-level function for histograms).\n",
            "  warnings.warn(msg, FutureWarning)\n"
          ]
        },
        {
          "output_type": "execute_result",
          "data": {
            "text/plain": [
              "Text(0, 0.5, '# of Sentences')"
            ]
          },
          "metadata": {},
          "execution_count": 13
        },
        {
          "output_type": "display_data",
          "data": {
            "text/plain": [
              "<Figure size 720x360 with 1 Axes>"
            ],
            "image/png": "[encoded data removed]"
          },
          "metadata": {}
        }
      ]
    },
    {
      "cell_type": "markdown",
      "metadata": {
        "id": "63AKzZcP-upE"
      },
      "source": [
        "tokenize the sentences where input_ids is an array of arrays each sub array include a tokenized sentence. attension_masks are to check which tokens are relevant."
      ]
    },
    {
      "cell_type": "code",
      "metadata": {
        "colab": {
          "base_uri": "https://localhost:8080/"
        },
        "id": "EhMiAJ9T-u7A",
        "outputId": "5787ce8a-e85e-4115-b428-eea1cf36ac28"
      },
      "source": [
        "# Tokenize all of the sentences and map the tokens to thier word IDs.\n",
        "input_ids = []\n",
        "attention_masks = []\n",
        "\n",
        "# For every sentence...\n",
        "for sent in sentences:\n",
        "\n",
        "    # Reconstruct the sentence--otherwise `tokenizer` will interpret the list\n",
        "    # of string tokens as having already been tokenized by BERT.\n",
        "    sent_str = ' '.join(sent)\n",
        "\n",
        "    # `encode_plus` will:\n",
        "    #   (1) Tokenize the sentence.\n",
        "    #   (2) Prepend the `[CLS]` token to the start.\n",
        "    #   (3) Append the `[SEP]` token to the end.\n",
        "    #   (4) Map tokens to their IDs.\n",
        "    #   (5) Pad or truncate the sentence to `max_length`\n",
        "    #   (6) Create attention masks for [PAD] tokens.\n",
        "    encoded_dict = tokenizer.encode_plus(\n",
        "                        sent_str,                  # Sentence to encode.\n",
        "                        add_special_tokens = True, # Add '[CLS]' and '[SEP]'\n",
        "                        truncation = True,\n",
        "                        max_length = 128,           # Pad & truncate all sentences.\n",
        "                        pad_to_max_length = True,\n",
        "                        return_attention_mask = True,   # Construct attn. masks.\n",
        "                        return_tensors = 'pt',     # Return pytorch tensors.\n",
        "                   )\n",
        "\n",
        "    # Add the encoded sentence to the list.\n",
        "    input_ids.append(encoded_dict['input_ids'][0])\n",
        "\n",
        "    # And its attention mask (simply differentiates padding from non-padding).\n",
        "    attention_masks.append(encoded_dict['attention_mask'][0])\n",
        "\n",
        "# Print sentence 0, now as a list of IDs.\n",
        "print('Original: ', sentences[0])\n",
        "print('Token IDs:', input_ids[0])\n",
        "print('Masks:', attention_masks[0])"
      ],
      "execution_count": null,
      "outputs": [
        {
          "output_type": "stream",
          "name": "stderr",
          "text": [
            "/usr/local/lib/python3.7/dist-packages/transformers/tokenization_utils_base.py:2277: FutureWarning: The `pad_to_max_length` argument is deprecated and will be removed in a future version, use `padding=True` or `padding='longest'` to pad to the longest sequence in the batch, or use `padding='max_length'` to pad to a max length. In this case, you can give a specific length with `max_length` (e.g. `max_length=45`) or leave max_length to None to pad to the maximal input size of the model (e.g. 512 for Bert).\n",
            "  FutureWarning,\n"
          ]
        },
        {
          "output_type": "stream",
          "name": "stdout",
          "text": [
            "Original:  ['Identification', 'of', 'APC2', ',', 'a', 'homologue', 'of', 'the', 'adenomatous', 'polyposis', 'coli', 'tumour', 'suppressor', '.']\n",
            "Token IDs: tensor([  101,   146, 11951,  5783,  1104, 10997,  1658,  1477,   117,   170,\n",
            "        16358,  3702, 12733,  1104,  1103,  8050, 26601, 21943,  2285,   185,\n",
            "        23415,  5674,  4863,  1884,  2646,   189, 27226, 17203,  1766,   119,\n",
            "          102,     0,     0,     0,     0,     0,     0,     0,     0,     0,\n",
            "            0,     0,     0,     0,     0,     0,     0,     0,     0,     0,\n",
            "            0,     0,     0,     0,     0,     0,     0,     0,     0,     0,\n",
            "            0,     0,     0,     0,     0,     0,     0,     0,     0,     0,\n",
            "            0,     0,     0,     0,     0,     0,     0,     0,     0,     0,\n",
            "            0,     0,     0,     0,     0,     0,     0,     0,     0,     0,\n",
            "            0,     0,     0,     0,     0,     0,     0,     0,     0,     0,\n",
            "            0,     0,     0,     0,     0,     0,     0,     0,     0,     0,\n",
            "            0,     0,     0,     0,     0,     0,     0,     0,     0,     0,\n",
            "            0,     0,     0,     0,     0,     0,     0,     0])\n",
            "Masks: tensor([1, 1, 1, 1, 1, 1, 1, 1, 1, 1, 1, 1, 1, 1, 1, 1, 1, 1, 1, 1, 1, 1, 1, 1,\n",
            "        1, 1, 1, 1, 1, 1, 1, 0, 0, 0, 0, 0, 0, 0, 0, 0, 0, 0, 0, 0, 0, 0, 0, 0,\n",
            "        0, 0, 0, 0, 0, 0, 0, 0, 0, 0, 0, 0, 0, 0, 0, 0, 0, 0, 0, 0, 0, 0, 0, 0,\n",
            "        0, 0, 0, 0, 0, 0, 0, 0, 0, 0, 0, 0, 0, 0, 0, 0, 0, 0, 0, 0, 0, 0, 0, 0,\n",
            "        0, 0, 0, 0, 0, 0, 0, 0, 0, 0, 0, 0, 0, 0, 0, 0, 0, 0, 0, 0, 0, 0, 0, 0,\n",
            "        0, 0, 0, 0, 0, 0, 0, 0])\n"
          ]
        }
      ]
    },
    {
      "cell_type": "markdown",
      "metadata": {
        "id": "smbeHNNTcwY-"
      },
      "source": [
        "This snippet is simple it is about labeling the tokens. After tokenization some words are tokenized to more thant one token. At the end the number of tokens in a sentence and the number of labels are going to be more than the number of words and original labels. The algorithm is going to assign all tokens of a specific word the same token as the original token of the word."
      ]
    },
    {
      "cell_type": "code",
      "metadata": {
        "id": "kDCfJPLjFn0r"
      },
      "source": [
        "# New labels for all of the input sentences.\n",
        "new_labels = []\n",
        "\n",
        "# The special label ID we'll give to \"extra\" tokens.\n",
        "null_label_id = -100\n",
        "\n",
        "# For each sentence...\n",
        "for (sen, orig_labels) in zip(input_ids, labels):\n",
        "\n",
        "    # Create a new list to hold the adjusted labels for this sentence.\n",
        "    padded_labels = []\n",
        "\n",
        "    # This will be our index into the original label list.\n",
        "    orig_labels_i = 0\n",
        "\n",
        "    # For each token in the padded sentence...\n",
        "    for token_id in sen:\n",
        "\n",
        "        # Pull the value out of the tensor.\n",
        "        token_id = token_id.numpy().item()\n",
        "\n",
        "        # If `[PAD]`, `[CLS]`, or `[SEP]`...\n",
        "        if (token_id == tokenizer.pad_token_id) or \\\n",
        "            (token_id == tokenizer.cls_token_id) or \\\n",
        "            (token_id == tokenizer.sep_token_id):\n",
        "\n",
        "            # Assign it the null label.\n",
        "            padded_labels.append(null_label_id)\n",
        "\n",
        "        # If the token string starts with \"##\"...\n",
        "        elif tokenizer.convert_ids_to_tokens(token_id)[0:2] == '##':\n",
        "\n",
        "            # It's a subword token, and not part of the original dataset, so\n",
        "            # assign it the null label.\n",
        "            padded_labels.append(label_2_index_map[orig_labels[orig_labels_i-1]])\n",
        "\n",
        "        # If it's not any of the above...\n",
        "        else:\n",
        "\n",
        "            # This token corresponds to one of the original ones, so assign it\n",
        "            # it's original label.\n",
        "\n",
        "            # Look up the label for this token.\n",
        "            label_str = orig_labels[orig_labels_i]\n",
        "\n",
        "            # Map the label to its ID, and assign it.\n",
        "            padded_labels.append(label_2_index_map[label_str])\n",
        "\n",
        "            # Increment our index into the original labels list.\n",
        "            orig_labels_i += 1\n",
        "\n",
        "    # If we did this right, then the new `padded_labels` list should match\n",
        "    # the length of the tokenized sentence.\n",
        "    assert(len(sen) == len(padded_labels))\n",
        "\n",
        "    # Store the updated labels list for this sentence.\n",
        "    new_labels.append(padded_labels)\n"
      ],
      "execution_count": null,
      "outputs": []
    },
    {
      "cell_type": "markdown",
      "metadata": {
        "id": "OLwhDffxdYp3"
      },
      "source": []
    },
    {
      "cell_type": "code",
      "metadata": {
        "colab": {
          "base_uri": "https://localhost:8080/"
        },
        "id": "xVWvfwARdY2k",
        "outputId": "6563f1de-9898-4965-87e4-fe328288b81e"
      },
      "source": [
        "print('\\nSentence:    ', sentences[100])\n",
        "print('\\nLabels:      ', labels[100])\n",
        "print('\\nBERT Tokens: ', tokenizer.tokenize(' '.join(sentences[100])))\n",
        "print('\\nToken IDs:   ', input_ids[100])\n",
        "print('\\nNew Labels:  ', list(map(lambda x: index_2_label_map[x],  new_labels[100])))\n",
        "print('\\nMask:        ', attention_masks[100])"
      ],
      "execution_count": null,
      "outputs": [
        {
          "output_type": "stream",
          "name": "stdout",
          "text": [
            "\n",
            "Sentence:     ['The', 'positive', 'control', 'for', 'DMT1', 'up', '-', 'regulation', 'was', 'a', 'murine', 'model', 'of', 'dietary', 'iron', 'deficiency', 'that', 'demonstrated', 'greatly', 'increased', 'levels', 'of', 'duodenal', 'DMT1', '(', 'IRE', ')', 'mRNA', '.']\n",
            "\n",
            "Labels:       ['O', 'O', 'O', 'O', 'O', 'O', 'O', 'O', 'O', 'O', 'O', 'O', 'O', 'B', 'I', 'I', 'O', 'O', 'O', 'O', 'O', 'O', 'O', 'O', 'O', 'O', 'O', 'O', 'O']\n",
            "\n",
            "BERT Tokens:  ['The', 'positive', 'control', 'for', 'D', '##MT', '##1', 'up', '-', 'regulation', 'was', 'a', 'm', '##uri', '##ne', 'model', 'of', 'diet', '##ary', 'iron', 'deficiency', 'that', 'demonstrated', 'greatly', 'increased', 'levels', 'of', 'duo', '##den', '##al', 'D', '##MT', '##1', '(', 'I', '##RE', ')', 'm', '##RNA', '.']\n",
            "\n",
            "Token IDs:    tensor([  101,  1109,  3112,  1654,  1111,   141, 13910,  1475,  1146,   118,\n",
            "         8585,  1108,   170,   182,  8212,  1673,  2235,  1104, 10211,  3113,\n",
            "         3926, 21344,  1115,  7160,  5958,  2569,  3001,  1104,  6862,  2883,\n",
            "         1348,   141, 13910,  1475,   113,   146, 16941,   114,   182, 15654,\n",
            "          119,   102,     0,     0,     0,     0,     0,     0,     0,     0,\n",
            "            0,     0,     0,     0,     0,     0,     0,     0,     0,     0,\n",
            "            0,     0,     0,     0,     0,     0,     0,     0,     0,     0,\n",
            "            0,     0,     0,     0,     0,     0,     0,     0,     0,     0,\n",
            "            0,     0,     0,     0,     0,     0,     0,     0,     0,     0,\n",
            "            0,     0,     0,     0,     0,     0,     0,     0,     0,     0,\n",
            "            0,     0,     0,     0,     0,     0,     0,     0,     0,     0,\n",
            "            0,     0,     0,     0,     0,     0,     0,     0,     0,     0,\n",
            "            0,     0,     0,     0,     0,     0,     0,     0])\n",
            "\n",
            "New Labels:   ['X', 'O', 'O', 'O', 'O', 'O', 'O', 'O', 'O', 'O', 'O', 'O', 'O', 'O', 'O', 'O', 'O', 'O', 'B', 'B', 'I', 'I', 'O', 'O', 'O', 'O', 'O', 'O', 'O', 'O', 'O', 'O', 'O', 'O', 'O', 'O', 'O', 'O', 'O', 'O', 'O', 'X', 'X', 'X', 'X', 'X', 'X', 'X', 'X', 'X', 'X', 'X', 'X', 'X', 'X', 'X', 'X', 'X', 'X', 'X', 'X', 'X', 'X', 'X', 'X', 'X', 'X', 'X', 'X', 'X', 'X', 'X', 'X', 'X', 'X', 'X', 'X', 'X', 'X', 'X', 'X', 'X', 'X', 'X', 'X', 'X', 'X', 'X', 'X', 'X', 'X', 'X', 'X', 'X', 'X', 'X', 'X', 'X', 'X', 'X', 'X', 'X', 'X', 'X', 'X', 'X', 'X', 'X', 'X', 'X', 'X', 'X', 'X', 'X', 'X', 'X', 'X', 'X', 'X', 'X', 'X', 'X', 'X', 'X', 'X', 'X', 'X', 'X']\n",
            "\n",
            "Mask:         tensor([1, 1, 1, 1, 1, 1, 1, 1, 1, 1, 1, 1, 1, 1, 1, 1, 1, 1, 1, 1, 1, 1, 1, 1,\n",
            "        1, 1, 1, 1, 1, 1, 1, 1, 1, 1, 1, 1, 1, 1, 1, 1, 1, 1, 0, 0, 0, 0, 0, 0,\n",
            "        0, 0, 0, 0, 0, 0, 0, 0, 0, 0, 0, 0, 0, 0, 0, 0, 0, 0, 0, 0, 0, 0, 0, 0,\n",
            "        0, 0, 0, 0, 0, 0, 0, 0, 0, 0, 0, 0, 0, 0, 0, 0, 0, 0, 0, 0, 0, 0, 0, 0,\n",
            "        0, 0, 0, 0, 0, 0, 0, 0, 0, 0, 0, 0, 0, 0, 0, 0, 0, 0, 0, 0, 0, 0, 0, 0,\n",
            "        0, 0, 0, 0, 0, 0, 0, 0])\n"
          ]
        }
      ]
    },
    {
      "cell_type": "markdown",
      "metadata": {
        "id": "pWz9gm73_euV"
      },
      "source": [
        "convert the data into pyThorch tensors"
      ]
    },
    {
      "cell_type": "code",
      "metadata": {
        "id": "0lnFfJE5_e53"
      },
      "source": [
        "# Convert the lists into PyTorch tensors.\n",
        "\n",
        "# `input_ids` is a list of tensor arrays--stack them into a matrix with size\n",
        "# [7,660  x  50].\n",
        "pt_input_ids = torch.stack(input_ids, dim=0)\n",
        "\n",
        "# `attention_masks` is a list of tensor arrays--stack them into a matrix with\n",
        "# size [7,660  x  50].\n",
        "pt_attention_masks = torch.stack(attention_masks, dim=0)\n",
        "\n",
        "# Labels is a list of lists. Convert it into a tensor matrix with size\n",
        "# [7,660  x  50].\n",
        "pt_labels = torch.tensor(new_labels, dtype=torch.long)"
      ],
      "execution_count": null,
      "outputs": []
    },
    {
      "cell_type": "markdown",
      "metadata": {
        "id": "RqhiU0zu_lhC"
      },
      "source": [
        "split train and validation sets."
      ]
    },
    {
      "cell_type": "code",
      "metadata": {
        "colab": {
          "base_uri": "https://localhost:8080/"
        },
        "id": "gEzhvpDNCBKh",
        "outputId": "0ff76e1a-4b8a-40cf-ccf6-489adc05620a"
      },
      "source": [
        "from torch.utils.data import TensorDataset, random_split\n",
        "\n",
        "# Combine the training inputs into a TensorDataset.\n",
        "dataset = TensorDataset(pt_input_ids, pt_attention_masks, pt_labels)\n",
        "\n",
        "# Create a 90-10 train-validation split.\n",
        "\n",
        "# Calculate the number of samples to include in each set.\n",
        "train_size = int(0.8 * len(dataset))\n",
        "val_size = len(dataset) - train_size\n",
        "\n",
        "# Divide the dataset by randomly selecting samples.\n",
        "train_dataset, val_dataset = random_split(dataset, [train_size, val_size])\n",
        "\n",
        "print('{:>5,} training samples'.format(train_size))\n",
        "print('{:>5,} validation samples'.format(val_size))"
      ],
      "execution_count": null,
      "outputs": [
        {
          "output_type": "stream",
          "name": "stdout",
          "text": [
            "13,776 training samples\n",
            "3,444 validation samples\n"
          ]
        }
      ]
    },
    {
      "cell_type": "markdown",
      "metadata": {
        "id": "AOIqBmXTCfxt"
      },
      "source": [
        "configure dataloader with batchsize of 16 and a random sampler. for validation set not need for random sampler."
      ]
    },
    {
      "cell_type": "code",
      "metadata": {
        "id": "HWL-EyArCgBE"
      },
      "source": [
        "from torch.utils.data import DataLoader, RandomSampler, SequentialSampler\n",
        "\n",
        "# The DataLoader needs to know our batch size for training, so we specify it\n",
        "# here. For fine-tuning BERT on a specific task, the authors recommend a batch\n",
        "# size of 16 or 32.\n",
        "batch_size = 32\n",
        "\n",
        "# Create the DataLoaders for our training and validation sets.\n",
        "# We'll take training samples in random order.\n",
        "train_dataloader = DataLoader(\n",
        "            train_dataset,  # The training samples.\n",
        "            sampler = RandomSampler(train_dataset), # Select batches randomly\n",
        "            batch_size = batch_size # Trains with this batch size.\n",
        "        )\n",
        "\n",
        "# For validation the order doesn't matter, so we'll just read them sequentially.\n",
        "validation_dataloader = DataLoader(\n",
        "            val_dataset, # The validation samples.\n",
        "            sampler = SequentialSampler(val_dataset), # Pull out batches sequentially.\n",
        "            batch_size = batch_size # Evaluate with this batch size.\n",
        "        )"
      ],
      "execution_count": null,
      "outputs": []
    },
    {
      "cell_type": "markdown",
      "metadata": {
        "id": "FsJIzAsmCpDT"
      },
      "source": [
        "# This is the number of labels in our dataset, so we will be doing 4-way classification (all labels plus our padding label)\n",
        "\n",
        "B, I, O, X"
      ]
    },
    {
      "cell_type": "code",
      "metadata": {
        "colab": {
          "base_uri": "https://localhost:8080/"
        },
        "id": "ekvB92tdCpNa",
        "outputId": "7f0aa264-1368-4d03-d5a0-11f85894f902"
      },
      "source": [
        "# This is the number of labels in our dataset, so we will be doing 4-way classification (all labels plus our padding label)\n",
        "len(label_2_index_map)"
      ],
      "execution_count": null,
      "outputs": [
        {
          "output_type": "execute_result",
          "data": {
            "text/plain": [
              "4"
            ]
          },
          "metadata": {},
          "execution_count": 20
        }
      ]
    },
    {
      "cell_type": "markdown",
      "metadata": {
        "id": "DVXPx_2IC16c"
      },
      "source": []
    },
    {
      "cell_type": "markdown",
      "source": [
        "Load the model to GPU"
      ],
      "metadata": {
        "id": "l7TlfSCT5p6I"
      }
    },
    {
      "cell_type": "code",
      "metadata": {
        "colab": {
          "base_uri": "https://localhost:8080/",
          "height": 329
        },
        "id": "v0BRjLlxC2D0",
        "outputId": "39310583-68d6-4996-aa11-273f150cfab8"
      },
      "source": [
        "#model = get_biobert()\n",
        "model.cuda()"
      ],
      "execution_count": null,
      "outputs": [
        {
          "output_type": "error",
          "ename": "RuntimeError",
          "evalue": "ignored",
          "traceback": [
            "\u001b[0;31m---------------------------------------------------------------------------\u001b[0m",
            "\u001b[0;31mRuntimeError\u001b[0m                              Traceback (most recent call last)",
            "\u001b[0;32m<ipython-input-21-d838bae36fd4>\u001b[0m in \u001b[0;36m<module>\u001b[0;34m()\u001b[0m\n\u001b[1;32m      1\u001b[0m \u001b[0;31m#model = get_biobert()\u001b[0m\u001b[0;34m\u001b[0m\u001b[0;34m\u001b[0m\u001b[0;34m\u001b[0m\u001b[0m\n\u001b[0;32m----> 2\u001b[0;31m \u001b[0mmodel\u001b[0m\u001b[0;34m.\u001b[0m\u001b[0mcuda\u001b[0m\u001b[0;34m(\u001b[0m\u001b[0;34m)\u001b[0m\u001b[0;34m\u001b[0m\u001b[0;34m\u001b[0m\u001b[0m\n\u001b[0m",
            "\u001b[0;32m/usr/local/lib/python3.7/dist-packages/torch/nn/modules/module.py\u001b[0m in \u001b[0;36mcuda\u001b[0;34m(self, device)\u001b[0m\n\u001b[1;32m    678\u001b[0m             \u001b[0mModule\u001b[0m\u001b[0;34m:\u001b[0m \u001b[0mself\u001b[0m\u001b[0;34m\u001b[0m\u001b[0;34m\u001b[0m\u001b[0m\n\u001b[1;32m    679\u001b[0m         \"\"\"\n\u001b[0;32m--> 680\u001b[0;31m         \u001b[0;32mreturn\u001b[0m \u001b[0mself\u001b[0m\u001b[0;34m.\u001b[0m\u001b[0m_apply\u001b[0m\u001b[0;34m(\u001b[0m\u001b[0;32mlambda\u001b[0m \u001b[0mt\u001b[0m\u001b[0;34m:\u001b[0m \u001b[0mt\u001b[0m\u001b[0;34m.\u001b[0m\u001b[0mcuda\u001b[0m\u001b[0;34m(\u001b[0m\u001b[0mdevice\u001b[0m\u001b[0;34m)\u001b[0m\u001b[0;34m)\u001b[0m\u001b[0;34m\u001b[0m\u001b[0;34m\u001b[0m\u001b[0m\n\u001b[0m\u001b[1;32m    681\u001b[0m \u001b[0;34m\u001b[0m\u001b[0m\n\u001b[1;32m    682\u001b[0m     \u001b[0;32mdef\u001b[0m \u001b[0mxpu\u001b[0m\u001b[0;34m(\u001b[0m\u001b[0mself\u001b[0m\u001b[0;34m:\u001b[0m \u001b[0mT\u001b[0m\u001b[0;34m,\u001b[0m \u001b[0mdevice\u001b[0m\u001b[0;34m:\u001b[0m \u001b[0mOptional\u001b[0m\u001b[0;34m[\u001b[0m\u001b[0mUnion\u001b[0m\u001b[0;34m[\u001b[0m\u001b[0mint\u001b[0m\u001b[0;34m,\u001b[0m \u001b[0mdevice\u001b[0m\u001b[0;34m]\u001b[0m\u001b[0;34m]\u001b[0m \u001b[0;34m=\u001b[0m \u001b[0;32mNone\u001b[0m\u001b[0;34m)\u001b[0m \u001b[0;34m->\u001b[0m \u001b[0mT\u001b[0m\u001b[0;34m:\u001b[0m\u001b[0;34m\u001b[0m\u001b[0;34m\u001b[0m\u001b[0m\n",
            "\u001b[0;32m/usr/local/lib/python3.7/dist-packages/torch/nn/modules/module.py\u001b[0m in \u001b[0;36m_apply\u001b[0;34m(self, fn)\u001b[0m\n\u001b[1;32m    568\u001b[0m     \u001b[0;32mdef\u001b[0m \u001b[0m_apply\u001b[0m\u001b[0;34m(\u001b[0m\u001b[0mself\u001b[0m\u001b[0;34m,\u001b[0m \u001b[0mfn\u001b[0m\u001b[0;34m)\u001b[0m\u001b[0;34m:\u001b[0m\u001b[0;34m\u001b[0m\u001b[0;34m\u001b[0m\u001b[0m\n\u001b[1;32m    569\u001b[0m         \u001b[0;32mfor\u001b[0m \u001b[0mmodule\u001b[0m \u001b[0;32min\u001b[0m \u001b[0mself\u001b[0m\u001b[0;34m.\u001b[0m\u001b[0mchildren\u001b[0m\u001b[0;34m(\u001b[0m\u001b[0;34m)\u001b[0m\u001b[0;34m:\u001b[0m\u001b[0;34m\u001b[0m\u001b[0;34m\u001b[0m\u001b[0m\n\u001b[0;32m--> 570\u001b[0;31m             \u001b[0mmodule\u001b[0m\u001b[0;34m.\u001b[0m\u001b[0m_apply\u001b[0m\u001b[0;34m(\u001b[0m\u001b[0mfn\u001b[0m\u001b[0;34m)\u001b[0m\u001b[0;34m\u001b[0m\u001b[0;34m\u001b[0m\u001b[0m\n\u001b[0m\u001b[1;32m    571\u001b[0m \u001b[0;34m\u001b[0m\u001b[0m\n\u001b[1;32m    572\u001b[0m         \u001b[0;32mdef\u001b[0m \u001b[0mcompute_should_use_set_data\u001b[0m\u001b[0;34m(\u001b[0m\u001b[0mtensor\u001b[0m\u001b[0;34m,\u001b[0m \u001b[0mtensor_applied\u001b[0m\u001b[0;34m)\u001b[0m\u001b[0;34m:\u001b[0m\u001b[0;34m\u001b[0m\u001b[0;34m\u001b[0m\u001b[0m\n",
            "\u001b[0;32m/usr/local/lib/python3.7/dist-packages/torch/nn/modules/module.py\u001b[0m in \u001b[0;36m_apply\u001b[0;34m(self, fn)\u001b[0m\n\u001b[1;32m    568\u001b[0m     \u001b[0;32mdef\u001b[0m \u001b[0m_apply\u001b[0m\u001b[0;34m(\u001b[0m\u001b[0mself\u001b[0m\u001b[0;34m,\u001b[0m \u001b[0mfn\u001b[0m\u001b[0;34m)\u001b[0m\u001b[0;34m:\u001b[0m\u001b[0;34m\u001b[0m\u001b[0;34m\u001b[0m\u001b[0m\n\u001b[1;32m    569\u001b[0m         \u001b[0;32mfor\u001b[0m \u001b[0mmodule\u001b[0m \u001b[0;32min\u001b[0m \u001b[0mself\u001b[0m\u001b[0;34m.\u001b[0m\u001b[0mchildren\u001b[0m\u001b[0;34m(\u001b[0m\u001b[0;34m)\u001b[0m\u001b[0;34m:\u001b[0m\u001b[0;34m\u001b[0m\u001b[0;34m\u001b[0m\u001b[0m\n\u001b[0;32m--> 570\u001b[0;31m             \u001b[0mmodule\u001b[0m\u001b[0;34m.\u001b[0m\u001b[0m_apply\u001b[0m\u001b[0;34m(\u001b[0m\u001b[0mfn\u001b[0m\u001b[0;34m)\u001b[0m\u001b[0;34m\u001b[0m\u001b[0;34m\u001b[0m\u001b[0m\n\u001b[0m\u001b[1;32m    571\u001b[0m \u001b[0;34m\u001b[0m\u001b[0m\n\u001b[1;32m    572\u001b[0m         \u001b[0;32mdef\u001b[0m \u001b[0mcompute_should_use_set_data\u001b[0m\u001b[0;34m(\u001b[0m\u001b[0mtensor\u001b[0m\u001b[0;34m,\u001b[0m \u001b[0mtensor_applied\u001b[0m\u001b[0;34m)\u001b[0m\u001b[0;34m:\u001b[0m\u001b[0;34m\u001b[0m\u001b[0;34m\u001b[0m\u001b[0m\n",
            "\u001b[0;32m/usr/local/lib/python3.7/dist-packages/torch/nn/modules/module.py\u001b[0m in \u001b[0;36m_apply\u001b[0;34m(self, fn)\u001b[0m\n\u001b[1;32m    568\u001b[0m     \u001b[0;32mdef\u001b[0m \u001b[0m_apply\u001b[0m\u001b[0;34m(\u001b[0m\u001b[0mself\u001b[0m\u001b[0;34m,\u001b[0m \u001b[0mfn\u001b[0m\u001b[0;34m)\u001b[0m\u001b[0;34m:\u001b[0m\u001b[0;34m\u001b[0m\u001b[0;34m\u001b[0m\u001b[0m\n\u001b[1;32m    569\u001b[0m         \u001b[0;32mfor\u001b[0m \u001b[0mmodule\u001b[0m \u001b[0;32min\u001b[0m \u001b[0mself\u001b[0m\u001b[0;34m.\u001b[0m\u001b[0mchildren\u001b[0m\u001b[0;34m(\u001b[0m\u001b[0;34m)\u001b[0m\u001b[0;34m:\u001b[0m\u001b[0;34m\u001b[0m\u001b[0;34m\u001b[0m\u001b[0m\n\u001b[0;32m--> 570\u001b[0;31m             \u001b[0mmodule\u001b[0m\u001b[0;34m.\u001b[0m\u001b[0m_apply\u001b[0m\u001b[0;34m(\u001b[0m\u001b[0mfn\u001b[0m\u001b[0;34m)\u001b[0m\u001b[0;34m\u001b[0m\u001b[0;34m\u001b[0m\u001b[0m\n\u001b[0m\u001b[1;32m    571\u001b[0m \u001b[0;34m\u001b[0m\u001b[0m\n\u001b[1;32m    572\u001b[0m         \u001b[0;32mdef\u001b[0m \u001b[0mcompute_should_use_set_data\u001b[0m\u001b[0;34m(\u001b[0m\u001b[0mtensor\u001b[0m\u001b[0;34m,\u001b[0m \u001b[0mtensor_applied\u001b[0m\u001b[0;34m)\u001b[0m\u001b[0;34m:\u001b[0m\u001b[0;34m\u001b[0m\u001b[0;34m\u001b[0m\u001b[0m\n",
            "\u001b[0;32m/usr/local/lib/python3.7/dist-packages/torch/nn/modules/module.py\u001b[0m in \u001b[0;36m_apply\u001b[0;34m(self, fn)\u001b[0m\n\u001b[1;32m    591\u001b[0m             \u001b[0;31m# `with torch.no_grad():`\u001b[0m\u001b[0;34m\u001b[0m\u001b[0;34m\u001b[0m\u001b[0;34m\u001b[0m\u001b[0m\n\u001b[1;32m    592\u001b[0m             \u001b[0;32mwith\u001b[0m \u001b[0mtorch\u001b[0m\u001b[0;34m.\u001b[0m\u001b[0mno_grad\u001b[0m\u001b[0;34m(\u001b[0m\u001b[0;34m)\u001b[0m\u001b[0;34m:\u001b[0m\u001b[0;34m\u001b[0m\u001b[0;34m\u001b[0m\u001b[0m\n\u001b[0;32m--> 593\u001b[0;31m                 \u001b[0mparam_applied\u001b[0m \u001b[0;34m=\u001b[0m \u001b[0mfn\u001b[0m\u001b[0;34m(\u001b[0m\u001b[0mparam\u001b[0m\u001b[0;34m)\u001b[0m\u001b[0;34m\u001b[0m\u001b[0;34m\u001b[0m\u001b[0m\n\u001b[0m\u001b[1;32m    594\u001b[0m             \u001b[0mshould_use_set_data\u001b[0m \u001b[0;34m=\u001b[0m \u001b[0mcompute_should_use_set_data\u001b[0m\u001b[0;34m(\u001b[0m\u001b[0mparam\u001b[0m\u001b[0;34m,\u001b[0m \u001b[0mparam_applied\u001b[0m\u001b[0;34m)\u001b[0m\u001b[0;34m\u001b[0m\u001b[0;34m\u001b[0m\u001b[0m\n\u001b[1;32m    595\u001b[0m             \u001b[0;32mif\u001b[0m \u001b[0mshould_use_set_data\u001b[0m\u001b[0;34m:\u001b[0m\u001b[0;34m\u001b[0m\u001b[0;34m\u001b[0m\u001b[0m\n",
            "\u001b[0;32m/usr/local/lib/python3.7/dist-packages/torch/nn/modules/module.py\u001b[0m in \u001b[0;36m<lambda>\u001b[0;34m(t)\u001b[0m\n\u001b[1;32m    678\u001b[0m             \u001b[0mModule\u001b[0m\u001b[0;34m:\u001b[0m \u001b[0mself\u001b[0m\u001b[0;34m\u001b[0m\u001b[0;34m\u001b[0m\u001b[0m\n\u001b[1;32m    679\u001b[0m         \"\"\"\n\u001b[0;32m--> 680\u001b[0;31m         \u001b[0;32mreturn\u001b[0m \u001b[0mself\u001b[0m\u001b[0;34m.\u001b[0m\u001b[0m_apply\u001b[0m\u001b[0;34m(\u001b[0m\u001b[0;32mlambda\u001b[0m \u001b[0mt\u001b[0m\u001b[0;34m:\u001b[0m \u001b[0mt\u001b[0m\u001b[0;34m.\u001b[0m\u001b[0mcuda\u001b[0m\u001b[0;34m(\u001b[0m\u001b[0mdevice\u001b[0m\u001b[0;34m)\u001b[0m\u001b[0;34m)\u001b[0m\u001b[0;34m\u001b[0m\u001b[0;34m\u001b[0m\u001b[0m\n\u001b[0m\u001b[1;32m    681\u001b[0m \u001b[0;34m\u001b[0m\u001b[0m\n\u001b[1;32m    682\u001b[0m     \u001b[0;32mdef\u001b[0m \u001b[0mxpu\u001b[0m\u001b[0;34m(\u001b[0m\u001b[0mself\u001b[0m\u001b[0;34m:\u001b[0m \u001b[0mT\u001b[0m\u001b[0;34m,\u001b[0m \u001b[0mdevice\u001b[0m\u001b[0;34m:\u001b[0m \u001b[0mOptional\u001b[0m\u001b[0;34m[\u001b[0m\u001b[0mUnion\u001b[0m\u001b[0;34m[\u001b[0m\u001b[0mint\u001b[0m\u001b[0;34m,\u001b[0m \u001b[0mdevice\u001b[0m\u001b[0;34m]\u001b[0m\u001b[0;34m]\u001b[0m \u001b[0;34m=\u001b[0m \u001b[0;32mNone\u001b[0m\u001b[0;34m)\u001b[0m \u001b[0;34m->\u001b[0m \u001b[0mT\u001b[0m\u001b[0;34m:\u001b[0m\u001b[0;34m\u001b[0m\u001b[0;34m\u001b[0m\u001b[0m\n",
            "\u001b[0;32m/usr/local/lib/python3.7/dist-packages/torch/cuda/__init__.py\u001b[0m in \u001b[0;36m_lazy_init\u001b[0;34m()\u001b[0m\n\u001b[1;32m    212\u001b[0m         \u001b[0;31m# This function throws if there's a driver initialization error, no GPUs\u001b[0m\u001b[0;34m\u001b[0m\u001b[0;34m\u001b[0m\u001b[0;34m\u001b[0m\u001b[0m\n\u001b[1;32m    213\u001b[0m         \u001b[0;31m# are found or any other error occurs\u001b[0m\u001b[0;34m\u001b[0m\u001b[0;34m\u001b[0m\u001b[0;34m\u001b[0m\u001b[0m\n\u001b[0;32m--> 214\u001b[0;31m         \u001b[0mtorch\u001b[0m\u001b[0;34m.\u001b[0m\u001b[0m_C\u001b[0m\u001b[0;34m.\u001b[0m\u001b[0m_cuda_init\u001b[0m\u001b[0;34m(\u001b[0m\u001b[0;34m)\u001b[0m\u001b[0;34m\u001b[0m\u001b[0;34m\u001b[0m\u001b[0m\n\u001b[0m\u001b[1;32m    215\u001b[0m         \u001b[0;31m# Some of the queued calls may reentrantly call _lazy_init();\u001b[0m\u001b[0;34m\u001b[0m\u001b[0;34m\u001b[0m\u001b[0;34m\u001b[0m\u001b[0m\n\u001b[1;32m    216\u001b[0m         \u001b[0;31m# we need to just return without initializing in that case.\u001b[0m\u001b[0;34m\u001b[0m\u001b[0;34m\u001b[0m\u001b[0;34m\u001b[0m\u001b[0m\n",
            "\u001b[0;31mRuntimeError\u001b[0m: No CUDA GPUs are available"
          ]
        }
      ]
    },
    {
      "cell_type": "markdown",
      "metadata": {
        "id": "vmj0OXziII5e"
      },
      "source": [
        "Configure optimizer with learning rate = 5e-5, epochs = 4, eps = 1e-8"
      ]
    },
    {
      "cell_type": "code",
      "metadata": {
        "id": "Gufw1nhCIJDj",
        "colab": {
          "base_uri": "https://localhost:8080/"
        },
        "outputId": "2c4e5009-90aa-4cbc-f2ea-e06fd9c37c88"
      },
      "source": [
        "\n",
        "from transformers import AdamW, BertConfig, get_linear_schedule_with_warmup\n",
        "\n",
        "\n",
        "# # Load the AdamW optimizer\n",
        "# optimizer = AdamW(model.parameters(),\n",
        "#                   lr = 5e-5, # args.learning_rate\n",
        "#                   eps = 1e-8 # args.adam_epsilon\n",
        "#                 )\n",
        "\n",
        "# This code is taken from:\n",
        "# https://github.com/huggingface/transformers/blob/5bfcd0485ece086ebcbed2d008813037968a9e58/examples/run_glue.py#L102\n",
        "\n",
        "# Don't apply weight decay to any parameters whose names include these tokens.\n",
        "# (Here, the BERT doesn't have `gamma` or `beta` parameters, only `bias` terms)\n",
        "no_decay = ['bias', 'LayerNorm.weight']\n",
        "\n",
        "param_optimizer = list(model.named_parameters())\n",
        "# Separate the `weight` parameters from the `bias` parameters.\n",
        "# - For the `weight` parameters, this specifies a 'weight_decay_rate' of 0.01.\n",
        "# - For the `bias` parameters, the 'weight_decay_rate' is 0.0.\n",
        "optimizer_grouped_parameters = [\n",
        "    # Filter for all parameters which *don't* include 'bias', 'gamma', 'beta'.\n",
        "    {'params': [p for n, p in param_optimizer if not any(nd in n for nd in no_decay)],\n",
        "     'weight_decay_rate': 0.3},\n",
        "\n",
        "    # Filter for parameters which *do* include those.\n",
        "    {'params': [p for n, p in param_optimizer if any(nd in n for nd in no_decay)],\n",
        "     'weight_decay_rate': 0.0}\n",
        "]\n",
        "\n",
        "# Note - `optimizer_grouped_parameters` only includes the parameter values, not\n",
        "# the names.\n",
        "\n",
        "# Note: AdamW is a class from the huggingface library (as opposed to pytorch)\n",
        "# I believe the 'W' stands for 'Weight Decay fix\"\n",
        "optimizer = AdamW(model.parameters(),\n",
        "                  lr = 5e-5, # args.learning_rate - default is 5e-5, our notebook had 2e-5\n",
        "                  eps = 1e-8 # args.adam_epsilon  - default is 1e-8.\n",
        "                )\n",
        "\n",
        "# Number of training epochs\n",
        "epochs = 2\n",
        "\n",
        "# Total number of training steps is number of batches * number of epochs.\n",
        "total_steps = len(train_dataloader) * epochs\n",
        "\n",
        "# Create the learning rate scheduler.\n",
        "scheduler = get_linear_schedule_with_warmup(optimizer,\n",
        "                                            num_warmup_steps = 0,\n",
        "                                            num_training_steps = total_steps)\n",
        "\n"
      ],
      "execution_count": null,
      "outputs": [
        {
          "output_type": "stream",
          "name": "stderr",
          "text": [
            "/usr/local/lib/python3.7/dist-packages/transformers/optimization.py:309: FutureWarning: This implementation of AdamW is deprecated and will be removed in a future version. Use the PyTorch implementation torch.optim.AdamW instead, or set `no_deprecation_warning=True` to disable this warning\n",
            "  FutureWarning,\n"
          ]
        }
      ]
    },
    {
      "cell_type": "markdown",
      "metadata": {
        "id": "FLaiL__2IiW2"
      },
      "source": [
        "time formating function"
      ]
    },
    {
      "cell_type": "code",
      "metadata": {
        "id": "9b8UuFPMIifH"
      },
      "source": [
        "import time\n",
        "import numpy as np\n",
        "import datetime\n",
        "\n",
        "def format_time(elapsed):\n",
        "    '''\n",
        "    Takes a time in seconds and returns a string hh:mm:ss\n",
        "    '''\n",
        "    # Round to the nearest second.\n",
        "    elapsed_rounded = int(round((elapsed)))\n",
        "\n",
        "    # Format as hh:mm:ss\n",
        "    return str(datetime.timedelta(seconds=elapsed_rounded))"
      ],
      "execution_count": null,
      "outputs": []
    },
    {
      "cell_type": "markdown",
      "metadata": {
        "id": "nInb0rfWIxDt"
      },
      "source": [
        "Training code"
      ]
    },
    {
      "cell_type": "code",
      "metadata": {
        "colab": {
          "base_uri": "https://localhost:8080/",
          "height": 485
        },
        "id": "EfELsOJsIxMk",
        "outputId": "f683dbe4-afb5-4f46-82cc-627ec40c04a4"
      },
      "source": [
        "import random\n",
        "\n",
        "# This training code is based on the `run_glue.py` script here:\n",
        "# https://github.com/huggingface/transformers/blob/5bfcd0485ece086ebcbed2d008813037968a9e58/examples/run_glue.py#L128\n",
        "\n",
        "\n",
        "# Set the seed value all over the place to make this reproducible.\n",
        "seed_val = 42\n",
        "\n",
        "random.seed(seed_val)\n",
        "np.random.seed(seed_val)\n",
        "torch.manual_seed(seed_val)\n",
        "torch.cuda.manual_seed_all(seed_val)\n",
        "\n",
        "# Store the average loss after each epoch so we can plot them.\n",
        "loss_values = []\n",
        "\n",
        "# For each epoch...\n",
        "for epoch_i in range(0, epochs):\n",
        "\n",
        "    # ========================================\n",
        "    #               Training\n",
        "    # ========================================\n",
        "\n",
        "    # Perform one full pass over the training set.\n",
        "\n",
        "    print(\"\")\n",
        "    print('======== Epoch {:} / {:} ========'.format(epoch_i + 1, epochs))\n",
        "    print('Training...')\n",
        "\n",
        "    # Measure how long the training epoch takes.\n",
        "    t0 = time.time()\n",
        "\n",
        "    # Reset the total loss for this epoch.\n",
        "    total_loss = 0\n",
        "\n",
        "    # Put the model into training mode. Don't be mislead--the call to\n",
        "    # `train` just changes the *mode*, it doesn't *perform* the training.\n",
        "    # `dropout` and `batchnorm` layers behave differently during training\n",
        "    # vs. test (source: https://stackoverflow.com/questions/51433378/what-does-model-train-do-in-pytorch)\n",
        "    model.train()\n",
        "\n",
        "    # For each batch of training data...\n",
        "    for step, batch in enumerate(train_dataloader):\n",
        "\n",
        "        # Progress update every 40 batches.\n",
        "        if step % 40 == 0 and not step == 0:\n",
        "            # Calculate elapsed time in minutes.\n",
        "            elapsed = format_time(time.time() - t0)\n",
        "\n",
        "            # Report progress.\n",
        "            print('  Batch {:>5,}  of  {:>5,}.    Elapsed: {:}.'.format(step, len(train_dataloader), elapsed))\n",
        "\n",
        "        # Unpack this training batch from our dataloader.\n",
        "        #\n",
        "        # As we unpack the batch, we'll also copy each tensor to the GPU using the\n",
        "        # `to` method.\n",
        "        #\n",
        "        # `batch` contains three pytorch tensors:\n",
        "        #   [0]: input ids\n",
        "        #   [1]: attention masks\n",
        "        #   [2]: labels\n",
        "        b_input_ids = batch[0].to(device)\n",
        "        b_input_mask = batch[1].to(device)\n",
        "        b_labels = batch[2].to(device)\n",
        "\n",
        "        # Always clear any previously calculated gradients before performing a\n",
        "        # backward pass. PyTorch doesn't do this automatically because\n",
        "        # accumulating the gradients is \"convenient while training RNNs\".\n",
        "        # (source: https://stackoverflow.com/questions/48001598/why-do-we-need-to-call-zero-grad-in-pytorch)\n",
        "        model.zero_grad()\n",
        "\n",
        "        # Perform a forward pass (evaluate the model on this training batch).\n",
        "        # This will return the loss (rather than the model output) because we\n",
        "        # have provided the `labels`.\n",
        "        # The documentation for this `model` function is here:\n",
        "        # https://huggingface.co/transformers/v2.2.0/model_doc/bert.html#transformers.BertForSequenceClassification\n",
        "        outputs = model(b_input_ids,\n",
        "                    token_type_ids=None,\n",
        "                    attention_mask=b_input_mask,\n",
        "                    labels=b_labels)\n",
        "\n",
        "        # The call to `model` always returns a tuple, so we need to pull the\n",
        "        # loss value out of the tuple.\n",
        "        loss = outputs[0]\n",
        "\n",
        "        # Accumulate the training loss over all of the batches so that we can\n",
        "        # calculate the average loss at the end. `loss` is a Tensor containing a\n",
        "        # single value; the `.item()` function just returns the Python value\n",
        "        # from the tensor.\n",
        "        total_loss += loss.item()\n",
        "\n",
        "        # Perform a backward pass to calculate the gradients.\n",
        "        loss.backward()\n",
        "\n",
        "        # Clip the norm of the gradients to 1.0.\n",
        "        # This is to help prevent the \"exploding gradients\" problem.\n",
        "        torch.nn.utils.clip_grad_norm_(model.parameters(), 1.0)\n",
        "\n",
        "        # Update parameters and take a step using the computed gradient.\n",
        "        # The optimizer dictates the \"update rule\"--how the parameters are\n",
        "        # modified based on their gradients, the learning rate, etc.\n",
        "        optimizer.step()\n",
        "\n",
        "        # Update the learning rate.\n",
        "        scheduler.step()\n",
        "\n",
        "    # Calculate the average loss over the training data.\n",
        "    avg_train_loss = total_loss / len(train_dataloader)\n",
        "\n",
        "    # Store the loss value for plotting the learning curve.\n",
        "    loss_values.append(avg_train_loss)\n",
        "\n",
        "    print(\"\")\n",
        "    print(\"  Average training loss: {0:.4f}\".format(avg_train_loss))\n",
        "    print(\"  Training epcoh took: {:}\".format(format_time(time.time() - t0)))\n",
        "    print(\"\")\n",
        "    print(\"Validation...\")\n",
        "\n",
        "    # ========================================\n",
        "    #               Validation\n",
        "    # ========================================\n",
        "    # After the completion of each training epoch, measure our performance on\n",
        "    # our validation set.\n",
        "\n",
        "    # Put the model into evaluation mode\n",
        "    model.eval()\n",
        "    # Reset the validation loss for this epoch.\n",
        "    eval_loss, eval_accuracy = 0, 0\n",
        "    nb_eval_steps, nb_eval_examples = 0, 0\n",
        "    predictions , true_labels = [], []\n",
        "    for batch in validation_dataloader:\n",
        "        batch = tuple(t.to(device) for t in batch)\n",
        "        b_input_ids, b_input_mask, b_labels = batch\n",
        "\n",
        "        # Telling the model not to compute or store gradients,\n",
        "        # saving memory and speeding up validation\n",
        "        with torch.no_grad():\n",
        "            # Forward pass, calculate logit predictions.\n",
        "            # This will return the logits rather than the loss because we have not provided labels.\n",
        "            outputs = model(b_input_ids, token_type_ids=None,\n",
        "                            attention_mask=b_input_mask, labels=b_labels)\n",
        "        # Move logits and labels to CPU\n",
        "        logits = outputs[1].detach().cpu().numpy()\n",
        "        label_ids = b_labels.to('cpu').numpy()\n",
        "\n",
        "        # Calculate the accuracy for this batch of test sentences.\n",
        "        eval_loss += outputs[0].item()\n",
        "        predictions.extend([list(p) for p in np.argmax(logits, axis=2)])\n",
        "        predictionss = np.asarray(predictions)\n",
        "        true_labels.extend(label_ids)\n",
        "\n",
        "    eval_loss = eval_loss / len(validation_dataloader)\n",
        "    print(\"  Average Validation loss: {0:.4f}\".format(eval_loss))\n",
        "print(\"\")\n",
        "print(\"Training complete!\")"
      ],
      "execution_count": null,
      "outputs": [
        {
          "output_type": "stream",
          "name": "stdout",
          "text": [
            "\n",
            "======== Epoch 1 / 2 ========\n",
            "Training...\n",
            "  Batch    40  of    431.    Elapsed: 0:22:05.\n"
          ]
        },
        {
          "output_type": "error",
          "ename": "KeyboardInterrupt",
          "evalue": "ignored",
          "traceback": [
            "\u001b[0;31m---------------------------------------------------------------------------\u001b[0m",
            "\u001b[0;31mKeyboardInterrupt\u001b[0m                         Traceback (most recent call last)",
            "\u001b[0;32m<ipython-input-25-4b3cc66bd632>\u001b[0m in \u001b[0;36m<module>\u001b[0;34m()\u001b[0m\n\u001b[1;32m     79\u001b[0m                     \u001b[0mtoken_type_ids\u001b[0m\u001b[0;34m=\u001b[0m\u001b[0;32mNone\u001b[0m\u001b[0;34m,\u001b[0m\u001b[0;34m\u001b[0m\u001b[0;34m\u001b[0m\u001b[0m\n\u001b[1;32m     80\u001b[0m                     \u001b[0mattention_mask\u001b[0m\u001b[0;34m=\u001b[0m\u001b[0mb_input_mask\u001b[0m\u001b[0;34m,\u001b[0m\u001b[0;34m\u001b[0m\u001b[0;34m\u001b[0m\u001b[0m\n\u001b[0;32m---> 81\u001b[0;31m                     labels=b_labels)\n\u001b[0m\u001b[1;32m     82\u001b[0m \u001b[0;34m\u001b[0m\u001b[0m\n\u001b[1;32m     83\u001b[0m         \u001b[0;31m# The call to `model` always returns a tuple, so we need to pull the\u001b[0m\u001b[0;34m\u001b[0m\u001b[0;34m\u001b[0m\u001b[0;34m\u001b[0m\u001b[0m\n",
            "\u001b[0;32m/usr/local/lib/python3.7/dist-packages/torch/nn/modules/module.py\u001b[0m in \u001b[0;36m_call_impl\u001b[0;34m(self, *input, **kwargs)\u001b[0m\n\u001b[1;32m   1100\u001b[0m         if not (self._backward_hooks or self._forward_hooks or self._forward_pre_hooks or _global_backward_hooks\n\u001b[1;32m   1101\u001b[0m                 or _global_forward_hooks or _global_forward_pre_hooks):\n\u001b[0;32m-> 1102\u001b[0;31m             \u001b[0;32mreturn\u001b[0m \u001b[0mforward_call\u001b[0m\u001b[0;34m(\u001b[0m\u001b[0;34m*\u001b[0m\u001b[0minput\u001b[0m\u001b[0;34m,\u001b[0m \u001b[0;34m**\u001b[0m\u001b[0mkwargs\u001b[0m\u001b[0;34m)\u001b[0m\u001b[0;34m\u001b[0m\u001b[0;34m\u001b[0m\u001b[0m\n\u001b[0m\u001b[1;32m   1103\u001b[0m         \u001b[0;31m# Do not call functions when jit is used\u001b[0m\u001b[0;34m\u001b[0m\u001b[0;34m\u001b[0m\u001b[0;34m\u001b[0m\u001b[0m\n\u001b[1;32m   1104\u001b[0m         \u001b[0mfull_backward_hooks\u001b[0m\u001b[0;34m,\u001b[0m \u001b[0mnon_full_backward_hooks\u001b[0m \u001b[0;34m=\u001b[0m \u001b[0;34m[\u001b[0m\u001b[0;34m]\u001b[0m\u001b[0;34m,\u001b[0m \u001b[0;34m[\u001b[0m\u001b[0;34m]\u001b[0m\u001b[0;34m\u001b[0m\u001b[0;34m\u001b[0m\u001b[0m\n",
            "\u001b[0;32m/usr/local/lib/python3.7/dist-packages/transformers/models/bert/modeling_bert.py\u001b[0m in \u001b[0;36mforward\u001b[0;34m(self, input_ids, attention_mask, token_type_ids, position_ids, head_mask, inputs_embeds, labels, output_attentions, output_hidden_states, return_dict)\u001b[0m\n\u001b[1;32m   1749\u001b[0m             \u001b[0moutput_attentions\u001b[0m\u001b[0;34m=\u001b[0m\u001b[0moutput_attentions\u001b[0m\u001b[0;34m,\u001b[0m\u001b[0;34m\u001b[0m\u001b[0;34m\u001b[0m\u001b[0m\n\u001b[1;32m   1750\u001b[0m             \u001b[0moutput_hidden_states\u001b[0m\u001b[0;34m=\u001b[0m\u001b[0moutput_hidden_states\u001b[0m\u001b[0;34m,\u001b[0m\u001b[0;34m\u001b[0m\u001b[0;34m\u001b[0m\u001b[0m\n\u001b[0;32m-> 1751\u001b[0;31m             \u001b[0mreturn_dict\u001b[0m\u001b[0;34m=\u001b[0m\u001b[0mreturn_dict\u001b[0m\u001b[0;34m,\u001b[0m\u001b[0;34m\u001b[0m\u001b[0;34m\u001b[0m\u001b[0m\n\u001b[0m\u001b[1;32m   1752\u001b[0m         )\n\u001b[1;32m   1753\u001b[0m \u001b[0;34m\u001b[0m\u001b[0m\n",
            "\u001b[0;32m/usr/local/lib/python3.7/dist-packages/torch/nn/modules/module.py\u001b[0m in \u001b[0;36m_call_impl\u001b[0;34m(self, *input, **kwargs)\u001b[0m\n\u001b[1;32m   1100\u001b[0m         if not (self._backward_hooks or self._forward_hooks or self._forward_pre_hooks or _global_backward_hooks\n\u001b[1;32m   1101\u001b[0m                 or _global_forward_hooks or _global_forward_pre_hooks):\n\u001b[0;32m-> 1102\u001b[0;31m             \u001b[0;32mreturn\u001b[0m \u001b[0mforward_call\u001b[0m\u001b[0;34m(\u001b[0m\u001b[0;34m*\u001b[0m\u001b[0minput\u001b[0m\u001b[0;34m,\u001b[0m \u001b[0;34m**\u001b[0m\u001b[0mkwargs\u001b[0m\u001b[0;34m)\u001b[0m\u001b[0;34m\u001b[0m\u001b[0;34m\u001b[0m\u001b[0m\n\u001b[0m\u001b[1;32m   1103\u001b[0m         \u001b[0;31m# Do not call functions when jit is used\u001b[0m\u001b[0;34m\u001b[0m\u001b[0;34m\u001b[0m\u001b[0;34m\u001b[0m\u001b[0m\n\u001b[1;32m   1104\u001b[0m         \u001b[0mfull_backward_hooks\u001b[0m\u001b[0;34m,\u001b[0m \u001b[0mnon_full_backward_hooks\u001b[0m \u001b[0;34m=\u001b[0m \u001b[0;34m[\u001b[0m\u001b[0;34m]\u001b[0m\u001b[0;34m,\u001b[0m \u001b[0;34m[\u001b[0m\u001b[0;34m]\u001b[0m\u001b[0;34m\u001b[0m\u001b[0;34m\u001b[0m\u001b[0m\n",
            "\u001b[0;32m/usr/local/lib/python3.7/dist-packages/transformers/models/bert/modeling_bert.py\u001b[0m in \u001b[0;36mforward\u001b[0;34m(self, input_ids, attention_mask, token_type_ids, position_ids, head_mask, inputs_embeds, encoder_hidden_states, encoder_attention_mask, past_key_values, use_cache, output_attentions, output_hidden_states, return_dict)\u001b[0m\n\u001b[1;32m   1004\u001b[0m             \u001b[0moutput_attentions\u001b[0m\u001b[0;34m=\u001b[0m\u001b[0moutput_attentions\u001b[0m\u001b[0;34m,\u001b[0m\u001b[0;34m\u001b[0m\u001b[0;34m\u001b[0m\u001b[0m\n\u001b[1;32m   1005\u001b[0m             \u001b[0moutput_hidden_states\u001b[0m\u001b[0;34m=\u001b[0m\u001b[0moutput_hidden_states\u001b[0m\u001b[0;34m,\u001b[0m\u001b[0;34m\u001b[0m\u001b[0;34m\u001b[0m\u001b[0m\n\u001b[0;32m-> 1006\u001b[0;31m             \u001b[0mreturn_dict\u001b[0m\u001b[0;34m=\u001b[0m\u001b[0mreturn_dict\u001b[0m\u001b[0;34m,\u001b[0m\u001b[0;34m\u001b[0m\u001b[0;34m\u001b[0m\u001b[0m\n\u001b[0m\u001b[1;32m   1007\u001b[0m         )\n\u001b[1;32m   1008\u001b[0m         \u001b[0msequence_output\u001b[0m \u001b[0;34m=\u001b[0m \u001b[0mencoder_outputs\u001b[0m\u001b[0;34m[\u001b[0m\u001b[0;36m0\u001b[0m\u001b[0;34m]\u001b[0m\u001b[0;34m\u001b[0m\u001b[0;34m\u001b[0m\u001b[0m\n",
            "\u001b[0;32m/usr/local/lib/python3.7/dist-packages/torch/nn/modules/module.py\u001b[0m in \u001b[0;36m_call_impl\u001b[0;34m(self, *input, **kwargs)\u001b[0m\n\u001b[1;32m   1100\u001b[0m         if not (self._backward_hooks or self._forward_hooks or self._forward_pre_hooks or _global_backward_hooks\n\u001b[1;32m   1101\u001b[0m                 or _global_forward_hooks or _global_forward_pre_hooks):\n\u001b[0;32m-> 1102\u001b[0;31m             \u001b[0;32mreturn\u001b[0m \u001b[0mforward_call\u001b[0m\u001b[0;34m(\u001b[0m\u001b[0;34m*\u001b[0m\u001b[0minput\u001b[0m\u001b[0;34m,\u001b[0m \u001b[0;34m**\u001b[0m\u001b[0mkwargs\u001b[0m\u001b[0;34m)\u001b[0m\u001b[0;34m\u001b[0m\u001b[0;34m\u001b[0m\u001b[0m\n\u001b[0m\u001b[1;32m   1103\u001b[0m         \u001b[0;31m# Do not call functions when jit is used\u001b[0m\u001b[0;34m\u001b[0m\u001b[0;34m\u001b[0m\u001b[0;34m\u001b[0m\u001b[0m\n\u001b[1;32m   1104\u001b[0m         \u001b[0mfull_backward_hooks\u001b[0m\u001b[0;34m,\u001b[0m \u001b[0mnon_full_backward_hooks\u001b[0m \u001b[0;34m=\u001b[0m \u001b[0;34m[\u001b[0m\u001b[0;34m]\u001b[0m\u001b[0;34m,\u001b[0m \u001b[0;34m[\u001b[0m\u001b[0;34m]\u001b[0m\u001b[0;34m\u001b[0m\u001b[0;34m\u001b[0m\u001b[0m\n",
            "\u001b[0;32m/usr/local/lib/python3.7/dist-packages/transformers/models/bert/modeling_bert.py\u001b[0m in \u001b[0;36mforward\u001b[0;34m(self, hidden_states, attention_mask, head_mask, encoder_hidden_states, encoder_attention_mask, past_key_values, use_cache, output_attentions, output_hidden_states, return_dict)\u001b[0m\n\u001b[1;32m    590\u001b[0m                     \u001b[0mencoder_attention_mask\u001b[0m\u001b[0;34m,\u001b[0m\u001b[0;34m\u001b[0m\u001b[0;34m\u001b[0m\u001b[0m\n\u001b[1;32m    591\u001b[0m                     \u001b[0mpast_key_value\u001b[0m\u001b[0;34m,\u001b[0m\u001b[0;34m\u001b[0m\u001b[0;34m\u001b[0m\u001b[0m\n\u001b[0;32m--> 592\u001b[0;31m                     \u001b[0moutput_attentions\u001b[0m\u001b[0;34m,\u001b[0m\u001b[0;34m\u001b[0m\u001b[0;34m\u001b[0m\u001b[0m\n\u001b[0m\u001b[1;32m    593\u001b[0m                 )\n\u001b[1;32m    594\u001b[0m \u001b[0;34m\u001b[0m\u001b[0m\n",
            "\u001b[0;32m/usr/local/lib/python3.7/dist-packages/torch/nn/modules/module.py\u001b[0m in \u001b[0;36m_call_impl\u001b[0;34m(self, *input, **kwargs)\u001b[0m\n\u001b[1;32m   1100\u001b[0m         if not (self._backward_hooks or self._forward_hooks or self._forward_pre_hooks or _global_backward_hooks\n\u001b[1;32m   1101\u001b[0m                 or _global_forward_hooks or _global_forward_pre_hooks):\n\u001b[0;32m-> 1102\u001b[0;31m             \u001b[0;32mreturn\u001b[0m \u001b[0mforward_call\u001b[0m\u001b[0;34m(\u001b[0m\u001b[0;34m*\u001b[0m\u001b[0minput\u001b[0m\u001b[0;34m,\u001b[0m \u001b[0;34m**\u001b[0m\u001b[0mkwargs\u001b[0m\u001b[0;34m)\u001b[0m\u001b[0;34m\u001b[0m\u001b[0;34m\u001b[0m\u001b[0m\n\u001b[0m\u001b[1;32m   1103\u001b[0m         \u001b[0;31m# Do not call functions when jit is used\u001b[0m\u001b[0;34m\u001b[0m\u001b[0;34m\u001b[0m\u001b[0;34m\u001b[0m\u001b[0m\n\u001b[1;32m   1104\u001b[0m         \u001b[0mfull_backward_hooks\u001b[0m\u001b[0;34m,\u001b[0m \u001b[0mnon_full_backward_hooks\u001b[0m \u001b[0;34m=\u001b[0m \u001b[0;34m[\u001b[0m\u001b[0;34m]\u001b[0m\u001b[0;34m,\u001b[0m \u001b[0;34m[\u001b[0m\u001b[0;34m]\u001b[0m\u001b[0;34m\u001b[0m\u001b[0;34m\u001b[0m\u001b[0m\n",
            "\u001b[0;32m/usr/local/lib/python3.7/dist-packages/transformers/models/bert/modeling_bert.py\u001b[0m in \u001b[0;36mforward\u001b[0;34m(self, hidden_states, attention_mask, head_mask, encoder_hidden_states, encoder_attention_mask, past_key_value, output_attentions)\u001b[0m\n\u001b[1;32m    475\u001b[0m             \u001b[0mhead_mask\u001b[0m\u001b[0;34m,\u001b[0m\u001b[0;34m\u001b[0m\u001b[0;34m\u001b[0m\u001b[0m\n\u001b[1;32m    476\u001b[0m             \u001b[0moutput_attentions\u001b[0m\u001b[0;34m=\u001b[0m\u001b[0moutput_attentions\u001b[0m\u001b[0;34m,\u001b[0m\u001b[0;34m\u001b[0m\u001b[0;34m\u001b[0m\u001b[0m\n\u001b[0;32m--> 477\u001b[0;31m             \u001b[0mpast_key_value\u001b[0m\u001b[0;34m=\u001b[0m\u001b[0mself_attn_past_key_value\u001b[0m\u001b[0;34m,\u001b[0m\u001b[0;34m\u001b[0m\u001b[0;34m\u001b[0m\u001b[0m\n\u001b[0m\u001b[1;32m    478\u001b[0m         )\n\u001b[1;32m    479\u001b[0m         \u001b[0mattention_output\u001b[0m \u001b[0;34m=\u001b[0m \u001b[0mself_attention_outputs\u001b[0m\u001b[0;34m[\u001b[0m\u001b[0;36m0\u001b[0m\u001b[0;34m]\u001b[0m\u001b[0;34m\u001b[0m\u001b[0;34m\u001b[0m\u001b[0m\n",
            "\u001b[0;32m/usr/local/lib/python3.7/dist-packages/torch/nn/modules/module.py\u001b[0m in \u001b[0;36m_call_impl\u001b[0;34m(self, *input, **kwargs)\u001b[0m\n\u001b[1;32m   1100\u001b[0m         if not (self._backward_hooks or self._forward_hooks or self._forward_pre_hooks or _global_backward_hooks\n\u001b[1;32m   1101\u001b[0m                 or _global_forward_hooks or _global_forward_pre_hooks):\n\u001b[0;32m-> 1102\u001b[0;31m             \u001b[0;32mreturn\u001b[0m \u001b[0mforward_call\u001b[0m\u001b[0;34m(\u001b[0m\u001b[0;34m*\u001b[0m\u001b[0minput\u001b[0m\u001b[0;34m,\u001b[0m \u001b[0;34m**\u001b[0m\u001b[0mkwargs\u001b[0m\u001b[0;34m)\u001b[0m\u001b[0;34m\u001b[0m\u001b[0;34m\u001b[0m\u001b[0m\n\u001b[0m\u001b[1;32m   1103\u001b[0m         \u001b[0;31m# Do not call functions when jit is used\u001b[0m\u001b[0;34m\u001b[0m\u001b[0;34m\u001b[0m\u001b[0;34m\u001b[0m\u001b[0m\n\u001b[1;32m   1104\u001b[0m         \u001b[0mfull_backward_hooks\u001b[0m\u001b[0;34m,\u001b[0m \u001b[0mnon_full_backward_hooks\u001b[0m \u001b[0;34m=\u001b[0m \u001b[0;34m[\u001b[0m\u001b[0;34m]\u001b[0m\u001b[0;34m,\u001b[0m \u001b[0;34m[\u001b[0m\u001b[0;34m]\u001b[0m\u001b[0;34m\u001b[0m\u001b[0;34m\u001b[0m\u001b[0m\n",
            "\u001b[0;32m/usr/local/lib/python3.7/dist-packages/transformers/models/bert/modeling_bert.py\u001b[0m in \u001b[0;36mforward\u001b[0;34m(self, hidden_states, attention_mask, head_mask, encoder_hidden_states, encoder_attention_mask, past_key_value, output_attentions)\u001b[0m\n\u001b[1;32m    407\u001b[0m             \u001b[0mencoder_attention_mask\u001b[0m\u001b[0;34m,\u001b[0m\u001b[0;34m\u001b[0m\u001b[0;34m\u001b[0m\u001b[0m\n\u001b[1;32m    408\u001b[0m             \u001b[0mpast_key_value\u001b[0m\u001b[0;34m,\u001b[0m\u001b[0;34m\u001b[0m\u001b[0;34m\u001b[0m\u001b[0m\n\u001b[0;32m--> 409\u001b[0;31m             \u001b[0moutput_attentions\u001b[0m\u001b[0;34m,\u001b[0m\u001b[0;34m\u001b[0m\u001b[0;34m\u001b[0m\u001b[0m\n\u001b[0m\u001b[1;32m    410\u001b[0m         )\n\u001b[1;32m    411\u001b[0m         \u001b[0mattention_output\u001b[0m \u001b[0;34m=\u001b[0m \u001b[0mself\u001b[0m\u001b[0;34m.\u001b[0m\u001b[0moutput\u001b[0m\u001b[0;34m(\u001b[0m\u001b[0mself_outputs\u001b[0m\u001b[0;34m[\u001b[0m\u001b[0;36m0\u001b[0m\u001b[0;34m]\u001b[0m\u001b[0;34m,\u001b[0m \u001b[0mhidden_states\u001b[0m\u001b[0;34m)\u001b[0m\u001b[0;34m\u001b[0m\u001b[0;34m\u001b[0m\u001b[0m\n",
            "\u001b[0;32m/usr/local/lib/python3.7/dist-packages/torch/nn/modules/module.py\u001b[0m in \u001b[0;36m_call_impl\u001b[0;34m(self, *input, **kwargs)\u001b[0m\n\u001b[1;32m   1100\u001b[0m         if not (self._backward_hooks or self._forward_hooks or self._forward_pre_hooks or _global_backward_hooks\n\u001b[1;32m   1101\u001b[0m                 or _global_forward_hooks or _global_forward_pre_hooks):\n\u001b[0;32m-> 1102\u001b[0;31m             \u001b[0;32mreturn\u001b[0m \u001b[0mforward_call\u001b[0m\u001b[0;34m(\u001b[0m\u001b[0;34m*\u001b[0m\u001b[0minput\u001b[0m\u001b[0;34m,\u001b[0m \u001b[0;34m**\u001b[0m\u001b[0mkwargs\u001b[0m\u001b[0;34m)\u001b[0m\u001b[0;34m\u001b[0m\u001b[0;34m\u001b[0m\u001b[0m\n\u001b[0m\u001b[1;32m   1103\u001b[0m         \u001b[0;31m# Do not call functions when jit is used\u001b[0m\u001b[0;34m\u001b[0m\u001b[0;34m\u001b[0m\u001b[0;34m\u001b[0m\u001b[0m\n\u001b[1;32m   1104\u001b[0m         \u001b[0mfull_backward_hooks\u001b[0m\u001b[0;34m,\u001b[0m \u001b[0mnon_full_backward_hooks\u001b[0m \u001b[0;34m=\u001b[0m \u001b[0;34m[\u001b[0m\u001b[0;34m]\u001b[0m\u001b[0;34m,\u001b[0m \u001b[0;34m[\u001b[0m\u001b[0;34m]\u001b[0m\u001b[0;34m\u001b[0m\u001b[0;34m\u001b[0m\u001b[0m\n",
            "\u001b[0;32m/usr/local/lib/python3.7/dist-packages/transformers/models/bert/modeling_bert.py\u001b[0m in \u001b[0;36mforward\u001b[0;34m(self, hidden_states, attention_mask, head_mask, encoder_hidden_states, encoder_attention_mask, past_key_value, output_attentions)\u001b[0m\n\u001b[1;32m    304\u001b[0m \u001b[0;34m\u001b[0m\u001b[0m\n\u001b[1;32m    305\u001b[0m         \u001b[0;31m# Take the dot product between \"query\" and \"key\" to get the raw attention scores.\u001b[0m\u001b[0;34m\u001b[0m\u001b[0;34m\u001b[0m\u001b[0;34m\u001b[0m\u001b[0m\n\u001b[0;32m--> 306\u001b[0;31m         \u001b[0mattention_scores\u001b[0m \u001b[0;34m=\u001b[0m \u001b[0mtorch\u001b[0m\u001b[0;34m.\u001b[0m\u001b[0mmatmul\u001b[0m\u001b[0;34m(\u001b[0m\u001b[0mquery_layer\u001b[0m\u001b[0;34m,\u001b[0m \u001b[0mkey_layer\u001b[0m\u001b[0;34m.\u001b[0m\u001b[0mtranspose\u001b[0m\u001b[0;34m(\u001b[0m\u001b[0;34m-\u001b[0m\u001b[0;36m1\u001b[0m\u001b[0;34m,\u001b[0m \u001b[0;34m-\u001b[0m\u001b[0;36m2\u001b[0m\u001b[0;34m)\u001b[0m\u001b[0;34m)\u001b[0m\u001b[0;34m\u001b[0m\u001b[0;34m\u001b[0m\u001b[0m\n\u001b[0m\u001b[1;32m    307\u001b[0m \u001b[0;34m\u001b[0m\u001b[0m\n\u001b[1;32m    308\u001b[0m         \u001b[0;32mif\u001b[0m \u001b[0mself\u001b[0m\u001b[0;34m.\u001b[0m\u001b[0mposition_embedding_type\u001b[0m \u001b[0;34m==\u001b[0m \u001b[0;34m\"relative_key\"\u001b[0m \u001b[0;32mor\u001b[0m \u001b[0mself\u001b[0m\u001b[0;34m.\u001b[0m\u001b[0mposition_embedding_type\u001b[0m \u001b[0;34m==\u001b[0m \u001b[0;34m\"relative_key_query\"\u001b[0m\u001b[0;34m:\u001b[0m\u001b[0;34m\u001b[0m\u001b[0;34m\u001b[0m\u001b[0m\n",
            "\u001b[0;31mKeyboardInterrupt\u001b[0m: "
          ]
        }
      ]
    },
    {
      "cell_type": "markdown",
      "metadata": {
        "id": "qg6p7luALyUb"
      },
      "source": []
    },
    {
      "cell_type": "code",
      "metadata": {
        "colab": {
          "base_uri": "https://localhost:8080/",
          "height": 427
        },
        "id": "dXu3scKhK8XL",
        "outputId": "f7b72f70-f5f8-479d-c689-87fd807f1f5f"
      },
      "source": [
        "import matplotlib.pyplot as plt\n",
        "% matplotlib inline\n",
        "\n",
        "import seaborn as sns\n",
        "\n",
        "# Use plot styling from seaborn.\n",
        "sns.set(style='darkgrid')\n",
        "\n",
        "# Increase the plot size and font size.\n",
        "sns.set(font_scale=1.5)\n",
        "plt.rcParams[\"figure.figsize\"] = (12,6)\n",
        "\n",
        "# Plot the learning curve.\n",
        "plt.plot(loss_values, 'b-o')\n",
        "\n",
        "# Label the plot.\n",
        "plt.title(\"Training loss\")\n",
        "plt.xlabel(\"Epoch\")\n",
        "plt.ylabel(\"Loss\")\n",
        "\n",
        "plt.show()"
      ],
      "execution_count": null,
      "outputs": [
        {
          "output_type": "display_data",
          "data": {
            "text/plain": [
              "<Figure size 864x432 with 1 Axes>"
            ],
            "image/png": "[encoded data removed]"
          },
          "metadata": {}
        }
      ]
    },
    {
      "cell_type": "markdown",
      "metadata": {
        "id": "HwDptGc_K8Nm"
      },
      "source": []
    },
    {
      "cell_type": "code",
      "metadata": {
        "colab": {
          "base_uri": "https://localhost:8080/"
        },
        "id": "R7xbbOFnLx7b",
        "outputId": "748b763d-6229-44a4-81da-348cd529cbe8"
      },
      "source": [
        "\n",
        "\n",
        "test_sentence = \"\"\" Periodontal disease, also known as gum disease, is a set of inflammatory conditions affecting the tissues surrounding the teeth.[3] In its early stage, called gingivitis, the gums become swollen, red, and may bleed.[3] In its more serious form, called periodontitis, the gums can pull away from the tooth, bone can be lost, and the teeth may loosen or fall out.[3] Bad breath may also occur.[1]\n",
        "\n",
        "Periodontal disease is generally due to bacteria in the mouth infecting the tissue around the teeth.[3] Factors that increase the risk of disease include smoking, diabetes, HIV/AIDS, family history, and certain medications.[1] Diagnosis is by inspecting the gum tissue around the teeth both visually and with a probe and X-rays looking for bone loss around the teeth.[1][5]\n",
        "\n",
        "Treatment involves good oral hygiene and regular professional teeth cleaning.[3] Recommended oral hygiene include daily brushing and flossing.[3] In certain cases antibiotics or dental surgery may be recommended.[6] Globally 538 million people were estimated to be affected in 2015.[4] In the United States nearly half of those over the age of 30 are affected to some degree, and about 70% of those over 65 have the condition.[3] Males are affected more often than females.[3] \"\"\"\n",
        "tokenized_sentence = tokenizer.encode(test_sentence)\n",
        "print(tokenized_sentence)\n",
        "input_ids = torch.tensor([tokenized_sentence]).cuda()\n",
        "with torch.no_grad():\n",
        "    output = model(input_ids)\n",
        "label_indices = np.argmax(output[0].to('cpu').numpy(), axis=2)\n",
        "# join bpe split tokens\n",
        "tokens = tokenizer.convert_ids_to_tokens(input_ids.to('cpu').numpy()[0])\n",
        "print(tokens)\n",
        "print(label_indices[0])\n",
        "new_tokens, new_labels = [], []\n",
        "for token, label_idx in zip(tokens, label_indices[0]):\n",
        "    if token.startswith(\"##\"):\n",
        "        new_tokens[-1] = new_tokens[-1] + token[2:]\n",
        "    else:\n",
        "        new_labels.append(index_2_label_map.get(label_idx))\n",
        "        new_tokens.append(token)\n",
        "for token, label in zip(new_tokens, new_labels):\n",
        "    print(\"{}\\t{}\".format(label, token))"
      ],
      "execution_count": null,
      "outputs": [
        {
          "output_type": "stream",
          "name": "stdout",
          "text": [
            "[101, 16477, 9921, 1348, 3653, 117, 1145, 1227, 1112, 19956, 3653, 117, 1110, 170, 1383, 1104, 22653, 2975, 12759, 1103, 14749, 3376, 1103, 3307, 119, 164, 124, 166, 1130, 1157, 1346, 2016, 117, 1270, 176, 1158, 11083, 10721, 117, 1103, 19956, 1116, 1561, 13930, 117, 1894, 117, 1105, 1336, 24752, 119, 164, 124, 166, 1130, 1157, 1167, 3021, 1532, 117, 1270, 1669, 9921, 10721, 117, 1103, 19956, 1116, 1169, 3373, 1283, 1121, 1103, 14051, 117, 6028, 1169, 1129, 1575, 117, 1105, 1103, 3307, 1336, 5768, 1179, 1137, 2303, 1149, 119, 164, 124, 166, 6304, 2184, 1336, 1145, 4467, 119, 164, 122, 166, 16477, 9921, 1348, 3653, 1110, 2412, 1496, 1106, 10548, 1107, 1103, 1779, 1107, 11916, 1158, 1103, 7918, 1213, 1103, 3307, 119, 164, 124, 166, 15926, 1116, 1115, 2773, 1103, 3187, 1104, 3653, 1511, 9987, 117, 17972, 117, 9622, 120, 9837, 117, 1266, 1607, 117, 1105, 2218, 23897, 119, 164, 122, 166, 12120, 8517, 27078, 1110, 1118, 25151, 1158, 1103, 19956, 7918, 1213, 1103, 3307, 1241, 19924, 1105, 1114, 170, 17357, 1105, 161, 118, 11611, 1702, 1111, 6028, 2445, 1213, 1103, 3307, 119, 164, 122, 166, 164, 126, 166, 19165, 6808, 1363, 9619, 177, 21431, 1105, 2366, 1848, 3307, 9374, 119, 164, 124, 166, 11336, 8178, 2354, 4902, 9619, 177, 21431, 1511, 3828, 13398, 1105, 22593, 13159, 1158, 119, 164, 124, 166, 1130, 2218, 2740, 2848, 25523, 1137, 15360, 6059, 1336, 1129, 6315, 119, 164, 127, 166, 5357, 1193, 4389, 1604, 1550, 1234, 1127, 3555, 1106, 1129, 4634, 1107, 1410, 119, 164, 125, 166, 1130, 1103, 1244, 1311, 2212, 1544, 1104, 1343, 1166, 1103, 1425, 1104, 1476, 1132, 4634, 1106, 1199, 2178, 117, 1105, 1164, 3102, 110, 1104, 1343, 1166, 2625, 1138, 1103, 3879, 119, 164, 124, 166, 7689, 1132, 4634, 1167, 1510, 1190, 3032, 119, 164, 124, 166, 102]\n",
            "['[CLS]', 'Period', '##ont', '##al', 'disease', ',', 'also', 'known', 'as', 'gum', 'disease', ',', 'is', 'a', 'set', 'of', 'inflammatory', 'conditions', 'affecting', 'the', 'tissues', 'surrounding', 'the', 'teeth', '.', '[', '3', ']', 'In', 'its', 'early', 'stage', ',', 'called', 'g', '##ing', '##iv', '##itis', ',', 'the', 'gum', '##s', 'become', 'swollen', ',', 'red', ',', 'and', 'may', 'bleed', '.', '[', '3', ']', 'In', 'its', 'more', 'serious', 'form', ',', 'called', 'period', '##ont', '##itis', ',', 'the', 'gum', '##s', 'can', 'pull', 'away', 'from', 'the', 'tooth', ',', 'bone', 'can', 'be', 'lost', ',', 'and', 'the', 'teeth', 'may', 'loose', '##n', 'or', 'fall', 'out', '.', '[', '3', ']', 'Bad', 'breath', 'may', 'also', 'occur', '.', '[', '1', ']', 'Period', '##ont', '##al', 'disease', 'is', 'generally', 'due', 'to', 'bacteria', 'in', 'the', 'mouth', 'in', '##fect', '##ing', 'the', 'tissue', 'around', 'the', 'teeth', '.', '[', '3', ']', 'Factor', '##s', 'that', 'increase', 'the', 'risk', 'of', 'disease', 'include', 'smoking', ',', 'diabetes', ',', 'HIV', '/', 'AIDS', ',', 'family', 'history', ',', 'and', 'certain', 'medications', '.', '[', '1', ']', 'Di', '##ag', '##nosis', 'is', 'by', 'inspect', '##ing', 'the', 'gum', 'tissue', 'around', 'the', 'teeth', 'both', 'visually', 'and', 'with', 'a', 'probe', 'and', 'X', '-', 'rays', 'looking', 'for', 'bone', 'loss', 'around', 'the', 'teeth', '.', '[', '1', ']', '[', '5', ']', 'Treatment', 'involves', 'good', 'oral', 'h', '##ygiene', 'and', 'regular', 'professional', 'teeth', 'cleaning', '.', '[', '3', ']', 'Re', '##com', '##men', '##ded', 'oral', 'h', '##ygiene', 'include', 'daily', 'brushing', 'and', 'fl', '##oss', '##ing', '.', '[', '3', ']', 'In', 'certain', 'cases', 'anti', '##biotics', 'or', 'dental', 'surgery', 'may', 'be', 'recommended', '.', '[', '6', ']', 'Global', '##ly', '53', '##8', 'million', 'people', 'were', 'estimated', 'to', 'be', 'affected', 'in', '2015', '.', '[', '4', ']', 'In', 'the', 'United', 'States', 'nearly', 'half', 'of', 'those', 'over', 'the', 'age', 'of', '30', 'are', 'affected', 'to', 'some', 'degree', ',', 'and', 'about', '70', '%', 'of', 'those', 'over', '65', 'have', 'the', 'condition', '.', '[', '3', ']', 'Males', 'are', 'affected', 'more', 'often', 'than', 'females', '.', '[', '3', ']', '[SEP]']\n",
            "[2 0 0 0 1 2 2 2 2 0 1 2 2 2 2 2 2 2 2 2 2 2 2 2 2 2 2 2 2 2 2 2 2 2 0 0 0\n",
            " 0 2 2 2 2 2 2 2 2 2 2 2 2 2 2 2 2 2 2 2 2 2 2 2 0 0 0 2 2 2 2 2 2 2 2 2 2\n",
            " 2 2 2 2 2 2 2 2 2 2 2 2 2 2 2 2 2 2 2 0 0 2 2 2 2 2 2 2 0 0 0 1 2 2 2 2 2\n",
            " 2 2 2 2 2 2 2 2 2 2 2 2 2 2 2 2 2 2 2 2 2 2 2 2 2 2 0 2 0 1 1 2 2 2 2 2 2\n",
            " 2 2 2 2 2 2 2 2 2 2 2 2 2 2 2 2 2 2 2 2 2 2 2 2 2 2 2 2 2 2 0 1 2 2 2 2 2\n",
            " 2 2 2 2 2 2 2 2 2 2 2 2 2 2 2 2 2 2 2 2 2 2 2 2 2 2 2 2 2 2 2 2 2 2 2 2 2\n",
            " 2 2 2 2 2 2 2 2 2 2 2 2 2 2 2 2 2 2 2 2 2 2 2 2 2 2 2 2 2 2 2 2 2 2 2 2 2\n",
            " 2 2 2 2 2 2 2 2 2 2 2 2 2 2 2 2 2 2 2 2 2 2 2 2 2 2 2 2 2 2 2 2 2 2 2 2 2\n",
            " 2 2 2 2 2]\n",
            "O\t[CLS]\n",
            "B\tPeriodontal\n",
            "I\tdisease\n",
            "O\t,\n",
            "O\talso\n",
            "O\tknown\n",
            "O\tas\n",
            "B\tgum\n",
            "I\tdisease\n",
            "O\t,\n",
            "O\tis\n",
            "O\ta\n",
            "O\tset\n",
            "O\tof\n",
            "O\tinflammatory\n",
            "O\tconditions\n",
            "O\taffecting\n",
            "O\tthe\n",
            "O\ttissues\n",
            "O\tsurrounding\n",
            "O\tthe\n",
            "O\tteeth\n",
            "O\t.\n",
            "O\t[\n",
            "O\t3\n",
            "O\t]\n",
            "O\tIn\n",
            "O\tits\n",
            "O\tearly\n",
            "O\tstage\n",
            "O\t,\n",
            "O\tcalled\n",
            "B\tgingivitis\n",
            "O\t,\n",
            "O\tthe\n",
            "O\tgums\n",
            "O\tbecome\n",
            "O\tswollen\n",
            "O\t,\n",
            "O\tred\n",
            "O\t,\n",
            "O\tand\n",
            "O\tmay\n",
            "O\tbleed\n",
            "O\t.\n",
            "O\t[\n",
            "O\t3\n",
            "O\t]\n",
            "O\tIn\n",
            "O\tits\n",
            "O\tmore\n",
            "O\tserious\n",
            "O\tform\n",
            "O\t,\n",
            "O\tcalled\n",
            "B\tperiodontitis\n",
            "O\t,\n",
            "O\tthe\n",
            "O\tgums\n",
            "O\tcan\n",
            "O\tpull\n",
            "O\taway\n",
            "O\tfrom\n",
            "O\tthe\n",
            "O\ttooth\n",
            "O\t,\n",
            "O\tbone\n",
            "O\tcan\n",
            "O\tbe\n",
            "O\tlost\n",
            "O\t,\n",
            "O\tand\n",
            "O\tthe\n",
            "O\tteeth\n",
            "O\tmay\n",
            "O\tloosen\n",
            "O\tor\n",
            "O\tfall\n",
            "O\tout\n",
            "O\t.\n",
            "O\t[\n",
            "O\t3\n",
            "O\t]\n",
            "B\tBad\n",
            "B\tbreath\n",
            "O\tmay\n",
            "O\talso\n",
            "O\toccur\n",
            "O\t.\n",
            "O\t[\n",
            "O\t1\n",
            "O\t]\n",
            "B\tPeriodontal\n",
            "I\tdisease\n",
            "O\tis\n",
            "O\tgenerally\n",
            "O\tdue\n",
            "O\tto\n",
            "O\tbacteria\n",
            "O\tin\n",
            "O\tthe\n",
            "O\tmouth\n",
            "O\tinfecting\n",
            "O\tthe\n",
            "O\ttissue\n",
            "O\taround\n",
            "O\tthe\n",
            "O\tteeth\n",
            "O\t.\n",
            "O\t[\n",
            "O\t3\n",
            "O\t]\n",
            "O\tFactors\n",
            "O\tthat\n",
            "O\tincrease\n",
            "O\tthe\n",
            "O\trisk\n",
            "O\tof\n",
            "O\tdisease\n",
            "O\tinclude\n",
            "O\tsmoking\n",
            "O\t,\n",
            "B\tdiabetes\n",
            "O\t,\n",
            "B\tHIV\n",
            "I\t/\n",
            "I\tAIDS\n",
            "O\t,\n",
            "O\tfamily\n",
            "O\thistory\n",
            "O\t,\n",
            "O\tand\n",
            "O\tcertain\n",
            "O\tmedications\n",
            "O\t.\n",
            "O\t[\n",
            "O\t1\n",
            "O\t]\n",
            "O\tDiagnosis\n",
            "O\tis\n",
            "O\tby\n",
            "O\tinspecting\n",
            "O\tthe\n",
            "O\tgum\n",
            "O\ttissue\n",
            "O\taround\n",
            "O\tthe\n",
            "O\tteeth\n",
            "O\tboth\n",
            "O\tvisually\n",
            "O\tand\n",
            "O\twith\n",
            "O\ta\n",
            "O\tprobe\n",
            "O\tand\n",
            "O\tX\n",
            "O\t-\n",
            "O\trays\n",
            "O\tlooking\n",
            "O\tfor\n",
            "B\tbone\n",
            "I\tloss\n",
            "O\taround\n",
            "O\tthe\n",
            "O\tteeth\n",
            "O\t.\n",
            "O\t[\n",
            "O\t1\n",
            "O\t]\n",
            "O\t[\n",
            "O\t5\n",
            "O\t]\n",
            "O\tTreatment\n",
            "O\tinvolves\n",
            "O\tgood\n",
            "O\toral\n",
            "O\thygiene\n",
            "O\tand\n",
            "O\tregular\n",
            "O\tprofessional\n",
            "O\tteeth\n",
            "O\tcleaning\n",
            "O\t.\n",
            "O\t[\n",
            "O\t3\n",
            "O\t]\n",
            "O\tRecommended\n",
            "O\toral\n",
            "O\thygiene\n",
            "O\tinclude\n",
            "O\tdaily\n",
            "O\tbrushing\n",
            "O\tand\n",
            "O\tflossing\n",
            "O\t.\n",
            "O\t[\n",
            "O\t3\n",
            "O\t]\n",
            "O\tIn\n",
            "O\tcertain\n",
            "O\tcases\n",
            "O\tantibiotics\n",
            "O\tor\n",
            "O\tdental\n",
            "O\tsurgery\n",
            "O\tmay\n",
            "O\tbe\n",
            "O\trecommended\n",
            "O\t.\n",
            "O\t[\n",
            "O\t6\n",
            "O\t]\n",
            "O\tGlobally\n",
            "O\t538\n",
            "O\tmillion\n",
            "O\tpeople\n",
            "O\twere\n",
            "O\testimated\n",
            "O\tto\n",
            "O\tbe\n",
            "O\taffected\n",
            "O\tin\n",
            "O\t2015\n",
            "O\t.\n",
            "O\t[\n",
            "O\t4\n",
            "O\t]\n",
            "O\tIn\n",
            "O\tthe\n",
            "O\tUnited\n",
            "O\tStates\n",
            "O\tnearly\n",
            "O\thalf\n",
            "O\tof\n",
            "O\tthose\n",
            "O\tover\n",
            "O\tthe\n",
            "O\tage\n",
            "O\tof\n",
            "O\t30\n",
            "O\tare\n",
            "O\taffected\n",
            "O\tto\n",
            "O\tsome\n",
            "O\tdegree\n",
            "O\t,\n",
            "O\tand\n",
            "O\tabout\n",
            "O\t70\n",
            "O\t%\n",
            "O\tof\n",
            "O\tthose\n",
            "O\tover\n",
            "O\t65\n",
            "O\thave\n",
            "O\tthe\n",
            "O\tcondition\n",
            "O\t.\n",
            "O\t[\n",
            "O\t3\n",
            "O\t]\n",
            "O\tMales\n",
            "O\tare\n",
            "O\taffected\n",
            "O\tmore\n",
            "O\toften\n",
            "O\tthan\n",
            "O\tfemales\n",
            "O\t.\n",
            "O\t[\n",
            "O\t3\n",
            "O\t]\n",
            "O\t[SEP]\n"
          ]
        }
      ]
    },
    {
      "cell_type": "markdown",
      "metadata": {
        "id": "a0yOwT1Vqg7Q"
      },
      "source": [
        "Load one of the Tests for NCBI or BC5CDR\n"
      ]
    },
    {
      "cell_type": "code",
      "metadata": {
        "id": "HzIr7_d9qhSa"
      },
      "source": [
        "#sentences, labels, unique_labels = read_data('/content/drive/MyDrive/MedBrain/NCBI/test.tsv')\n",
        "sentences, labels, unique_labels = read_data('/content/drive/MyDrive/MedBrain/BC5CDR/test.tsv')\n",
        "\n"
      ],
      "execution_count": null,
      "outputs": []
    },
    {
      "cell_type": "markdown",
      "metadata": {
        "id": "JKFAUY9UEiqB"
      },
      "source": [
        "Tokenize test data set to test the model"
      ]
    },
    {
      "cell_type": "code",
      "metadata": {
        "colab": {
          "base_uri": "https://localhost:8080/"
        },
        "id": "fJYsGgr6Ei5d",
        "outputId": "056c23d8-6c08-4dca-8a5f-f4d1452704af"
      },
      "source": [
        "# Tokenize all of the sentences and map the tokens to thier word IDs.\n",
        "input_ids = []\n",
        "attention_masks = []\n",
        "\n",
        "# For every sentence...\n",
        "for sent in sentences:\n",
        "\n",
        "    # Reconstruct the sentence--otherwise `tokenizer` will interpret the list\n",
        "    # of string tokens as having already been tokenized by BERT.\n",
        "    sent_str = ' '.join(sent)\n",
        "\n",
        "    # `encode_plus` will:\n",
        "    #   (1) Tokenize the sentence.\n",
        "    #   (2) Prepend the `[CLS]` token to the start.\n",
        "    #   (3) Append the `[SEP]` token to the end.\n",
        "    #   (4) Map tokens to their IDs.\n",
        "    #   (5) Pad or truncate the sentence to `max_length`\n",
        "    #   (6) Create attention masks for [PAD] tokens.\n",
        "    encoded_dict = tokenizer.encode_plus(\n",
        "                        sent_str,                  # Sentence to encode.\n",
        "                        add_special_tokens = True, # Add '[CLS]' and '[SEP]'\n",
        "                        max_length = 128,           # Pad & truncate all sentences.\n",
        "                        pad_to_max_length = True,\n",
        "                        return_attention_mask = True,   # Construct attn. masks.\n",
        "                        return_tensors = 'pt',     # Return pytorch tensors.\n",
        "                   )\n",
        "\n",
        "    # Add the encoded sentence to the list.\n",
        "    input_ids.append(encoded_dict['input_ids'][0])\n",
        "\n",
        "    # And its attention mask (simply differentiates padding from non-padding).\n",
        "    attention_masks.append(encoded_dict['attention_mask'][0])\n",
        "\n",
        "# Print sentence 0, now as a list of IDs.\n",
        "print('Original: ', sentences[0])\n",
        "print('Token IDs:', input_ids[0])\n",
        "print('Masks:', attention_masks[0])"
      ],
      "execution_count": null,
      "outputs": [
        {
          "output_type": "stream",
          "name": "stderr",
          "text": [
            "Truncation was not explicitly activated but `max_length` is provided a specific value, please use `truncation=True` to explicitly truncate examples to max length. Defaulting to 'longest_first' truncation strategy. If you encode pairs of sequences (GLUE-style) with the tokenizer you can select this strategy more precisely by providing a specific strategy to `truncation`.\n",
            "/usr/local/lib/python3.7/dist-packages/transformers/tokenization_utils_base.py:2277: FutureWarning: The `pad_to_max_length` argument is deprecated and will be removed in a future version, use `padding=True` or `padding='longest'` to pad to the longest sequence in the batch, or use `padding='max_length'` to pad to a max length. In this case, you can give a specific length with `max_length` (e.g. `max_length=45`) or leave max_length to None to pad to the maximal input size of the model (e.g. 512 for Bert).\n",
            "  FutureWarning,\n"
          ]
        },
        {
          "output_type": "stream",
          "name": "stdout",
          "text": [
            "Original:  ['Torsade', 'de', 'pointes', 'ventricular', 'tachycardia', 'during', 'low', 'dose', 'intermittent', 'dobutamine', 'treatment', 'in', 'a', 'patient', 'with', 'dilated', 'cardiomyopathy', 'and', 'congestive', 'heart', 'failure', '.']\n",
            "Token IDs: tensor([  101, 19928, 23417,  1162,  1260,  1553,  1279, 21828,  4907,  5552,\n",
            "        27629,  8992, 10542,  1465,  1219,  1822, 13753, 27946,  1202, 16442,\n",
            "        19577,  3252,  1107,   170,  5351,  1114,  4267,  6951,  3621,  2660,\n",
            "         4527,  4184, 23610,  1105, 14255,  7562,  3946,  1762,  4290,   119,\n",
            "          102,     0,     0,     0,     0,     0,     0,     0,     0,     0,\n",
            "            0,     0,     0,     0,     0,     0,     0,     0,     0,     0,\n",
            "            0,     0,     0,     0,     0,     0,     0,     0,     0,     0,\n",
            "            0,     0,     0,     0,     0,     0,     0,     0,     0,     0,\n",
            "            0,     0,     0,     0,     0,     0,     0,     0,     0,     0,\n",
            "            0,     0,     0,     0,     0,     0,     0,     0,     0,     0,\n",
            "            0,     0,     0,     0,     0,     0,     0,     0,     0,     0,\n",
            "            0,     0,     0,     0,     0,     0,     0,     0,     0,     0,\n",
            "            0,     0,     0,     0,     0,     0,     0,     0])\n",
            "Masks: tensor([1, 1, 1, 1, 1, 1, 1, 1, 1, 1, 1, 1, 1, 1, 1, 1, 1, 1, 1, 1, 1, 1, 1, 1,\n",
            "        1, 1, 1, 1, 1, 1, 1, 1, 1, 1, 1, 1, 1, 1, 1, 1, 1, 0, 0, 0, 0, 0, 0, 0,\n",
            "        0, 0, 0, 0, 0, 0, 0, 0, 0, 0, 0, 0, 0, 0, 0, 0, 0, 0, 0, 0, 0, 0, 0, 0,\n",
            "        0, 0, 0, 0, 0, 0, 0, 0, 0, 0, 0, 0, 0, 0, 0, 0, 0, 0, 0, 0, 0, 0, 0, 0,\n",
            "        0, 0, 0, 0, 0, 0, 0, 0, 0, 0, 0, 0, 0, 0, 0, 0, 0, 0, 0, 0, 0, 0, 0, 0,\n",
            "        0, 0, 0, 0, 0, 0, 0, 0])\n"
          ]
        }
      ]
    },
    {
      "cell_type": "markdown",
      "metadata": {
        "id": "jjmykxoGE-1u"
      },
      "source": [
        "map the labels to the tokens of test data set"
      ]
    },
    {
      "cell_type": "code",
      "metadata": {
        "id": "TDBXjXleE_Cz"
      },
      "source": [
        "# New labels for all of the input sentences.\n",
        "new_labels = []\n",
        "\n",
        "# The special label ID we'll give to \"extra\" tokens.\n",
        "null_label_id = -100\n",
        "\n",
        "# For each sentence...\n",
        "for (sen, orig_labels) in zip(input_ids, labels):\n",
        "\n",
        "    # Create a new list to hold the adjusted labels for this sentence.\n",
        "    padded_labels = []\n",
        "\n",
        "    # This will be our index into the original label list.\n",
        "    orig_labels_i = 0\n",
        "\n",
        "    # For each token in the padded sentence...\n",
        "    for token_id in sen:\n",
        "\n",
        "        # Pull the value out of the tensor.\n",
        "        token_id = token_id.numpy().item()\n",
        "\n",
        "        # If `[PAD]`, `[CLS]`, or `[SEP]`...\n",
        "        if (token_id == tokenizer.pad_token_id) or \\\n",
        "            (token_id == tokenizer.cls_token_id) or \\\n",
        "            (token_id == tokenizer.sep_token_id):\n",
        "\n",
        "            # Assign it the null label.\n",
        "            padded_labels.append(null_label_id)\n",
        "\n",
        "        # If the token string starts with \"##\"...\n",
        "        elif tokenizer.convert_ids_to_tokens(token_id)[0:2] == '##':\n",
        "\n",
        "            # It's a subword token, and not part of the original dataset, so\n",
        "            # assign it the null label.\n",
        "            padded_labels.append(label_2_index_map[orig_labels[orig_labels_i-1]])\n",
        "\n",
        "        # If it's not any of the above...\n",
        "        else:\n",
        "\n",
        "            # This token corresponds to one of the original ones, so assign it\n",
        "            # it's original label.\n",
        "\n",
        "            # Look up the label for this token.\n",
        "            label_str = orig_labels[orig_labels_i]\n",
        "\n",
        "            # Map the label to its ID, and assign it.\n",
        "            padded_labels.append(label_2_index_map[label_str])\n",
        "\n",
        "            # Increment our index into the original labels list.\n",
        "            orig_labels_i += 1\n",
        "\n",
        "    # If we did this right, then the new `padded_labels` list should match\n",
        "    # the length of the tokenized sentence.\n",
        "    assert(len(sen) == len(padded_labels))\n",
        "\n",
        "    # Store the updated labels list for this sentence.\n",
        "    new_labels.append(padded_labels)\n"
      ],
      "execution_count": null,
      "outputs": []
    },
    {
      "cell_type": "markdown",
      "metadata": {
        "id": "vC0vTYP8FT8b"
      },
      "source": []
    },
    {
      "cell_type": "code",
      "metadata": {
        "colab": {
          "base_uri": "https://localhost:8080/"
        },
        "id": "Nh9IbE3_FUFZ",
        "outputId": "180108d6-14a8-43a4-8a6c-e02e1d5211d0"
      },
      "source": [
        "print('\\nSentence:    ', sentences[2])\n",
        "print('\\nLabels:      ', labels[2])\n",
        "print('\\nBERT Tokens: ', tokenizer.tokenize(' '.join(sentences[2])))\n",
        "print('\\nToken IDs:   ', input_ids[2])\n",
        "print('\\nMask:        ', attention_masks[2])\n",
        "print('\\nNew Labels:  ', new_labels[2])"
      ],
      "execution_count": null,
      "outputs": [
        {
          "output_type": "stream",
          "name": "stdout",
          "text": [
            "\n",
            "Sentence:     ['This', 'report', 'of', 'torsade', 'de', 'pointes', 'ventricular', 'tachycardia', 'during', 'intermittent', 'dobutamine', 'supports', 'the', 'hypothesis', 'that', 'unpredictable', 'fatal', 'arrhythmias', 'may', 'occur', 'even', 'with', 'low', 'doses', 'and', 'in', 'patients', 'with', 'no', 'history', 'of', 'significant', 'rhythm', 'disturbances', '.']\n",
            "\n",
            "Labels:       ['O', 'O', 'O', 'B', 'I', 'I', 'B', 'I', 'O', 'O', 'O', 'O', 'O', 'O', 'O', 'O', 'O', 'B', 'O', 'O', 'O', 'O', 'O', 'O', 'O', 'O', 'O', 'O', 'O', 'O', 'O', 'O', 'O', 'O', 'O']\n",
            "\n",
            "BERT Tokens:  ['This', 'report', 'of', 'to', '##rsa', '##de', 'de', 'point', '##es', 'vent', '##ric', '##ular', 'ta', '##chy', '##card', '##ia', 'during', 'intermittent', 'do', '##but', '##amine', 'supports', 'the', 'hypothesis', 'that', 'unpredictable', 'fatal', 'a', '##rr', '##hy', '##th', '##mia', '##s', 'may', 'occur', 'even', 'with', 'low', 'doses', 'and', 'in', 'patients', 'with', 'no', 'history', 'of', 'significant', 'rhythm', 'disturbance', '##s', '.']\n",
            "\n",
            "Token IDs:    tensor([  101,  1188,  2592,  1104,  1106, 24129,  2007,  1260,  1553,  1279,\n",
            "        21828,  4907,  5552, 27629,  8992, 10542,  1465,  1219, 27946,  1202,\n",
            "        16442, 19577,  6253,  1103, 11066,  1115, 24213, 11874,   170, 11096,\n",
            "         7889,  1582,  8191,  1116,  1336,  4467,  1256,  1114,  1822, 24429,\n",
            "         1105,  1107,  4420,  1114,  1185,  1607,  1104,  2418,  6795, 19019,\n",
            "         1116,   119,   102,     0,     0,     0,     0,     0,     0,     0,\n",
            "            0,     0,     0,     0,     0,     0,     0,     0,     0,     0,\n",
            "            0,     0,     0,     0,     0,     0,     0,     0,     0,     0,\n",
            "            0,     0,     0,     0,     0,     0,     0,     0,     0,     0,\n",
            "            0,     0,     0,     0,     0,     0,     0,     0,     0,     0,\n",
            "            0,     0,     0,     0,     0,     0,     0,     0,     0,     0,\n",
            "            0,     0,     0,     0,     0,     0,     0,     0,     0,     0,\n",
            "            0,     0,     0,     0,     0,     0,     0,     0])\n",
            "\n",
            "Mask:         tensor([1, 1, 1, 1, 1, 1, 1, 1, 1, 1, 1, 1, 1, 1, 1, 1, 1, 1, 1, 1, 1, 1, 1, 1,\n",
            "        1, 1, 1, 1, 1, 1, 1, 1, 1, 1, 1, 1, 1, 1, 1, 1, 1, 1, 1, 1, 1, 1, 1, 1,\n",
            "        1, 1, 1, 1, 1, 0, 0, 0, 0, 0, 0, 0, 0, 0, 0, 0, 0, 0, 0, 0, 0, 0, 0, 0,\n",
            "        0, 0, 0, 0, 0, 0, 0, 0, 0, 0, 0, 0, 0, 0, 0, 0, 0, 0, 0, 0, 0, 0, 0, 0,\n",
            "        0, 0, 0, 0, 0, 0, 0, 0, 0, 0, 0, 0, 0, 0, 0, 0, 0, 0, 0, 0, 0, 0, 0, 0,\n",
            "        0, 0, 0, 0, 0, 0, 0, 0])\n",
            "\n",
            "New Labels:   [-100, 2, 2, 2, 0, 0, 0, 1, 1, 1, 0, 0, 0, 1, 1, 1, 1, 2, 2, 2, 2, 2, 2, 2, 2, 2, 2, 2, 0, 0, 0, 0, 0, 0, 2, 2, 2, 2, 2, 2, 2, 2, 2, 2, 2, 2, 2, 2, 2, 2, 2, 2, -100, -100, -100, -100, -100, -100, -100, -100, -100, -100, -100, -100, -100, -100, -100, -100, -100, -100, -100, -100, -100, -100, -100, -100, -100, -100, -100, -100, -100, -100, -100, -100, -100, -100, -100, -100, -100, -100, -100, -100, -100, -100, -100, -100, -100, -100, -100, -100, -100, -100, -100, -100, -100, -100, -100, -100, -100, -100, -100, -100, -100, -100, -100, -100, -100, -100, -100, -100, -100, -100, -100, -100, -100, -100, -100, -100]\n"
          ]
        }
      ]
    },
    {
      "cell_type": "markdown",
      "metadata": {
        "id": "iYZkQ9CaFfl4"
      },
      "source": []
    },
    {
      "cell_type": "code",
      "metadata": {
        "id": "YN8YlUhHFfu6"
      },
      "source": [
        "# Convert the lists into PyTorch tensors.\n",
        "\n",
        "# `input_ids` is a list of tensor arrays--stack them into a matrix.\n",
        "pt_input_ids = torch.stack(input_ids, dim=0)\n",
        "\n",
        "# `attention_masks` is a list of tensor arrays--stack them into a matrix.\n",
        "pt_attention_masks = torch.stack(attention_masks, dim=0)\n",
        "\n",
        "# Labels is a list of lists. Convert it into a tensor matrix.\n",
        "pt_labels = torch.tensor(new_labels, dtype=torch.long)"
      ],
      "execution_count": null,
      "outputs": []
    },
    {
      "cell_type": "markdown",
      "metadata": {
        "id": "t1HBidUUFhMX"
      },
      "source": []
    },
    {
      "cell_type": "code",
      "metadata": {
        "id": "Ut8DimB0Fhlb"
      },
      "source": [
        "# Set the batch size.\n",
        "batch_size = 32\n",
        "\n",
        "# Create the DataLoader.\n",
        "prediction_data = TensorDataset(pt_input_ids, pt_attention_masks, pt_labels)\n",
        "prediction_sampler = SequentialSampler(prediction_data)\n",
        "prediction_dataloader = DataLoader(prediction_data, sampler=prediction_sampler, batch_size=batch_size)"
      ],
      "execution_count": null,
      "outputs": []
    },
    {
      "cell_type": "markdown",
      "metadata": {
        "id": "wLcyL3hCFquS"
      },
      "source": []
    },
    {
      "cell_type": "code",
      "metadata": {
        "colab": {
          "base_uri": "https://localhost:8080/"
        },
        "id": "9zrccZ0JFq2_",
        "outputId": "063278f3-da66-46e2-f0cf-4fd5cedfdd0b"
      },
      "source": [
        "# Prediction on test set\n",
        "\n",
        "print('Predicting labels for {:,} test sentences...'.format(len(pt_input_ids)))\n",
        "\n",
        "# Put model in evaluation mode\n",
        "model.eval()\n",
        "\n",
        "# Tracking variables\n",
        "predictions , true_labels = [], []\n",
        "\n",
        "# Predict\n",
        "for batch in prediction_dataloader:\n",
        "  # Add batch to GPU\n",
        "  batch = tuple(t.to(device) for t in batch)\n",
        "\n",
        "  # Unpack the inputs from our dataloader\n",
        "  b_input_ids, b_input_mask, b_labels = batch\n",
        "\n",
        "  # Telling the model not to compute or store gradients, saving memory and\n",
        "  # speeding up prediction\n",
        "  with torch.no_grad():\n",
        "      # Forward pass, calculate logit predictions\n",
        "      outputs = model(b_input_ids, token_type_ids=None,\n",
        "                      attention_mask=b_input_mask)\n",
        "\n",
        "  logits = outputs[0]\n",
        "\n",
        "  # Move logits and labels to CPU\n",
        "  logits = logits.detach().cpu().numpy()\n",
        "  label_ids = b_labels.to('cpu').numpy()\n",
        "\n",
        "  # Store predictions and true labels\n",
        "  predictions.append(logits)\n",
        "  true_labels.append(label_ids)\n",
        "\n",
        "print('    DONE.')"
      ],
      "execution_count": null,
      "outputs": [
        {
          "output_type": "stream",
          "name": "stdout",
          "text": [
            "Predicting labels for 4,797 test sentences...\n",
            "    DONE.\n"
          ]
        }
      ]
    },
    {
      "cell_type": "markdown",
      "metadata": {
        "id": "IEaXpEvXFz6p"
      },
      "source": []
    },
    {
      "cell_type": "code",
      "metadata": {
        "colab": {
          "base_uri": "https://localhost:8080/"
        },
        "id": "G4QLKLF9F0Iu",
        "outputId": "5d91935c-5dc6-4f41-d9f0-4f37044b0457"
      },
      "source": [
        "from sklearn.metrics import f1_score\n",
        "\n",
        "new = np.array(predictions)\n",
        "\n",
        "print(new.shape)\n",
        "\n",
        "# First, combine the results across the batches.\n",
        "all_predictions = np.concatenate(predictions, axis=0)\n",
        "all_true_labels = np.concatenate(true_labels, axis=0)\n",
        "\n",
        "print(\"After flattening the batches, the predictions have shape:\")\n",
        "print(\"    \", all_predictions.shape)\n",
        "\n",
        "# Next, let's remove the third dimension (axis 2), which has the scores\n",
        "# for all 18 labels.\n",
        "\n",
        "# For each token, pick the label with the highest score.\n",
        "predicted_label_ids = np.argmax(all_predictions, axis=2)\n",
        "\n",
        "print(\"\\nAfter choosing the highest scoring label for each token:\")\n",
        "print(\"    \", predicted_label_ids.shape)\n",
        "\n",
        "# Finally, for the sake of scoring, we don't actually care about the different\n",
        "# sentences--we just look at whether the model made correct predictions for the\n",
        "# individual tokens.\n",
        "\n",
        "# Eliminate axis 0, which corresponds to the sentences.\n",
        "predicted_label_ids = np.concatenate(predicted_label_ids, axis=0)\n",
        "all_true_labels = np.concatenate(all_true_labels, axis=0)\n",
        "\n",
        "print(\"\\nAfter flattening the sentences, we have predictions:\")\n",
        "print(\"    \", predicted_label_ids.shape)\n",
        "print(\"and ground truth:\")\n",
        "print(\"    \", all_true_labels.shape)"
      ],
      "execution_count": null,
      "outputs": [
        {
          "output_type": "stream",
          "name": "stdout",
          "text": [
            "(300,)\n",
            "After flattening the batches, the predictions have shape:\n",
            "     (4797, 128, 4)\n",
            "\n",
            "After choosing the highest scoring label for each token:\n",
            "     (4797, 128)\n",
            "\n",
            "After flattening the sentences, we have predictions:\n",
            "     (614016,)\n",
            "and ground truth:\n",
            "     (614016,)\n"
          ]
        },
        {
          "output_type": "stream",
          "name": "stderr",
          "text": [
            "/usr/local/lib/python3.7/dist-packages/ipykernel_launcher.py:3: VisibleDeprecationWarning: Creating an ndarray from ragged nested sequences (which is a list-or-tuple of lists-or-tuples-or ndarrays with different lengths or shapes) is deprecated. If you meant to do this, you must specify 'dtype=object' when creating the ndarray.\n",
            "  This is separate from the ipykernel package so we can avoid doing imports until\n"
          ]
        }
      ]
    },
    {
      "cell_type": "markdown",
      "metadata": {
        "id": "GgJXwBwuGpFf"
      },
      "source": []
    },
    {
      "cell_type": "code",
      "metadata": {
        "colab": {
          "base_uri": "https://localhost:8080/"
        },
        "id": "8X7Xx6BxGpR3",
        "outputId": "4c4b20c6-fbde-4020-98d2-2e18f661b863"
      },
      "source": [
        "# Construct new lists of predictions which don't include any null tokens.\n",
        "real_token_predictions = []\n",
        "real_token_labels = []\n",
        "\n",
        "# For each of the input tokens in the dataset...\n",
        "for i in range(len(all_true_labels)):\n",
        "\n",
        "    # If it's not a token with a null label...\n",
        "    if not all_true_labels[i] == -100:\n",
        "\n",
        "        # Add the prediction and the ground truth to their lists.\n",
        "        real_token_predictions.append(predicted_label_ids[i])\n",
        "        real_token_labels.append(all_true_labels[i])\n",
        "\n",
        "print(\"Before filtering out `null` tokens, length = {:,}\".format(len(all_true_labels)))\n",
        "print(\" After filtering out `null` tokens, length = {:,}\".format(len(real_token_labels)))\n"
      ],
      "execution_count": null,
      "outputs": [
        {
          "output_type": "stream",
          "name": "stdout",
          "text": [
            "Before filtering out `null` tokens, length = 614,016\n",
            " After filtering out `null` tokens, length = 172,750\n"
          ]
        }
      ]
    },
    {
      "cell_type": "markdown",
      "metadata": {
        "id": "xIigQ-Z0H2kD"
      },
      "source": [
        "f1 score\n",
        "\n"
      ]
    },
    {
      "cell_type": "code",
      "metadata": {
        "colab": {
          "base_uri": "https://localhost:8080/"
        },
        "id": "njsBKW9EH2yJ",
        "outputId": "3023cbca-d2c2-457b-99af-ca050b8cfa51"
      },
      "source": [
        "from sklearn.metrics import f1_score\n",
        "\n",
        "# Calculate the F1 score. Because this is a multi-class problem, we have\n",
        "# to set the `average` parameter.\n",
        "f1 = f1_score(real_token_labels, real_token_predictions, average='micro')\n",
        "\n",
        "print (\"F1 score: {:.2%}\".format(f1))"
      ],
      "execution_count": null,
      "outputs": [
        {
          "output_type": "stream",
          "name": "stdout",
          "text": [
            "F1 score: 97.31%\n"
          ]
        }
      ]
    },
    {
      "cell_type": "markdown",
      "metadata": {
        "id": "MwSdo6FRp0un"
      },
      "source": []
    },
    {
      "cell_type": "code",
      "metadata": {
        "colab": {
          "base_uri": "https://localhost:8080/"
        },
        "id": "RZYN7DVXp05r",
        "outputId": "9b6c1420-dddd-4efb-d4f7-55943b2dacbe"
      },
      "source": [
        "import os\n",
        "\n",
        "# Saving best-practices: if you use defaults names for the model, you can reload it using from_pretrained()\n",
        "\n",
        "output_dir = '/content/drive/MyDrive/MedBrain/model_save_Final-2/'\n",
        "\n",
        "# Create output directory if needed\n",
        "if not os.path.exists(output_dir):\n",
        "    os.makedirs(output_dir)\n",
        "\n",
        "print(\"Saving model to %s\" % output_dir)\n",
        "\n",
        "# Save a trained model, configuration and tokenizer using `save_pretrained()`.\n",
        "# They can then be reloaded using `from_pretrained()`\n",
        "model_to_save = model.module if hasattr(model, 'module') else model  # Take care of distributed/parallel training\n",
        "model_to_save.save_pretrained(output_dir)\n",
        "tokenizer.save_pretrained(output_dir)\n",
        "\n",
        "# Good practice: save your training arguments together with the trained model\n",
        "# torch.save(args, os.path.join(output_dir, 'training_args.bin'))"
      ],
      "execution_count": null,
      "outputs": [
        {
          "output_type": "stream",
          "name": "stdout",
          "text": [
            "Saving model to /content/drive/MyDrive/MedBrain/model_save_Final-2/\n"
          ]
        },
        {
          "output_type": "execute_result",
          "data": {
            "text/plain": [
              "('/content/drive/MyDrive/MedBrain/model_save_Final-2/tokenizer_config.json',\n",
              " '/content/drive/MyDrive/MedBrain/model_save_Final-2/special_tokens_map.json',\n",
              " '/content/drive/MyDrive/MedBrain/model_save_Final-2/vocab.txt',\n",
              " '/content/drive/MyDrive/MedBrain/model_save_Final-2/added_tokens.json')"
            ]
          },
          "metadata": {},
          "execution_count": 78
        }
      ]
    },
    {
      "cell_type": "markdown",
      "metadata": {
        "id": "z97I0FyITQtN"
      },
      "source": []
    },
    {
      "cell_type": "code",
      "metadata": {
        "colab": {
          "base_uri": "https://localhost:8080/"
        },
        "id": "gyJXzjgOF2EQ",
        "outputId": "dfab5565-aec0-41fa-a682-347f343c1937"
      },
      "source": [
        "from google.colab import drive\n",
        "drive.mount('/content/drive')"
      ],
      "execution_count": null,
      "outputs": [
        {
          "output_type": "stream",
          "name": "stdout",
          "text": [
            "Drive already mounted at /content/drive; to attempt to forcibly remount, call drive.mount(\"/content/drive\", force_remount=True).\n"
          ]
        }
      ]
    },
    {
      "cell_type": "code",
      "metadata": {
        "colab": {
          "base_uri": "https://localhost:8080/"
        },
        "id": "UyNpAxHbTvGN",
        "outputId": "911cf5d2-1c5e-45f5-87c5-7501e2e0bd8e"
      },
      "source": [
        "!pip install transformers\n",
        "!tar -C /content/drive/MyDrive/MedBrain/ -cvzf model_save_Final-2.tar.gz model_save_Final-2\n"
      ],
      "execution_count": null,
      "outputs": [
        {
          "output_type": "stream",
          "name": "stdout",
          "text": [
            "Requirement already satisfied: transformers in /usr/local/lib/python3.7/dist-packages (4.17.0)\n",
            "Requirement already satisfied: numpy>=1.17 in /usr/local/lib/python3.7/dist-packages (from transformers) (1.21.5)\n",
            "Requirement already satisfied: pyyaml>=5.1 in /usr/local/lib/python3.7/dist-packages (from transformers) (6.0)\n",
            "Requirement already satisfied: importlib-metadata in /usr/local/lib/python3.7/dist-packages (from transformers) (4.11.2)\n",
            "Requirement already satisfied: packaging>=20.0 in /usr/local/lib/python3.7/dist-packages (from transformers) (21.3)\n",
            "Requirement already satisfied: sacremoses in /usr/local/lib/python3.7/dist-packages (from transformers) (0.0.49)\n",
            "Requirement already satisfied: huggingface-hub<1.0,>=0.1.0 in /usr/local/lib/python3.7/dist-packages (from transformers) (0.4.0)\n",
            "Requirement already satisfied: requests in /usr/local/lib/python3.7/dist-packages (from transformers) (2.23.0)\n",
            "Requirement already satisfied: tqdm>=4.27 in /usr/local/lib/python3.7/dist-packages (from transformers) (4.63.0)\n",
            "Requirement already satisfied: regex!=2019.12.17 in /usr/local/lib/python3.7/dist-packages (from transformers) (2019.12.20)\n",
            "Requirement already satisfied: filelock in /usr/local/lib/python3.7/dist-packages (from transformers) (3.6.0)\n",
            "Requirement already satisfied: tokenizers!=0.11.3,>=0.11.1 in /usr/local/lib/python3.7/dist-packages (from transformers) (0.11.6)\n",
            "Requirement already satisfied: typing-extensions>=3.7.4.3 in /usr/local/lib/python3.7/dist-packages (from huggingface-hub<1.0,>=0.1.0->transformers) (3.10.0.2)\n",
            "Requirement already satisfied: pyparsing!=3.0.5,>=2.0.2 in /usr/local/lib/python3.7/dist-packages (from packaging>=20.0->transformers) (3.0.7)\n",
            "Requirement already satisfied: zipp>=0.5 in /usr/local/lib/python3.7/dist-packages (from importlib-metadata->transformers) (3.7.0)\n",
            "Requirement already satisfied: certifi>=2017.4.17 in /usr/local/lib/python3.7/dist-packages (from requests->transformers) (2021.10.8)\n",
            "Requirement already satisfied: idna<3,>=2.5 in /usr/local/lib/python3.7/dist-packages (from requests->transformers) (2.10)\n",
            "Requirement already satisfied: urllib3!=1.25.0,!=1.25.1,<1.26,>=1.21.1 in /usr/local/lib/python3.7/dist-packages (from requests->transformers) (1.24.3)\n",
            "Requirement already satisfied: chardet<4,>=3.0.2 in /usr/local/lib/python3.7/dist-packages (from requests->transformers) (3.0.4)\n",
            "Requirement already satisfied: click in /usr/local/lib/python3.7/dist-packages (from sacremoses->transformers) (7.1.2)\n",
            "Requirement already satisfied: six in /usr/local/lib/python3.7/dist-packages (from sacremoses->transformers) (1.15.0)\n",
            "Requirement already satisfied: joblib in /usr/local/lib/python3.7/dist-packages (from sacremoses->transformers) (1.1.0)\n",
            "model_save_Final-2/\n",
            "model_save_Final-2/config.json\n",
            "model_save_Final-2/pytorch_model.bin\n",
            "model_save_Final-2/tokenizer_config.json\n",
            "model_save_Final-2/special_tokens_map.json\n",
            "model_save_Final-2/vocab.txt\n"
          ]
        }
      ]
    },
    {
      "cell_type": "code",
      "metadata": {
        "id": "NuoZ8ED8Ibsv"
      },
      "source": [
        "import tarfile\n",
        "\n",
        "def read_model(model_path: str=None, s3_bucket: str=None, file_prefix: str=None):\n",
        "      if s3_bucket and file_prefix:\n",
        "            obj = s3.get_object(Bucket=s3_bucket, Key=file_prefix)\n",
        "            bytestream = io.BytesIO(obj['Body'].read())\n",
        "            tar = tarfile.open(fileobj=bytestream, mode=\"r:gz\")\n",
        "            for member in tar.getmembers():\n",
        "              if member.name.endswith(\".bin\"):\n",
        "                  return tar.extractfile(member)\n",
        "      if model_path:\n",
        "          tar = tarfile.open(model_path, mode=\"r:gz\")\n",
        "          for member in tar.getmembers():\n",
        "              if member.name.endswith(\".bin\"):\n",
        "                  return tar.extractfile(member)"
      ],
      "execution_count": null,
      "outputs": []
    },
    {
      "cell_type": "code",
      "metadata": {
        "id": "v7MwtlhIIeW3",
        "colab": {
          "base_uri": "https://localhost:8080/",
          "height": 235
        },
        "outputId": "cccba887-e8e5-458c-e393-0661a6249a78"
      },
      "source": [
        "import io\n",
        "import torch\n",
        "from transformers import AutoConfig, AutoModelForTokenClassification, AutoTokenizer\n",
        "\n",
        "file_object = read_model(model_path=\"/content/model_save_Final.tar.gz\")\n",
        "# read = file_object.read(20)\n",
        "# print (io.BytesIO(read))\n",
        "\n",
        "config = AutoConfig.from_pretrained(f'/content/drive/MyDrive/MedBrain/model_save_Final/config.json')\n",
        "device = torch.device(\"cpu\")\n",
        "state = torch.load(io.BytesIO(file_object.read()),map_location=torch.device('cpu'))"
      ],
      "execution_count": null,
      "outputs": [
        {
          "output_type": "error",
          "ename": "NameError",
          "evalue": "ignored",
          "traceback": [
            "\u001b[0;31m---------------------------------------------------------------------------\u001b[0m",
            "\u001b[0;31mNameError\u001b[0m                                 Traceback (most recent call last)",
            "\u001b[0;32m<ipython-input-26-a4b6cbe87151>\u001b[0m in \u001b[0;36m<module>\u001b[0;34m()\u001b[0m\n\u001b[1;32m      3\u001b[0m \u001b[0;32mfrom\u001b[0m \u001b[0mtransformers\u001b[0m \u001b[0;32mimport\u001b[0m \u001b[0mAutoConfig\u001b[0m\u001b[0;34m,\u001b[0m \u001b[0mAutoModelForTokenClassification\u001b[0m\u001b[0;34m,\u001b[0m \u001b[0mAutoTokenizer\u001b[0m\u001b[0;34m\u001b[0m\u001b[0;34m\u001b[0m\u001b[0m\n\u001b[1;32m      4\u001b[0m \u001b[0;34m\u001b[0m\u001b[0m\n\u001b[0;32m----> 5\u001b[0;31m \u001b[0mfile_object\u001b[0m \u001b[0;34m=\u001b[0m \u001b[0mread_model\u001b[0m\u001b[0;34m(\u001b[0m\u001b[0mmodel_path\u001b[0m\u001b[0;34m=\u001b[0m\u001b[0;34m\"/content/model_save_Final.tar.gz\"\u001b[0m\u001b[0;34m)\u001b[0m\u001b[0;34m\u001b[0m\u001b[0;34m\u001b[0m\u001b[0m\n\u001b[0m\u001b[1;32m      6\u001b[0m \u001b[0;31m# read = file_object.read(20)\u001b[0m\u001b[0;34m\u001b[0m\u001b[0;34m\u001b[0m\u001b[0;34m\u001b[0m\u001b[0m\n\u001b[1;32m      7\u001b[0m \u001b[0;31m# print (io.BytesIO(read))\u001b[0m\u001b[0;34m\u001b[0m\u001b[0;34m\u001b[0m\u001b[0;34m\u001b[0m\u001b[0m\n",
            "\u001b[0;31mNameError\u001b[0m: name 'read_model' is not defined"
          ]
        }
      ]
    },
    {
      "cell_type": "code",
      "metadata": {
        "id": "VkrSBce9Nje5"
      },
      "source": [
        "model = AutoModelForTokenClassification.from_pretrained(\n",
        "                        pretrained_model_name_or_path=None, state_dict=state, config=config)"
      ],
      "execution_count": null,
      "outputs": []
    },
    {
      "cell_type": "code",
      "metadata": {
        "id": "Ub9lPPp3N3jr"
      },
      "source": [
        "from transformers import AutoConfig, AutoModelForTokenClassification, AutoTokenizer\n",
        "\n",
        "tokenizer = AutoTokenizer.from_pretrained('/content/drive/MyDrive/MedBrain/model_save_Final/')"
      ],
      "execution_count": null,
      "outputs": []
    },
    {
      "cell_type": "code",
      "metadata": {
        "colab": {
          "base_uri": "https://localhost:8080/"
        },
        "id": "qf1n6fRMOu0U",
        "outputId": "e2019271-6761-40e4-8471-c6bd8389e537"
      },
      "source": [
        "import numpy as np\n",
        "\n",
        "# Map each unique label to an integer.\n",
        "label_2_index_map = {'B': 0, 'I': 1, 'O': 2, 'X': -100}\n",
        "index_2_label_map = {0: 'B', 1: 'I', 2: 'O', -100: 'X'}\n",
        "\n",
        "test_sentence = \"\"\" A tumor was found in the left ovary \"\"\"\n",
        "tokenized_sentence = tokenizer.encode(test_sentence)\n",
        "input_ids = torch.tensor([tokenized_sentence])\n",
        "model.eval()\n",
        "with torch.no_grad():\n",
        "    output = model(input_ids)\n",
        "label_indices = np.argmax(output[0].numpy(), axis=2)\n",
        "# join bpe split tokens\n",
        "tokens = tokenizer.convert_ids_to_tokens(input_ids.numpy()[0])\n",
        "new_tokens, new_labels = [], []\n",
        "for token, label_idx in zip(tokens, label_indices[0]):\n",
        "    if token.startswith(\"##\"):\n",
        "        new_tokens[-1] = new_tokens[-1] + token[2:]\n",
        "    else:\n",
        "        new_labels.append(index_2_label_map.get(label_idx))\n",
        "        new_tokens.append(token)\n",
        "ret = [{token: label} for token, label in zip(new_tokens, new_labels)]\n",
        "print (ret)"
      ],
      "execution_count": null,
      "outputs": [
        {
          "output_type": "stream",
          "name": "stdout",
          "text": [
            "[{'[CLS]': 'B'}, {'A': 'B'}, {'tumor': 'I'}, {'was': 'B'}, {'found': 'B'}, {'in': 'B'}, {'the': 'B'}, {'left': 'B'}, {'ovary': 'B'}, {'[SEP]': 'B'}]\n"
          ]
        }
      ]
    },
    {
      "cell_type": "code",
      "metadata": {
        "id": "5Fa-SSOkTQWf"
      },
      "source": [
        "from transformers import BertTokenizer, BertForTokenClassification\n",
        "import os\n",
        "model_dir = '/content/drive/MyDrive/MedBrain/model_save_Final/'\n",
        "\n",
        "tokenizer = BertTokenizer(vocab_file=os.path.join(model_dir, \"vocab.txt\"), do_lower_case=False)\n",
        "model = BertForTokenClassification.from_pretrained(\n",
        "    model_dir,\n",
        "    # we have 4 labels B, I, O and [PAD]\n",
        "    num_labels=4,\n",
        "    output_attentions = False,\n",
        "    output_hidden_states = False\n",
        ")\n"
      ],
      "execution_count": null,
      "outputs": []
    },
    {
      "cell_type": "markdown",
      "metadata": {
        "id": "-GoMAt-qVUxj"
      },
      "source": []
    },
    {
      "cell_type": "code",
      "metadata": {
        "colab": {
          "base_uri": "https://localhost:8080/"
        },
        "id": "gBI3r_V5Va75",
        "outputId": "7abc0d2e-7d5a-4709-8edc-74020bd3f136"
      },
      "source": [
        "import torch\n",
        "import numpy as np\n",
        "\n",
        "\n",
        "# Map each unique label to an integer.\n",
        "label_2_index_map = {'I': 0, 'B': 1, 'O': 2, 'X': -100}\n",
        "index_2_label_map = {0: 'I', 1: 'B', 2: 'O', -100: 'X'}\n",
        "\n",
        "if torch.cuda.is_available():\n",
        "\n",
        "    device = torch.device(\"cuda\")\n",
        "\n",
        "    print('%d GPU(s) are available. The type of the GPU(s) is: %s'% (torch.cuda.device_count(), torch.cuda.get_device_name(0)))\n",
        "\n",
        "else:\n",
        "    print('No GPU is available, using CPU instead.')\n",
        "    device = torch.device(\"cpu\")\n",
        "\n",
        "\n",
        "test_sentence = \"\"\" Periodontal disease, also known as gum disease, is a set of inflammatory conditions affecting the tissues surrounding the teeth.[3] In its early stage, called gingivitis, the gums become swollen, red, and may bleed.[3] In its more serious form, called periodontitis, the gums can pull away from the tooth, bone can be lost, and the teeth may loosen or fall out.[3] Bad breath may also occur.[1]\n",
        "\n",
        "Periodontal disease is generally due to bacteria in the mouth infecting the tissue around the teeth.[3] Factors that increase the risk of disease include smoking, diabetes, HIV/AIDS, family history, and certain medications.[1] Diagnosis is by inspecting the gum tissue around the teeth both visually and with a probe and X-rays looking for bone loss around the teeth.[1][5]\n",
        "\n",
        "Treatment involves good oral hygiene and regular professional teeth cleaning.[3] Recommended oral hygiene include daily brushing and flossing.[3] In certain cases antibiotics or dental surgery may be recommended.[6] Globally 538 million people were estimated to be affected in 2015.[4] In the United States nearly half of those over the age of 30 are affected to some degree, and about 70% of those over 65 have the condition.[3] Males are affected more often than females.[3] \"\"\"\n",
        "tokenized_sentence = tokenizer.encode(test_sentence)\n",
        "input_ids = torch.tensor([tokenized_sentence]).to(device)\n",
        "model.to(device)\n",
        "model.eval()\n",
        "with torch.no_grad():\n",
        "    output = model(input_ids)\n",
        "label_indices = np.argmax(output[0].to('cpu').numpy(), axis=2)\n",
        "# join bpe split tokens\n",
        "tokens = tokenizer.convert_ids_to_tokens(input_ids.to('cpu').numpy()[0])\n",
        "new_tokens, new_labels = [], []\n",
        "for token, label_idx in zip(tokens, label_indices[0]):\n",
        "    if token.startswith(\"##\"):\n",
        "        new_tokens[-1] = new_tokens[-1] + token[2:]\n",
        "    else:\n",
        "        new_labels.append(index_2_label_map.get(label_idx))\n",
        "        new_tokens.append(token)\n",
        "for token, label in zip(new_tokens, new_labels):\n",
        "    print(\"{}\\t{}\".format(label, token))\n",
        "\n",
        "# {'O': 0, 'I': 1, 'B': 2, 'X': -100}"
      ],
      "execution_count": null,
      "outputs": [
        {
          "output_type": "stream",
          "text": [
            "1 GPU(s) are available. The type of the GPU(s) is: Tesla T4\n",
            "O\t[CLS]\n",
            "B\tPeriodontal\n",
            "I\tdisease\n",
            "O\t,\n",
            "O\talso\n",
            "O\tknown\n",
            "O\tas\n",
            "B\tgum\n",
            "I\tdisease\n",
            "O\t,\n",
            "O\tis\n",
            "O\ta\n",
            "O\tset\n",
            "O\tof\n",
            "O\tinflammatory\n",
            "O\tconditions\n",
            "O\taffecting\n",
            "O\tthe\n",
            "O\ttissues\n",
            "O\tsurrounding\n",
            "O\tthe\n",
            "O\tteeth\n",
            "O\t.\n",
            "O\t[\n",
            "O\t3\n",
            "O\t]\n",
            "O\tIn\n",
            "O\tits\n",
            "O\tearly\n",
            "O\tstage\n",
            "O\t,\n",
            "O\tcalled\n",
            "B\tgingivitis\n",
            "O\t,\n",
            "O\tthe\n",
            "O\tgums\n",
            "O\tbecome\n",
            "O\tswollen\n",
            "O\t,\n",
            "O\tred\n",
            "O\t,\n",
            "O\tand\n",
            "O\tmay\n",
            "O\tbleed\n",
            "O\t.\n",
            "O\t[\n",
            "O\t3\n",
            "O\t]\n",
            "O\tIn\n",
            "O\tits\n",
            "O\tmore\n",
            "O\tserious\n",
            "O\tform\n",
            "O\t,\n",
            "O\tcalled\n",
            "B\tperiodontitis\n",
            "O\t,\n",
            "O\tthe\n",
            "O\tgums\n",
            "O\tcan\n",
            "O\tpull\n",
            "O\taway\n",
            "O\tfrom\n",
            "O\tthe\n",
            "O\ttooth\n",
            "O\t,\n",
            "O\tbone\n",
            "O\tcan\n",
            "O\tbe\n",
            "O\tlost\n",
            "O\t,\n",
            "O\tand\n",
            "O\tthe\n",
            "O\tteeth\n",
            "O\tmay\n",
            "O\tloosen\n",
            "O\tor\n",
            "O\tfall\n",
            "O\tout\n",
            "O\t.\n",
            "O\t[\n",
            "O\t3\n",
            "O\t]\n",
            "O\tBad\n",
            "O\tbreath\n",
            "O\tmay\n",
            "O\talso\n",
            "O\toccur\n",
            "O\t.\n",
            "O\t[\n",
            "O\t1\n",
            "O\t]\n",
            "B\tPeriodontal\n",
            "I\tdisease\n",
            "O\tis\n",
            "O\tgenerally\n",
            "O\tdue\n",
            "O\tto\n",
            "O\tbacteria\n",
            "O\tin\n",
            "O\tthe\n",
            "O\tmouth\n",
            "O\tinfecting\n",
            "O\tthe\n",
            "O\ttissue\n",
            "O\taround\n",
            "O\tthe\n",
            "O\tteeth\n",
            "O\t.\n",
            "O\t[\n",
            "O\t3\n",
            "O\t]\n",
            "O\tFactors\n",
            "O\tthat\n",
            "O\tincrease\n",
            "O\tthe\n",
            "O\trisk\n",
            "O\tof\n",
            "O\tdisease\n",
            "O\tinclude\n",
            "O\tsmoking\n",
            "O\t,\n",
            "B\tdiabetes\n",
            "O\t,\n",
            "B\tHIV\n",
            "I\t/\n",
            "I\tAIDS\n",
            "O\t,\n",
            "O\tfamily\n",
            "O\thistory\n",
            "O\t,\n",
            "O\tand\n",
            "O\tcertain\n",
            "O\tmedications\n",
            "O\t.\n",
            "O\t[\n",
            "O\t1\n",
            "O\t]\n",
            "O\tDiagnosis\n",
            "O\tis\n",
            "O\tby\n",
            "O\tinspecting\n",
            "O\tthe\n",
            "O\tgum\n",
            "O\ttissue\n",
            "O\taround\n",
            "O\tthe\n",
            "O\tteeth\n",
            "O\tboth\n",
            "O\tvisually\n",
            "O\tand\n",
            "O\twith\n",
            "O\ta\n",
            "O\tprobe\n",
            "O\tand\n",
            "O\tX\n",
            "O\t-\n",
            "O\trays\n",
            "O\tlooking\n",
            "O\tfor\n",
            "B\tbone\n",
            "I\tloss\n",
            "O\taround\n",
            "O\tthe\n",
            "O\tteeth\n",
            "O\t.\n",
            "O\t[\n",
            "O\t1\n",
            "O\t]\n",
            "O\t[\n",
            "O\t5\n",
            "O\t]\n",
            "O\tTreatment\n",
            "O\tinvolves\n",
            "O\tgood\n",
            "O\toral\n",
            "O\thygiene\n",
            "O\tand\n",
            "O\tregular\n",
            "O\tprofessional\n",
            "O\tteeth\n",
            "O\tcleaning\n",
            "O\t.\n",
            "O\t[\n",
            "O\t3\n",
            "O\t]\n",
            "O\tRecommended\n",
            "O\toral\n",
            "O\thygiene\n",
            "O\tinclude\n",
            "O\tdaily\n",
            "O\tbrushing\n",
            "O\tand\n",
            "O\tflossing\n",
            "O\t.\n",
            "O\t[\n",
            "O\t3\n",
            "O\t]\n",
            "O\tIn\n",
            "O\tcertain\n",
            "O\tcases\n",
            "O\tantibiotics\n",
            "O\tor\n",
            "O\tdental\n",
            "O\tsurgery\n",
            "O\tmay\n",
            "O\tbe\n",
            "O\trecommended\n",
            "O\t.\n",
            "O\t[\n",
            "O\t6\n",
            "O\t]\n",
            "O\tGlobally\n",
            "O\t538\n",
            "O\tmillion\n",
            "O\tpeople\n",
            "O\twere\n",
            "O\testimated\n",
            "O\tto\n",
            "O\tbe\n",
            "O\taffected\n",
            "O\tin\n",
            "O\t2015\n",
            "O\t.\n",
            "O\t[\n",
            "O\t4\n",
            "O\t]\n",
            "O\tIn\n",
            "O\tthe\n",
            "O\tUnited\n",
            "O\tStates\n",
            "O\tnearly\n",
            "O\thalf\n",
            "O\tof\n",
            "O\tthose\n",
            "O\tover\n",
            "O\tthe\n",
            "O\tage\n",
            "O\tof\n",
            "O\t30\n",
            "O\tare\n",
            "O\taffected\n",
            "O\tto\n",
            "O\tsome\n",
            "O\tdegree\n",
            "O\t,\n",
            "O\tand\n",
            "O\tabout\n",
            "O\t70\n",
            "O\t%\n",
            "O\tof\n",
            "O\tthose\n",
            "O\tover\n",
            "O\t65\n",
            "O\thave\n",
            "O\tthe\n",
            "O\tcondition\n",
            "O\t.\n",
            "O\t[\n",
            "O\t3\n",
            "O\t]\n",
            "O\tMales\n",
            "O\tare\n",
            "O\taffected\n",
            "O\tmore\n",
            "O\toften\n",
            "O\tthan\n",
            "O\tfemales\n",
            "O\t.\n",
            "O\t[\n",
            "O\t3\n",
            "O\t]\n",
            "O\t[SEP]\n"
          ],
          "name": "stdout"
        }
      ]
    },
    {
      "cell_type": "markdown",
      "metadata": {
        "id": "Gw_PGWmC0Yu6"
      },
      "source": []
    },
    {
      "cell_type": "code",
      "metadata": {
        "colab": {
          "base_uri": "https://localhost:8080/"
        },
        "id": "h9oJZQbP0Y6P",
        "outputId": "770b86bc-9bda-4179-a47f-ccf40fe824bf"
      },
      "source": [
        "!zip -r /content/my_bert.zip /content/drive/MyDrive/MedBrain/model_save_Final"
      ],
      "execution_count": null,
      "outputs": [
        {
          "output_type": "stream",
          "text": [
            "  adding: content/drive/MyDrive/MedBrain/model_save_Final/ (stored 0%)\n",
            "  adding: content/drive/MyDrive/MedBrain/model_save_Final/config.json (deflated 51%)\n",
            "  adding: content/drive/MyDrive/MedBrain/model_save_Final/pytorch_model.bin (deflated 7%)\n",
            "  adding: content/drive/MyDrive/MedBrain/model_save_Final/tokenizer_config.json (deflated 39%)\n",
            "  adding: content/drive/MyDrive/MedBrain/model_save_Final/special_tokens_map.json (deflated 40%)\n",
            "  adding: content/drive/MyDrive/MedBrain/model_save_Final/vocab.txt (deflated 49%)\n"
          ],
          "name": "stdout"
        }
      ]
    },
    {
      "cell_type": "code",
      "metadata": {
        "colab": {
          "base_uri": "https://localhost:8080/"
        },
        "id": "RLWKzXlh7YTG",
        "outputId": "b16ea2af-17f6-47b3-cdc5-af11b0647585"
      },
      "source": [
        "!pip install numpy\n"
      ],
      "execution_count": null,
      "outputs": [
        {
          "output_type": "stream",
          "text": [
            "Requirement already satisfied: numpy in /usr/local/lib/python3.6/dist-packages (1.19.4)\n"
          ],
          "name": "stdout"
        }
      ]
    },
    {
      "cell_type": "code",
      "source": [
        "from transformers import AutoTokenizer, AutoModel\n",
        "tokenizer = AutoTokenizer.from_pretrained(\"manueltonneau/clinicalcovid-bert-base-cased\")\n",
        "model = AutoModel.from_pretrained(\"manueltonneau/clinicalcovid-bert-base-cased\")"
      ],
      "metadata": {
        "colab": {
          "base_uri": "https://localhost:8080/",
          "height": 185,
          "referenced_widgets": [
            "40eb263bc20d40e9a142cdecd5c05360",
            "c7d90a8c8a5846bfa29a5e1bd71d0154",
            "545c3581135c4b64bc1971e8f1db4bb8",
            "a8b8f52e86754bcebcf6f0a57a8be279",
            "b0966d09aa924854b3983250e7680003",
            "b0e88b19ee78418888e053670b2bd9a2",
            "22899254c8ba4ac8b657a2f2afbf8a71",
            "ee783cb5e7ac4c0d99d38555fe8a6d19",
            "4192bc915e0e434e904b7e17685800fb",
            "745ce6f32e6e40a093f6049064a919a1",
            "c1022334bb9f4c4183ad0e2a059ef65b",
            "f623d40aa83e4197900a0ae46c62543e",
            "7554a3ad5e284f0ca6a40374dca1dc0d",
            "5fba35b3327e4a32a9bca2a91fda0b3c",
            "071dc1f383bd4e46b2d762682d77aa5c",
            "218cfc0b9d1341ddb7adadad3769c3b1",
            "1a2986ff629e44529c219f74bfc3692f",
            "30a35b8dbdb44a81bd002e99d6fcb658",
            "3924565793704a5091d0c729acef6da8",
            "11cff03a77a24c3cb6a7d24e0a4789f8",
            "2a6924d6388141cf9f5e76e21fea1a35",
            "7002c9ccf8024cab98b6364bcde73b46",
            "fe289f09ea1946ba8e5290ce679b70bc",
            "e3c2fe052b12481fae56a5888cc9fbc3",
            "be2cf9fedac84b748a40b17ca91cb285",
            "37a45dfef49e4894a856191d2c268ad1",
            "ed54ef39f7124924af2f893e374fac6d",
            "85e1f2c5044440e49bc05f126debd0ae",
            "4a4847d14eeb4003ae1d2ded4bbe248a",
            "03f315ed6b4d4fb5bebe088602218299",
            "a7408f2a8fff48dba28b195c879502ea",
            "b3e1d46ff2a442009ef240097ecd6a00",
            "b9c2757672ef4a8484df9aa15fe7fb95"
          ]
        },
        "id": "ZjY7Ovj3TmAh",
        "outputId": "c9c602e8-edfd-4193-f6ac-bcbc31e14c7a"
      },
      "execution_count": null,
      "outputs": [
        {
          "output_type": "display_data",
          "data": {
            "text/plain": [
              "Downloading:   0%|          | 0.00/313 [00:00<?, ?B/s]"
            ],
            "application/vnd.jupyter.widget-view+json": {
              "version_major": 2,
              "version_minor": 0,
              "model_id": "40eb263bc20d40e9a142cdecd5c05360"
            }
          },
          "metadata": {}
        },
        {
          "output_type": "display_data",
          "data": {
            "text/plain": [
              "Downloading:   0%|          | 0.00/208k [00:00<?, ?B/s]"
            ],
            "application/vnd.jupyter.widget-view+json": {
              "version_major": 2,
              "version_minor": 0,
              "model_id": "f623d40aa83e4197900a0ae46c62543e"
            }
          },
          "metadata": {}
        },
        {
          "output_type": "display_data",
          "data": {
            "text/plain": [
              "Downloading:   0%|          | 0.00/416M [00:00<?, ?B/s]"
            ],
            "application/vnd.jupyter.widget-view+json": {
              "version_major": 2,
              "version_minor": 0,
              "model_id": "fe289f09ea1946ba8e5290ce679b70bc"
            }
          },
          "metadata": {}
        },
        {
          "output_type": "stream",
          "name": "stderr",
          "text": [
            "Some weights of the model checkpoint at manueltonneau/clinicalcovid-bert-base-cased were not used when initializing BertModel: ['cls.predictions.transform.dense.weight', 'cls.predictions.transform.LayerNorm.bias', 'cls.predictions.decoder.bias', 'cls.seq_relationship.bias', 'cls.predictions.transform.dense.bias', 'cls.predictions.decoder.weight', 'cls.seq_relationship.weight', 'cls.predictions.bias', 'cls.predictions.transform.LayerNorm.weight']\n",
            "- This IS expected if you are initializing BertModel from the checkpoint of a model trained on another task or with another architecture (e.g. initializing a BertForSequenceClassification model from a BertForPreTraining model).\n",
            "- This IS NOT expected if you are initializing BertModel from the checkpoint of a model that you expect to be exactly identical (initializing a BertForSequenceClassification model from a BertForSequenceClassification model).\n"
          ]
        }
      ]
    }
  ]
}